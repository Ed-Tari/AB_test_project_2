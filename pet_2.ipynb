{
 "cells": [
  {
   "cell_type": "markdown",
   "metadata": {},
   "source": [
    "## Введение\n",
    "Помимо базовых функций, в приложении также имеется премиум-подписка, которая дает доступ к ряду важных дополнительных возможностей. Был проведен A/B тест, в рамках которого для новых пользователей из нескольких стран была изменена стоимость премиум-подписки* при покупке через две новые платежные системы. При этом стоимость пробного периода оставалась прежней."
   ]
  },
  {
   "cell_type": "markdown",
   "metadata": {},
   "source": [
    "### Задача:\n",
    "\n",
    "1. Проверить Был ли эксперимент успешен в целом.\n",
    "\n",
    "2. Проанализируйте, имеет ли нововведение смысл среди каких-либо конкретных групп пользователей.\n",
    "\n",
    "*Деньги за подписку списываются ежемесячно до тех пор, пока пользователь её не отменит.*\n"
   ]
  },
  {
   "cell_type": "markdown",
   "metadata": {},
   "source": [
    "## Данные \n",
    "\n",
    "### users_*.csv – информация о пользователях\n",
    "\n",
    "uid – идентификатор пользователя\n",
    "\n",
    "age – возраст\n",
    "\n",
    "attraction_coeff – коэффициент привлекательности (от 0 до 1000, лайки/просмотры *1000)\n",
    "\n",
    "coins – число монеток (внутренняя валюта)\n",
    "\n",
    "country – страна  \n",
    "\n",
    "visit_days – в какие дни после регистрации пользователь посещал приложение (напр. в 1, затем в 7)\n",
    "\n",
    "gender – пол\n",
    "\n",
    "age_filter_start  – фильтр поиска, мин. значение \n",
    "\n",
    "age_filter_end  – фильтр поиска, макс. значение \n",
    "\n",
    "views_count – число полученных оценок \n",
    "\n",
    "was_premium – был ли когда-либо премиум (либо пробный период премиум-статуса, либо купленный за деньги)\n",
    "\n",
    "is_premium –  является ли премиум\n",
    "\n",
    "total_revenue – нормированная выручка\n",
    "\n",
    "\n",
    "### transactions_*.csv – информация о платежах пользователей:\n",
    "\n",
    "uid – идентификатор пользователя\n",
    "\n",
    "country – страна\n",
    "\n",
    "joined_at – дата и время регистрации\n",
    "\n",
    "paid_at – дата и время покупки\n",
    "\n",
    "revenue – нормированная выручка\n",
    "\n",
    "payment_id – идентификатор платежа\n",
    "\n",
    "from_page – откуда пользователь перешел на страницу оплаты\n",
    "\n",
    "product_type – тип продукта (trial_premium – пробная премиум-подписка, premium_no_trial – премиум-подписка без пробной, coins – подписка за \n",
    "внутреннюю валюту, other_type – другое)\n"
   ]
  },
  {
   "cell_type": "markdown",
   "metadata": {},
   "source": [
    "### Файлы:\n",
    "\n",
    "users_test – информация о пользователях в тестовой группе. \n",
    "\n",
    "users_control_1 – информация о пользователях в первой контрольной группе. \n",
    "\n",
    "users_control_2 – информация о пользователях во второй контрольной группе . \n",
    "\n",
    "transactions_test – информация о платежах пользователей в тестовой группе. \n",
    "\n",
    "transactions_control_1 – информация о платежах пользователей в первой контрольной группе. \n",
    "\n",
    "transactions_control_2 – информация о платежах пользователей во второй контрольной группе \n",
    "  \n",
    "\n"
   ]
  },
  {
   "cell_type": "code",
   "execution_count": 142,
   "metadata": {},
   "outputs": [],
   "source": [
    "import numpy as np\n",
    "import pandas as pd\n",
    "import scipy.stats as ss\n",
    "import datetime\n",
    "\n",
    "import seaborn as sns\n",
    "import plotly.express as px\n",
    "import matplotlib.pyplot as plt\n",
    "from tqdm.auto import tqdm\n",
    "from scipy.stats import norm, mannwhitneyu\n",
    "from scipy import stats\n",
    "import plotly.express as px\n"
   ]
  },
  {
   "cell_type": "markdown",
   "metadata": {},
   "source": [
    "# Преобразуем данные"
   ]
  },
  {
   "cell_type": "code",
   "execution_count": 143,
   "metadata": {},
   "outputs": [],
   "source": [
    "def processing_a_data(df):\n",
    "   df.fillna('0', inplace=True)\n",
    "   df['visit_days'] = df['visit_days'].apply (lambda x : [int(i) for i in x.replace('.',',').split(',') ] )\n",
    "   df['count_of_visit_days'] = df['visit_days'].apply (lambda x : len(x) if x[0]!=0 else 0)\n",
    "   df[['was_premium','is_premium','coins']] = df[['was_premium','is_premium','coins']].astype(int)\n",
    "   lst_col = ['uid', 'age', 'attraction_coeff', 'coins', 'country', 'visit_days', 'count_of_visit_days',\n",
    "   'gender', 'age_filter_start', 'age_filter_end', 'views_count',\n",
    "   'was_premium', 'is_premium', 'total_revenue']\n",
    "   return df[lst_col] \n",
    "\n",
    "\n"
   ]
  },
  {
   "cell_type": "code",
   "execution_count": 144,
   "metadata": {},
   "outputs": [
    {
     "data": {
      "text/plain": [
       "4308"
      ]
     },
     "execution_count": 144,
     "metadata": {},
     "output_type": "execute_result"
    }
   ],
   "source": [
    "users_test = pd.read_csv('./users_test.csv',sep = ';') \n",
    "users_test = processing_a_data(users_test)\n",
    "users_test.uid.nunique()"
   ]
  },
  {
   "cell_type": "code",
   "execution_count": 145,
   "metadata": {},
   "outputs": [
    {
     "data": {
      "text/plain": [
       "4340"
      ]
     },
     "execution_count": 145,
     "metadata": {},
     "output_type": "execute_result"
    }
   ],
   "source": [
    "users_control_1 = pd.read_csv('./users_control_1.csv', sep = ';')\n",
    "users_control_1 = processing_a_data(users_control_1)\n",
    "users_control_1.uid.nunique()"
   ]
  },
  {
   "cell_type": "code",
   "execution_count": 146,
   "metadata": {},
   "outputs": [
    {
     "data": {
      "text/plain": [
       "4264"
      ]
     },
     "execution_count": 146,
     "metadata": {},
     "output_type": "execute_result"
    }
   ],
   "source": [
    "users_control_2 = pd.read_csv('./users_control_2.csv', sep = ';')\n",
    "users_control_2 = processing_a_data(users_control_2)\n",
    "users_control_2.uid.nunique()"
   ]
  },
  {
   "cell_type": "code",
   "execution_count": 147,
   "metadata": {},
   "outputs": [
    {
     "name": "stdout",
     "output_type": "stream",
     "text": [
      "<class 'pandas.core.frame.DataFrame'>\n",
      "RangeIndex: 273 entries, 0 to 272\n",
      "Data columns (total 8 columns):\n",
      " #   Column        Non-Null Count  Dtype         \n",
      "---  ------        --------------  -----         \n",
      " 0   uid           273 non-null    int64         \n",
      " 1   country       273 non-null    object        \n",
      " 2   joined_at     273 non-null    datetime64[ns]\n",
      " 3   paid_at       273 non-null    datetime64[ns]\n",
      " 4   revenue       273 non-null    int64         \n",
      " 5   payment_id    273 non-null    int64         \n",
      " 6   from_page     273 non-null    object        \n",
      " 7   product_type  273 non-null    object        \n",
      "dtypes: datetime64[ns](2), int64(3), object(3)\n",
      "memory usage: 17.2+ KB\n"
     ]
    }
   ],
   "source": [
    "transactions_test = pd.read_csv('./transactions_test.csv',sep=';')\n",
    "\n",
    "transactions_test[['joined_at', 'paid_at']] = transactions_test[['joined_at', 'paid_at']].apply (pd.to_datetime)\n",
    "transactions_test.info()"
   ]
  },
  {
   "cell_type": "code",
   "execution_count": 148,
   "metadata": {},
   "outputs": [
    {
     "name": "stdout",
     "output_type": "stream",
     "text": [
      "<class 'pandas.core.frame.DataFrame'>\n",
      "RangeIndex: 1007 entries, 0 to 1006\n",
      "Data columns (total 8 columns):\n",
      " #   Column        Non-Null Count  Dtype  \n",
      "---  ------        --------------  -----  \n",
      " 0   uid           377 non-null    float64\n",
      " 1   country       377 non-null    object \n",
      " 2   joined_at     1007 non-null   object \n",
      " 3   paid_at       1007 non-null   object \n",
      " 4   revenue       377 non-null    float64\n",
      " 5   payment_id    377 non-null    float64\n",
      " 6   from_page     377 non-null    object \n",
      " 7   product_type  377 non-null    object \n",
      "dtypes: float64(3), object(5)\n",
      "memory usage: 63.1+ KB\n"
     ]
    }
   ],
   "source": [
    "# Видим,что в данной таблицы много пропущенных значений. Также некоторые столбцы имеют не правельный тип данных.\n",
    "transactions_control_1 = pd.read_csv('./transactions_control_1.csv', sep=';')\n",
    "transactions_control_1.info()\n",
    "\n",
    "\n"
   ]
  },
  {
   "cell_type": "code",
   "execution_count": 149,
   "metadata": {},
   "outputs": [
    {
     "name": "stdout",
     "output_type": "stream",
     "text": [
      "<class 'pandas.core.frame.DataFrame'>\n",
      "Int64Index: 377 entries, 0 to 376\n",
      "Data columns (total 8 columns):\n",
      " #   Column        Non-Null Count  Dtype         \n",
      "---  ------        --------------  -----         \n",
      " 0   uid           377 non-null    int64         \n",
      " 1   country       377 non-null    object        \n",
      " 2   joined_at     377 non-null    datetime64[ns]\n",
      " 3   paid_at       377 non-null    datetime64[ns]\n",
      " 4   revenue       377 non-null    int64         \n",
      " 5   payment_id    377 non-null    int64         \n",
      " 6   from_page     377 non-null    object        \n",
      " 7   product_type  377 non-null    object        \n",
      "dtypes: datetime64[ns](2), int64(3), object(3)\n",
      "memory usage: 26.5+ KB\n"
     ]
    }
   ],
   "source": [
    "transactions_control_1.dropna(inplace=True)\n",
    "transactions_control_1[['joined_at', 'paid_at']] = transactions_control_1[['joined_at', 'paid_at']].apply (pd.to_datetime)\n",
    "transactions_control_1[['uid','revenue','payment_id']] = transactions_control_1[['uid','revenue','payment_id']].astype(int)\n",
    "transactions_control_1.info()"
   ]
  },
  {
   "cell_type": "code",
   "execution_count": 150,
   "metadata": {},
   "outputs": [
    {
     "name": "stdout",
     "output_type": "stream",
     "text": [
      "<class 'pandas.core.frame.DataFrame'>\n",
      "RangeIndex: 328 entries, 0 to 327\n",
      "Data columns (total 8 columns):\n",
      " #   Column        Non-Null Count  Dtype         \n",
      "---  ------        --------------  -----         \n",
      " 0   uid           328 non-null    int64         \n",
      " 1   country       328 non-null    object        \n",
      " 2   joined_at     328 non-null    datetime64[ns]\n",
      " 3   paid_at       328 non-null    datetime64[ns]\n",
      " 4   revenue       328 non-null    int64         \n",
      " 5   payment_id    328 non-null    int64         \n",
      " 6   from_page     328 non-null    object        \n",
      " 7   product_type  328 non-null    object        \n",
      "dtypes: datetime64[ns](2), int64(3), object(3)\n",
      "memory usage: 20.6+ KB\n"
     ]
    }
   ],
   "source": [
    "transactions_control_2 = pd.read_csv('./transactions_control_2.csv',sep=';')\n",
    "transactions_control_2[['joined_at', 'paid_at']] = transactions_control_2[['joined_at', 'paid_at']].apply (pd.to_datetime)\n",
    "transactions_control_2.info()"
   ]
  },
  {
   "cell_type": "code",
   "execution_count": 151,
   "metadata": {},
   "outputs": [],
   "source": [
    "df = transactions_test[transactions_test['product_type'] == 'premium_no_trial']\n",
    "\n",
    "df_1 = transactions_control_1[transactions_control_1['product_type'] == 'premium_no_trial']\n",
    "\n",
    "df_2 = transactions_control_2[transactions_control_2['product_type'] == 'premium_no_trial']\n"
   ]
  },
  {
   "cell_type": "code",
   "execution_count": 152,
   "metadata": {},
   "outputs": [
    {
     "data": {
      "text/plain": [
       "Text(0.5, 1.0, 'Control_2')"
      ]
     },
     "execution_count": 152,
     "metadata": {},
     "output_type": "execute_result"
    },
    {
     "data": {
      "image/png": "[encoded data removed]",
      "text/plain": [
       "<Figure size 1500x500 with 3 Axes>"
      ]
     },
     "metadata": {},
     "output_type": "display_data"
    }
   ],
   "source": [
    "# Построим графики распределения\n",
    "fig, ax = plt.subplots(1, 3, figsize = (15,5))\n",
    "ax[0].hist(df.revenue, bins= 100)\n",
    "ax[0].set_title('Test')\n",
    "ax[1].hist(df_1.revenue, bins= 100)\n",
    "ax[1].set_title('Control_1')\n",
    "ax[2].hist(df_2.revenue, bins= 100)\n",
    "ax[2].set_title('Control_2')"
   ]
  },
  {
   "attachments": {},
   "cell_type": "markdown",
   "metadata": {},
   "source": [
    "Видим явыне выбросы."
   ]
  },
  {
   "cell_type": "code",
   "execution_count": 153,
   "metadata": {},
   "outputs": [
    {
     "name": "stdout",
     "output_type": "stream",
     "text": [
      "Сред. revenue Test: 7888.540540540541\n",
      "Сред. revenue Control_1: 5271.63\n",
      "Сред. revenue COntrol_2: 5536.455445544554\n"
     ]
    }
   ],
   "source": [
    "# Исключаем всё, что за 95 квантилем\n",
    "df = df[df['revenue'] <= df.revenue.quantile(0.95)]\n",
    "df_1 = df_1[df_1['revenue'] <= df_1.revenue.quantile(0.95)]\n",
    "df_2 = df_2[df_2['revenue'] <= df_2.revenue.quantile(0.95)]\n",
    "print('Сред. revenue Test:',df.revenue.mean())\n",
    "print('Сред. revenue Control_1:',df_1.revenue.mean())\n",
    "print('Сред. revenue COntrol_2:',df_2.revenue.mean())"
   ]
  },
  {
   "cell_type": "code",
   "execution_count": 154,
   "metadata": {},
   "outputs": [
    {
     "data": {
      "text/plain": [
       "Text(0.5, 1.0, 'Control_2')"
      ]
     },
     "execution_count": 154,
     "metadata": {},
     "output_type": "execute_result"
    },
    {
     "data": {
      "image/png": "[encoded data removed]",
      "text/plain": [
       "<Figure size 1500x500 with 3 Axes>"
      ]
     },
     "metadata": {},
     "output_type": "display_data"
    }
   ],
   "source": [
    "# Построим график расспределения отбросив выбрасы в данных. \n",
    "fig, ax = plt.subplots(1, 3, figsize = (15,5))\n",
    "ax[0].hist(df.revenue, bins= 100)\n",
    "ax[0].set_title('Test')\n",
    "ax[1].hist(df_1.revenue, bins= 100)\n",
    "ax[1].set_title('Control_1')\n",
    "ax[2].hist(df_2.revenue, bins= 100)\n",
    "ax[2].set_title('Control_2')"
   ]
  },
  {
   "attachments": {},
   "cell_type": "markdown",
   "metadata": {},
   "source": [
    "# Проводим А/А тест на двух контрольных группах о транзакциях. "
   ]
  },
  {
   "cell_type": "code",
   "execution_count": 155,
   "metadata": {},
   "outputs": [
    {
     "data": {
      "application/vnd.jupyter.widget-view+json": {
       "model_id": "0955df6e44bb424ca7505fdf35fee416",
       "version_major": 2,
       "version_minor": 0
      },
      "text/plain": [
       "  0%|          | 0/10000 [00:00<?, ?it/s]"
      ]
     },
     "metadata": {},
     "output_type": "display_data"
    },
    {
     "data": {
      "image/png": "[encoded data removed]",
      "text/plain": [
       "<Figure size 1000x500 with 1 Axes>"
      ]
     },
     "metadata": {},
     "output_type": "display_data"
    },
    {
     "data": {
      "text/plain": [
       "0.0037"
      ]
     },
     "execution_count": 155,
     "metadata": {},
     "output_type": "execute_result"
    }
   ],
   "source": [
    "con_1 = transactions_control_1[transactions_control_1['product_type'] == 'premium_no_trial']\n",
    "con_2 = transactions_control_2[transactions_control_2['product_type'] == 'premium_no_trial']\n",
    "n_s = 50\n",
    "simulations = 10000\n",
    "res = []\n",
    "\n",
    "\n",
    "for i in tqdm(range(simulations)):\n",
    "    s1 = con_1['revenue'].sample(n_s, replace = False).values\n",
    "    s2 = con_2['revenue'].sample(n_s, replace = False).values\n",
    "    res.append(stats.ttest_ind(s1, s2, equal_var = False)[1]) # сохраняем pvalue\n",
    "\n",
    "plt.hist(res, bins = 50)\n",
    "plt.style.use('ggplot')\n",
    "plt.xlabel('pvalues')\n",
    "plt.ylabel('frequency')\n",
    "plt.title(\"Histogram of ttest A/A simulations \")\n",
    "plt.show()\n",
    "\n",
    "# Проверяем, что количество ложноположительных случаев не превышает альфа\n",
    "sum(np.array(res) < 0.05) / simulations"
   ]
  },
  {
   "cell_type": "markdown",
   "metadata": {},
   "source": [
    "В результате, делаем вывод, что система сплитования качественная.\n"
   ]
  },
  {
   "attachments": {},
   "cell_type": "markdown",
   "metadata": {},
   "source": [
    "# Посмотрим на показатели метрики ARPU в рамках тестируемого продукта (premium_no_trial) за общее количество пользователей берем количество уникальных пользователей в группе"
   ]
  },
  {
   "cell_type": "code",
   "execution_count": 156,
   "metadata": {},
   "outputs": [
    {
     "name": "stdout",
     "output_type": "stream",
     "text": [
      "ARPU_test: 135.5041782729805\n",
      "ARPU_control_1: 121.46612903225807\n",
      "ARPU_control_2: 131.140243902439\n"
     ]
    }
   ],
   "source": [
    "ARPU_test = df.revenue.sum() / users_test.uid.nunique() \n",
    "\n",
    "ARPU_control_1 = df_1.revenue.sum() / users_control_1.uid.nunique() \n",
    "\n",
    "ARPU_control_2 = df_2.revenue.sum() / users_control_2.uid.nunique() \n",
    "\n",
    "print(f'ARPU_test: {ARPU_test}', f'ARPU_control_1: {ARPU_control_1}', f'ARPU_control_2: {ARPU_control_2}', sep='\\n')\n",
    "\n"
   ]
  },
  {
   "cell_type": "code",
   "execution_count": 157,
   "metadata": {},
   "outputs": [
    {
     "name": "stdout",
     "output_type": "stream",
     "text": [
      "ARPPU_test: 8980.8\n",
      "ARPPU_control_1: 5668.42\n",
      "ARPPU_control_2: 5824.81\n"
     ]
    }
   ],
   "source": [
    "# Также смотрим на ARPPU \n",
    "ARPPU_test = round(df.revenue.sum() / df.uid.nunique(), 2) \n",
    "\n",
    "ARPPU_control_1 = round(df_1.revenue.sum() / df_1.uid.nunique(), 2)\n",
    "\n",
    "ARPPU_control_2 = round(df_2.revenue.sum() / df_2.uid.nunique(), 2 )\n",
    "\n",
    "print(f'ARPPU_test: {ARPPU_test}', f'ARPPU_control_1: {ARPPU_control_1}', f'ARPPU_control_2: {ARPPU_control_2}', sep='\\n')"
   ]
  },
  {
   "cell_type": "code",
   "execution_count": 158,
   "metadata": {},
   "outputs": [
    {
     "name": "stdout",
     "output_type": "stream",
     "text": [
      "users_test\n",
      "Имели когда-либо премиум 10.5%\n",
      "Имеют премиум сейчас 3.8%\n"
     ]
    }
   ],
   "source": [
    "# Смотрим на конверсию с целевым действием, был ли когда-либо премиум и имеют ли премиум .\n",
    "CR_test_1 = users_test.groupby('was_premium',as_index=False).agg({'uid':'count'}).uid[1] / users_test.groupby('was_premium',as_index=False).agg({'uid':'count'}).uid[0]\n",
    "print('users_test')\n",
    "print(f'Имели когда-либо премиум {round(CR_test_1,3)*100}%')\n",
    "CR_test_2 = users_test.groupby('is_premium',as_index=False).agg({'uid':'count'}).uid[1] / users_test.groupby('is_premium',as_index=False).agg({'uid':'count'}).uid[0]\n",
    "print(f'Имеют премиум сейчас {round(CR_test_2,3)*100}%')"
   ]
  },
  {
   "cell_type": "code",
   "execution_count": 159,
   "metadata": {},
   "outputs": [
    {
     "name": "stdout",
     "output_type": "stream",
     "text": [
      "users_control_1\n",
      "Имели когда-либо премиум 11.17%\n",
      "Имеют премиум сейчас 4.6% \n"
     ]
    }
   ],
   "source": [
    "CR_control_1 = users_control_1.groupby('was_premium',as_index=False).agg({'uid':'count'}).uid[1] / users_control_1.groupby('was_premium',as_index=False).agg({'uid':'count'}).uid[0]\n",
    "print('users_control_1')\n",
    "print(f'Имели когда-либо премиум { round(CR_control_1, 4)*100 }%')\n",
    "CR_control_2 = users_control_1.groupby('is_premium',as_index=False).agg({'uid':'count'}).uid[1] / users_control_1.groupby('is_premium',as_index=False).agg({'uid':'count'}).uid[0]\n",
    "print(f'Имеют премиум сейчас { round(CR_control_2,3)*100 }% ')"
   ]
  },
  {
   "cell_type": "code",
   "execution_count": 160,
   "metadata": {},
   "outputs": [
    {
     "name": "stdout",
     "output_type": "stream",
     "text": [
      "users_control_2\n",
      "Имели когда-либо премиум 10.67%\n",
      "Имеют премиум сейчас 4.7% \n"
     ]
    }
   ],
   "source": [
    "CR_control2_1 = users_control_2.groupby('was_premium',as_index=False).agg({'uid':'count'}).uid[1] / users_control_2.groupby('was_premium',as_index=False).agg({'uid':'count'}).uid[0]\n",
    "print('users_control_2')\n",
    "print(f'Имели когда-либо премиум { round(CR_control2_1, 4)*100 }%')\n",
    "CR_control2_2 = users_control_2.groupby('is_premium',as_index=False).agg({'uid':'count'}).uid[1] / users_control_2.groupby('is_premium',as_index=False).agg({'uid':'count'}).uid[0]\n",
    "print(f'Имеют премиум сейчас { round(CR_control2_2,3)*100 }% ')"
   ]
  },
  {
   "cell_type": "markdown",
   "metadata": {},
   "source": [
    "Видим разницу значений в метриках между тестовыми и контрольными группами.\n"
   ]
  },
  {
   "attachments": {},
   "cell_type": "markdown",
   "metadata": {},
   "source": [
    "# Проверим, являются ли эти различия статистически значимыми с помощью теста mannwhitneyu.\n",
    "\n",
    "т.к. данные распределены не соответсвуют нормальному, а группы независимые."
   ]
  },
  {
   "cell_type": "code",
   "execution_count": 161,
   "metadata": {},
   "outputs": [
    {
     "name": "stdout",
     "output_type": "stream",
     "text": [
      "Statistics=5574.5, p=8.013036491837227e-09\n"
     ]
    }
   ],
   "source": [
    "stat, p = mannwhitneyu(df.revenue, df_1.revenue)\n",
    "print(f'Statistics={stat}, p={p}')\n",
    "#Получаем статистически значимое различие между группами test и control_1\n"
   ]
  },
  {
   "cell_type": "code",
   "execution_count": 162,
   "metadata": {},
   "outputs": [
    {
     "name": "stdout",
     "output_type": "stream",
     "text": [
      "Statistics=5487.0, p=9.646310717539622e-08\n"
     ]
    }
   ],
   "source": [
    "stat, p = mannwhitneyu(df.revenue, df_2.revenue)\n",
    "print(f'Statistics={stat}, p={p}')\n",
    "#Также получаем статистически значимое различие между группами test и control_2\n"
   ]
  },
  {
   "cell_type": "code",
   "execution_count": 163,
   "metadata": {},
   "outputs": [],
   "source": [
    "# Объявим функцию, которая позволит проверять гипотезы с помощью бутстрапа\n",
    "def get_bootstrap(\n",
    "    data_column_1, # числовые значения первой выборки\n",
    "    data_column_2, # числовые значения второй выборки\n",
    "    boot_it = 10000, # количество бутстрэп-подвыборок\n",
    "    statistic = np.mean, # интересующая нас статистика\n",
    "    bootstrap_conf_level = 0.95 # уровень значимости\n",
    "):\n",
    "    boot_len = max([len(data_column_1), len(data_column_2)])\n",
    "    boot_data = []\n",
    "    for i in tqdm(range(boot_it)): # извлекаем подвыборки\n",
    "        samples_1 = data_column_1.sample(\n",
    "            boot_len, \n",
    "            replace = True # параметр возвращения\n",
    "        ).values\n",
    "        \n",
    "        samples_2 = data_column_2.sample(\n",
    "            boot_len, \n",
    "            replace = True\n",
    "        ).values\n",
    "        \n",
    "        boot_data.append(statistic(samples_1-samples_2)) # mean() - применяем статистику\n",
    "        \n",
    "    pd_boot_data = pd.DataFrame(boot_data)\n",
    "        \n",
    "    left_quant = (1 - bootstrap_conf_level)/2\n",
    "    right_quant = 1 - (1 - bootstrap_conf_level) / 2\n",
    "    ci = pd_boot_data.quantile([left_quant, right_quant])\n",
    "        \n",
    "    p_1 = norm.cdf(\n",
    "        x = 0, \n",
    "        loc = np.mean(boot_data), \n",
    "        scale = np.std(boot_data)\n",
    "    )\n",
    "    p_2 = norm.cdf(\n",
    "        x = 0, \n",
    "        loc = -np.mean(boot_data), \n",
    "        scale = np.std(boot_data)\n",
    "    )\n",
    "    p_value = min(p_1, p_2) * 2\n",
    "        \n",
    "    # Визуализация\n",
    "    plt.hist(pd_boot_data[0], bins = 50)\n",
    "    \n",
    "    plt.style.use('default')\n",
    "    plt.vlines(ci,ymin=20, ymax=50, linestyle='--')\n",
    "    plt.xlabel('boot_data')\n",
    "    plt.ylabel('frequency')\n",
    "    plt.title(\"Histogram of boot_data\")\n",
    "    plt.show()\n",
    "       \n",
    "    return {\"boot_data\": boot_data, \n",
    "            \"ci\": ci, \n",
    "            \"p_value\": p_value}"
   ]
  },
  {
   "cell_type": "code",
   "execution_count": 164,
   "metadata": {},
   "outputs": [
    {
     "data": {
      "application/vnd.jupyter.widget-view+json": {
       "model_id": "f8056962d27743dcb168dcb897744df8",
       "version_major": 2,
       "version_minor": 0
      },
      "text/plain": [
       "  0%|          | 0/10000 [00:00<?, ?it/s]"
      ]
     },
     "metadata": {},
     "output_type": "display_data"
    },
    {
     "data": {
      "image/png": "[encoded data removed]",
      "text/plain": [
       "<Figure size 1000x500 with 1 Axes>"
      ]
     },
     "metadata": {},
     "output_type": "display_data"
    }
   ],
   "source": [
    "booted_data = get_bootstrap(df.revenue,df_2.revenue, boot_it = 10000,statistic = np.mean) "
   ]
  },
  {
   "cell_type": "code",
   "execution_count": 165,
   "metadata": {},
   "outputs": [
    {
     "data": {
      "text/plain": [
       "3.34412416073841e-12"
      ]
     },
     "execution_count": 165,
     "metadata": {},
     "output_type": "execute_result"
    }
   ],
   "source": [
    "# По итогу получаем значение p уровня ниже нашей границы в 0.05\n",
    "booted_data[\"p_value\"]"
   ]
  },
  {
   "cell_type": "code",
   "execution_count": 166,
   "metadata": {},
   "outputs": [
    {
     "data": {
      "text/html": [
       "<div>\n",
       "<style scoped>\n",
       "    .dataframe tbody tr th:only-of-type {\n",
       "        vertical-align: middle;\n",
       "    }\n",
       "\n",
       "    .dataframe tbody tr th {\n",
       "        vertical-align: top;\n",
       "    }\n",
       "\n",
       "    .dataframe thead th {\n",
       "        text-align: right;\n",
       "    }\n",
       "</style>\n",
       "<table border=\"1\" class=\"dataframe\">\n",
       "  <thead>\n",
       "    <tr style=\"text-align: right;\">\n",
       "      <th></th>\n",
       "      <th>0</th>\n",
       "    </tr>\n",
       "  </thead>\n",
       "  <tbody>\n",
       "    <tr>\n",
       "      <th>0.025</th>\n",
       "      <td>1681.237871</td>\n",
       "    </tr>\n",
       "    <tr>\n",
       "      <th>0.975</th>\n",
       "      <td>3007.247525</td>\n",
       "    </tr>\n",
       "  </tbody>\n",
       "</table>\n",
       "</div>"
      ],
      "text/plain": [
       "                 0\n",
       "0.025  1681.237871\n",
       "0.975  3007.247525"
      ]
     },
     "execution_count": 166,
     "metadata": {},
     "output_type": "execute_result"
    }
   ],
   "source": [
    "# 0 не входит в полученный доверительный интервал, что свидетельствует о статистически значимом различии нашей статистики(средней выручки на группу) в данных группах. \n",
    "booted_data[\"ci\"]"
   ]
  },
  {
   "cell_type": "markdown",
   "metadata": {},
   "source": [
    "Мы видим, что в тествой группе конверсии с целевым действием \"пользователь имеет премиум подписку\" значительно ниже, чем в контрольных группах. Но при этом среднее revenue в тестовой группе значительно выше контрольных. ARPPU в тестовой группе также имеет большее значение. \n",
    "Можем предположить, что наше нововведение положительно повлияло на пользователей, которые уже имеют подписку, и увеличение доходов связанно именно с этой группой пользователей. Также, есть предположение, что чаще стали покупать подписку на больший период.   "
   ]
  },
  {
   "attachments": {},
   "cell_type": "markdown",
   "metadata": {},
   "source": [
    "# Посмотрим какой эффект нововведения оказало на разные подгруппы пользователей в тестовой и контрольных выборках\n"
   ]
  },
  {
   "cell_type": "code",
   "execution_count": 167,
   "metadata": {},
   "outputs": [],
   "source": [
    "# Разобьем на возрастные группы\n",
    "cut_bins = [0,20,30,40,np.inf]\n",
    "cut_labels = ['0-20','20-30','30-40','40-inf']"
   ]
  },
  {
   "cell_type": "code",
   "execution_count": 168,
   "metadata": {},
   "outputs": [],
   "source": [
    "merge_data = pd.merge(users_test, \n",
    "                      transactions_test.groupby(['uid', 'product_type'],as_index=False).agg({'revenue':'sum'}),\n",
    "                      on='uid',\n",
    "                      how='outer',\n",
    "                      ).dropna()\n",
    "\n",
    "merge_data['age_groupe'] = pd.cut(merge_data['age'],bins=cut_bins, labels=cut_labels)\n",
    "\n",
    "ax_test = merge_data.query('product_type ==\"premium_no_trial\"').groupby('age_groupe',as_index=False).agg({'revenue':'sum',\n",
    "                                                                                                          'uid':'count'})\n",
    "\n",
    "merge_data_1 = pd.merge(users_control_1, \n",
    "                      transactions_control_1.groupby(['uid', 'product_type'],as_index=False).agg({'revenue':'sum'}),\n",
    "                      on='uid',\n",
    "                      how='outer',\n",
    "                      ).dropna()\n",
    "merge_data_1['age_groupe'] =  pd.cut(merge_data_1['age'],bins=cut_bins, labels=cut_labels)\n",
    "\n",
    "ax_1 = merge_data_1.query('product_type ==\"premium_no_trial\"').sample(len(merge_data.query('product_type ==\"premium_no_trial\"')),random_state=34).groupby('age_groupe',as_index=False).agg({'revenue':'sum'})\n",
    "\n",
    "merge_data_2 = pd.merge(users_control_2, \n",
    "                      transactions_control_2.groupby(['uid', 'product_type'],as_index=False).agg({'revenue':'sum'}),\n",
    "                      on='uid',\n",
    "                      how='outer',\n",
    "                      ).dropna()\n",
    "merge_data_2['age_groupe'] =  pd.cut(merge_data_2['age'],bins=cut_bins, labels=cut_labels)\n",
    "sns.set(rc={'figure.figsize':(10,5)})\n",
    "ax_2 = merge_data_2.query('product_type ==\"premium_no_trial\"').sample(len(merge_data.query('product_type ==\"premium_no_trial\"')),random_state=34).groupby('age_groupe',as_index=False).agg({'revenue':'sum'})"
   ]
  },
  {
   "cell_type": "code",
   "execution_count": 169,
   "metadata": {},
   "outputs": [
    {
     "data": {
      "text/plain": [
       "Text(0.5, 1.0, 'Control_2')"
      ]
     },
     "execution_count": 169,
     "metadata": {},
     "output_type": "execute_result"
    },
    {
     "data": {
      "image/png": "[encoded data removed]",
      "text/plain": [
       "<Figure size 1500x500 with 3 Axes>"
      ]
     },
     "metadata": {},
     "output_type": "display_data"
    }
   ],
   "source": [
    "fig, axes = plt.subplots(1, 3, figsize=(15, 5), sharey=True)\n",
    "fig.suptitle('')\n",
    "\n",
    "# Bulbasaur\n",
    "sns.barplot(ax=axes[0], x=ax_test.age_groupe, y=ax_test.revenue)\n",
    "axes[0].set_title('Test')\n",
    "\n",
    "# Charmander\n",
    "sns.barplot(ax=axes[1], x= ax_1.age_groupe, y= ax_1.revenue)\n",
    "axes[1].set_title('Control_1')\n",
    "\n",
    "# Squirtle\n",
    "sns.barplot(ax=axes[2], x= ax_2.age_groupe, y= ax_2.revenue)\n",
    "axes[2].set_title('Control_2')"
   ]
  },
  {
   "attachments": {},
   "cell_type": "markdown",
   "metadata": {},
   "source": [
    "Получаем значительное увеличение доходов в группах от 30-40 и от 40 лет. Но при это снижение доходов в группе 20-30 лет. "
   ]
  },
  {
   "cell_type": "code",
   "execution_count": 170,
   "metadata": {},
   "outputs": [
    {
     "data": {
      "text/html": [
       "<div>\n",
       "<style scoped>\n",
       "    .dataframe tbody tr th:only-of-type {\n",
       "        vertical-align: middle;\n",
       "    }\n",
       "\n",
       "    .dataframe tbody tr th {\n",
       "        vertical-align: top;\n",
       "    }\n",
       "\n",
       "    .dataframe thead th {\n",
       "        text-align: right;\n",
       "    }\n",
       "</style>\n",
       "<table border=\"1\" class=\"dataframe\">\n",
       "  <thead>\n",
       "    <tr style=\"text-align: right;\">\n",
       "      <th></th>\n",
       "      <th>age_groupe</th>\n",
       "      <th>revenue</th>\n",
       "    </tr>\n",
       "  </thead>\n",
       "  <tbody>\n",
       "    <tr>\n",
       "      <th>0</th>\n",
       "      <td>0-20</td>\n",
       "      <td>6</td>\n",
       "    </tr>\n",
       "    <tr>\n",
       "      <th>1</th>\n",
       "      <td>20-30</td>\n",
       "      <td>24</td>\n",
       "    </tr>\n",
       "    <tr>\n",
       "      <th>2</th>\n",
       "      <td>30-40</td>\n",
       "      <td>24</td>\n",
       "    </tr>\n",
       "    <tr>\n",
       "      <th>3</th>\n",
       "      <td>40-inf</td>\n",
       "      <td>13</td>\n",
       "    </tr>\n",
       "  </tbody>\n",
       "</table>\n",
       "</div>"
      ],
      "text/plain": [
       "  age_groupe  revenue\n",
       "0       0-20        6\n",
       "1      20-30       24\n",
       "2      30-40       24\n",
       "3     40-inf       13"
      ]
     },
     "execution_count": 170,
     "metadata": {},
     "output_type": "execute_result"
    }
   ],
   "source": [
    "\n",
    "merge_data.query('product_type ==\"premium_no_trial\"').groupby('age_groupe',as_index=False).agg({'revenue':'count'})"
   ]
  },
  {
   "cell_type": "code",
   "execution_count": 171,
   "metadata": {},
   "outputs": [
    {
     "data": {
      "text/html": [
       "<div>\n",
       "<style scoped>\n",
       "    .dataframe tbody tr th:only-of-type {\n",
       "        vertical-align: middle;\n",
       "    }\n",
       "\n",
       "    .dataframe tbody tr th {\n",
       "        vertical-align: top;\n",
       "    }\n",
       "\n",
       "    .dataframe thead th {\n",
       "        text-align: right;\n",
       "    }\n",
       "</style>\n",
       "<table border=\"1\" class=\"dataframe\">\n",
       "  <thead>\n",
       "    <tr style=\"text-align: right;\">\n",
       "      <th></th>\n",
       "      <th>age_groupe</th>\n",
       "      <th>revenue</th>\n",
       "    </tr>\n",
       "  </thead>\n",
       "  <tbody>\n",
       "    <tr>\n",
       "      <th>0</th>\n",
       "      <td>0-20</td>\n",
       "      <td>7</td>\n",
       "    </tr>\n",
       "    <tr>\n",
       "      <th>1</th>\n",
       "      <td>20-30</td>\n",
       "      <td>35</td>\n",
       "    </tr>\n",
       "    <tr>\n",
       "      <th>2</th>\n",
       "      <td>30-40</td>\n",
       "      <td>16</td>\n",
       "    </tr>\n",
       "    <tr>\n",
       "      <th>3</th>\n",
       "      <td>40-inf</td>\n",
       "      <td>9</td>\n",
       "    </tr>\n",
       "  </tbody>\n",
       "</table>\n",
       "</div>"
      ],
      "text/plain": [
       "  age_groupe  revenue\n",
       "0       0-20        7\n",
       "1      20-30       35\n",
       "2      30-40       16\n",
       "3     40-inf        9"
      ]
     },
     "execution_count": 171,
     "metadata": {},
     "output_type": "execute_result"
    }
   ],
   "source": [
    "merge_data_1.query('product_type ==\"premium_no_trial\"').sample(len(merge_data.query('product_type ==\"premium_no_trial\"')),random_state=34).groupby('age_groupe',as_index=False).agg({'revenue':'count'})"
   ]
  },
  {
   "cell_type": "code",
   "execution_count": 172,
   "metadata": {},
   "outputs": [
    {
     "data": {
      "text/html": [
       "<div>\n",
       "<style scoped>\n",
       "    .dataframe tbody tr th:only-of-type {\n",
       "        vertical-align: middle;\n",
       "    }\n",
       "\n",
       "    .dataframe tbody tr th {\n",
       "        vertical-align: top;\n",
       "    }\n",
       "\n",
       "    .dataframe thead th {\n",
       "        text-align: right;\n",
       "    }\n",
       "</style>\n",
       "<table border=\"1\" class=\"dataframe\">\n",
       "  <thead>\n",
       "    <tr style=\"text-align: right;\">\n",
       "      <th></th>\n",
       "      <th>age_groupe</th>\n",
       "      <th>revenue</th>\n",
       "    </tr>\n",
       "  </thead>\n",
       "  <tbody>\n",
       "    <tr>\n",
       "      <th>0</th>\n",
       "      <td>0-20</td>\n",
       "      <td>5</td>\n",
       "    </tr>\n",
       "    <tr>\n",
       "      <th>1</th>\n",
       "      <td>20-30</td>\n",
       "      <td>35</td>\n",
       "    </tr>\n",
       "    <tr>\n",
       "      <th>2</th>\n",
       "      <td>30-40</td>\n",
       "      <td>17</td>\n",
       "    </tr>\n",
       "    <tr>\n",
       "      <th>3</th>\n",
       "      <td>40-inf</td>\n",
       "      <td>10</td>\n",
       "    </tr>\n",
       "  </tbody>\n",
       "</table>\n",
       "</div>"
      ],
      "text/plain": [
       "  age_groupe  revenue\n",
       "0       0-20        5\n",
       "1      20-30       35\n",
       "2      30-40       17\n",
       "3     40-inf       10"
      ]
     },
     "execution_count": 172,
     "metadata": {},
     "output_type": "execute_result"
    }
   ],
   "source": [
    "merge_data_2.query('product_type ==\"premium_no_trial\"').sample(len(merge_data.query('product_type ==\"premium_no_trial\"')),random_state=34).groupby('age_groupe',as_index=False).agg({'revenue':'count'})"
   ]
  },
  {
   "attachments": {},
   "cell_type": "markdown",
   "metadata": {},
   "source": [
    "Посмотрим на распределения доходов, в групах по attraction_coeff"
   ]
  },
  {
   "cell_type": "code",
   "execution_count": 173,
   "metadata": {},
   "outputs": [],
   "source": [
    "cut_bins = [0,250,500,750,np.inf]\n",
    "cut_labels = ['0-250','250-500','500-750','750-1000']\n",
    "merge_data['attraction_g'] = pd.cut(merge_data['attraction_coeff'],bins=cut_bins, labels=cut_labels)\n",
    "merge_data_1['attraction_g'] = pd.cut(merge_data_1['attraction_coeff'],bins=cut_bins, labels=cut_labels)\n",
    "merge_data_2['attraction_g'] = pd.cut(merge_data_2['attraction_coeff'],bins=cut_bins, labels=cut_labels)\n",
    "ax_test = merge_data.query('product_type ==\"premium_no_trial\"').groupby('attraction_g',as_index=False).agg({'revenue':'sum'})\n",
    "ax_1 = merge_data_1.query('product_type ==\"premium_no_trial\"').sample(len(merge_data.query('product_type ==\"premium_no_trial\"')),random_state=34).groupby('attraction_g',as_index=False).agg({'revenue':'sum'})\n",
    "ax_2 = merge_data_2.query('product_type ==\"premium_no_trial\"').sample(len(merge_data.query('product_type ==\"premium_no_trial\"')),random_state=34).groupby('attraction_g',as_index=False).agg({'revenue':'sum'})"
   ]
  },
  {
   "cell_type": "code",
   "execution_count": 174,
   "metadata": {},
   "outputs": [
    {
     "data": {
      "text/plain": [
       "Text(0.5, 1.0, 'Control_2')"
      ]
     },
     "execution_count": 174,
     "metadata": {},
     "output_type": "execute_result"
    },
    {
     "data": {
      "image/png": "[encoded data removed]",
      "text/plain": [
       "<Figure size 1500x500 with 3 Axes>"
      ]
     },
     "metadata": {},
     "output_type": "display_data"
    }
   ],
   "source": [
    "fig, axes = plt.subplots(1, 3, figsize=(15, 5), sharey=True)\n",
    "fig.suptitle('')\n",
    "\n",
    "# Bulbasaur\n",
    "sns.barplot(ax=axes[0], x=ax_test.attraction_g, y=ax_test.revenue)\n",
    "axes[0].set_title('Test')\n",
    "\n",
    "# Charmander\n",
    "sns.barplot(ax=axes[1], x= ax_1.attraction_g, y= ax_1.revenue)\n",
    "axes[1].set_title('Control_1')\n",
    "\n",
    "# Squirtle\n",
    "sns.barplot(ax=axes[2], x= ax_2.attraction_g, y= ax_2.revenue)\n",
    "axes[2].set_title('Control_2')"
   ]
  },
  {
   "cell_type": "code",
   "execution_count": 175,
   "metadata": {},
   "outputs": [
    {
     "data": {
      "text/html": [
       "<div>\n",
       "<style scoped>\n",
       "    .dataframe tbody tr th:only-of-type {\n",
       "        vertical-align: middle;\n",
       "    }\n",
       "\n",
       "    .dataframe tbody tr th {\n",
       "        vertical-align: top;\n",
       "    }\n",
       "\n",
       "    .dataframe thead th {\n",
       "        text-align: right;\n",
       "    }\n",
       "</style>\n",
       "<table border=\"1\" class=\"dataframe\">\n",
       "  <thead>\n",
       "    <tr style=\"text-align: right;\">\n",
       "      <th></th>\n",
       "      <th>attraction_g</th>\n",
       "      <th>revenue</th>\n",
       "    </tr>\n",
       "  </thead>\n",
       "  <tbody>\n",
       "    <tr>\n",
       "      <th>0</th>\n",
       "      <td>0-250</td>\n",
       "      <td>23</td>\n",
       "    </tr>\n",
       "    <tr>\n",
       "      <th>1</th>\n",
       "      <td>250-500</td>\n",
       "      <td>26</td>\n",
       "    </tr>\n",
       "    <tr>\n",
       "      <th>2</th>\n",
       "      <td>500-750</td>\n",
       "      <td>12</td>\n",
       "    </tr>\n",
       "    <tr>\n",
       "      <th>3</th>\n",
       "      <td>750-1000</td>\n",
       "      <td>4</td>\n",
       "    </tr>\n",
       "  </tbody>\n",
       "</table>\n",
       "</div>"
      ],
      "text/plain": [
       "  attraction_g  revenue\n",
       "0        0-250       23\n",
       "1      250-500       26\n",
       "2      500-750       12\n",
       "3     750-1000        4"
      ]
     },
     "execution_count": 175,
     "metadata": {},
     "output_type": "execute_result"
    }
   ],
   "source": [
    "merge_data.query('product_type ==\"premium_no_trial\"').groupby('attraction_g',as_index=False).agg({'revenue':'count'})"
   ]
  },
  {
   "cell_type": "code",
   "execution_count": 176,
   "metadata": {},
   "outputs": [
    {
     "data": {
      "text/html": [
       "<div>\n",
       "<style scoped>\n",
       "    .dataframe tbody tr th:only-of-type {\n",
       "        vertical-align: middle;\n",
       "    }\n",
       "\n",
       "    .dataframe tbody tr th {\n",
       "        vertical-align: top;\n",
       "    }\n",
       "\n",
       "    .dataframe thead th {\n",
       "        text-align: right;\n",
       "    }\n",
       "</style>\n",
       "<table border=\"1\" class=\"dataframe\">\n",
       "  <thead>\n",
       "    <tr style=\"text-align: right;\">\n",
       "      <th></th>\n",
       "      <th>attraction_g</th>\n",
       "      <th>revenue</th>\n",
       "    </tr>\n",
       "  </thead>\n",
       "  <tbody>\n",
       "    <tr>\n",
       "      <th>0</th>\n",
       "      <td>0-250</td>\n",
       "      <td>30</td>\n",
       "    </tr>\n",
       "    <tr>\n",
       "      <th>1</th>\n",
       "      <td>250-500</td>\n",
       "      <td>38</td>\n",
       "    </tr>\n",
       "    <tr>\n",
       "      <th>2</th>\n",
       "      <td>500-750</td>\n",
       "      <td>14</td>\n",
       "    </tr>\n",
       "    <tr>\n",
       "      <th>3</th>\n",
       "      <td>750-1000</td>\n",
       "      <td>10</td>\n",
       "    </tr>\n",
       "  </tbody>\n",
       "</table>\n",
       "</div>"
      ],
      "text/plain": [
       "  attraction_g  revenue\n",
       "0        0-250       30\n",
       "1      250-500       38\n",
       "2      500-750       14\n",
       "3     750-1000       10"
      ]
     },
     "execution_count": 176,
     "metadata": {},
     "output_type": "execute_result"
    }
   ],
   "source": [
    "merge_data_1.query('product_type ==\"premium_no_trial\"').groupby('attraction_g',as_index=False).agg({'revenue':'count'})"
   ]
  },
  {
   "cell_type": "code",
   "execution_count": 177,
   "metadata": {},
   "outputs": [
    {
     "data": {
      "text/html": [
       "<div>\n",
       "<style scoped>\n",
       "    .dataframe tbody tr th:only-of-type {\n",
       "        vertical-align: middle;\n",
       "    }\n",
       "\n",
       "    .dataframe tbody tr th {\n",
       "        vertical-align: top;\n",
       "    }\n",
       "\n",
       "    .dataframe thead th {\n",
       "        text-align: right;\n",
       "    }\n",
       "</style>\n",
       "<table border=\"1\" class=\"dataframe\">\n",
       "  <thead>\n",
       "    <tr style=\"text-align: right;\">\n",
       "      <th></th>\n",
       "      <th>attraction_g</th>\n",
       "      <th>revenue</th>\n",
       "    </tr>\n",
       "  </thead>\n",
       "  <tbody>\n",
       "    <tr>\n",
       "      <th>0</th>\n",
       "      <td>0-250</td>\n",
       "      <td>33</td>\n",
       "    </tr>\n",
       "    <tr>\n",
       "      <th>1</th>\n",
       "      <td>250-500</td>\n",
       "      <td>39</td>\n",
       "    </tr>\n",
       "    <tr>\n",
       "      <th>2</th>\n",
       "      <td>500-750</td>\n",
       "      <td>15</td>\n",
       "    </tr>\n",
       "    <tr>\n",
       "      <th>3</th>\n",
       "      <td>750-1000</td>\n",
       "      <td>9</td>\n",
       "    </tr>\n",
       "  </tbody>\n",
       "</table>\n",
       "</div>"
      ],
      "text/plain": [
       "  attraction_g  revenue\n",
       "0        0-250       33\n",
       "1      250-500       39\n",
       "2      500-750       15\n",
       "3     750-1000        9"
      ]
     },
     "execution_count": 177,
     "metadata": {},
     "output_type": "execute_result"
    }
   ],
   "source": [
    "merge_data_2.query('product_type ==\"premium_no_trial\"').groupby('attraction_g',as_index=False).agg({'revenue':'count'})"
   ]
  },
  {
   "cell_type": "code",
   "execution_count": 178,
   "metadata": {},
   "outputs": [
    {
     "data": {
      "text/html": [
       "<div>\n",
       "<style scoped>\n",
       "    .dataframe tbody tr th:only-of-type {\n",
       "        vertical-align: middle;\n",
       "    }\n",
       "\n",
       "    .dataframe tbody tr th {\n",
       "        vertical-align: top;\n",
       "    }\n",
       "\n",
       "    .dataframe thead th {\n",
       "        text-align: right;\n",
       "    }\n",
       "</style>\n",
       "<table border=\"1\" class=\"dataframe\">\n",
       "  <thead>\n",
       "    <tr style=\"text-align: right;\">\n",
       "      <th>age_groupe</th>\n",
       "      <th>0-20</th>\n",
       "      <th>20-30</th>\n",
       "      <th>30-40</th>\n",
       "      <th>40-inf</th>\n",
       "    </tr>\n",
       "    <tr>\n",
       "      <th>attraction_g</th>\n",
       "      <th></th>\n",
       "      <th></th>\n",
       "      <th></th>\n",
       "      <th></th>\n",
       "    </tr>\n",
       "  </thead>\n",
       "  <tbody>\n",
       "    <tr>\n",
       "      <th>0-250</th>\n",
       "      <td>2</td>\n",
       "      <td>16</td>\n",
       "      <td>8</td>\n",
       "      <td>4</td>\n",
       "    </tr>\n",
       "    <tr>\n",
       "      <th>250-500</th>\n",
       "      <td>3</td>\n",
       "      <td>20</td>\n",
       "      <td>8</td>\n",
       "      <td>7</td>\n",
       "    </tr>\n",
       "    <tr>\n",
       "      <th>500-750</th>\n",
       "      <td>1</td>\n",
       "      <td>7</td>\n",
       "      <td>3</td>\n",
       "      <td>3</td>\n",
       "    </tr>\n",
       "    <tr>\n",
       "      <th>750-1000</th>\n",
       "      <td>2</td>\n",
       "      <td>6</td>\n",
       "      <td>1</td>\n",
       "      <td>1</td>\n",
       "    </tr>\n",
       "  </tbody>\n",
       "</table>\n",
       "</div>"
      ],
      "text/plain": [
       "age_groupe    0-20  20-30  30-40  40-inf\n",
       "attraction_g                            \n",
       "0-250            2     16      8       4\n",
       "250-500          3     20      8       7\n",
       "500-750          1      7      3       3\n",
       "750-1000         2      6      1       1"
      ]
     },
     "execution_count": 178,
     "metadata": {},
     "output_type": "execute_result"
    }
   ],
   "source": [
    "merge_data_1.query('product_type ==\"premium_no_trial\"').pivot_table(index='attraction_g',columns='age_groupe',values='uid',aggfunc='count')"
   ]
  },
  {
   "cell_type": "code",
   "execution_count": 179,
   "metadata": {},
   "outputs": [
    {
     "data": {
      "text/html": [
       "<div>\n",
       "<style scoped>\n",
       "    .dataframe tbody tr th:only-of-type {\n",
       "        vertical-align: middle;\n",
       "    }\n",
       "\n",
       "    .dataframe tbody tr th {\n",
       "        vertical-align: top;\n",
       "    }\n",
       "\n",
       "    .dataframe thead th {\n",
       "        text-align: right;\n",
       "    }\n",
       "</style>\n",
       "<table border=\"1\" class=\"dataframe\">\n",
       "  <thead>\n",
       "    <tr style=\"text-align: right;\">\n",
       "      <th>age_groupe</th>\n",
       "      <th>0-20</th>\n",
       "      <th>20-30</th>\n",
       "      <th>30-40</th>\n",
       "      <th>40-inf</th>\n",
       "    </tr>\n",
       "    <tr>\n",
       "      <th>attraction_g</th>\n",
       "      <th></th>\n",
       "      <th></th>\n",
       "      <th></th>\n",
       "      <th></th>\n",
       "    </tr>\n",
       "  </thead>\n",
       "  <tbody>\n",
       "    <tr>\n",
       "      <th>0-250</th>\n",
       "      <td>5</td>\n",
       "      <td>13</td>\n",
       "      <td>9</td>\n",
       "      <td>6</td>\n",
       "    </tr>\n",
       "    <tr>\n",
       "      <th>250-500</th>\n",
       "      <td>2</td>\n",
       "      <td>24</td>\n",
       "      <td>9</td>\n",
       "      <td>4</td>\n",
       "    </tr>\n",
       "    <tr>\n",
       "      <th>500-750</th>\n",
       "      <td>2</td>\n",
       "      <td>6</td>\n",
       "      <td>5</td>\n",
       "      <td>2</td>\n",
       "    </tr>\n",
       "    <tr>\n",
       "      <th>750-1000</th>\n",
       "      <td>1</td>\n",
       "      <td>7</td>\n",
       "      <td>0</td>\n",
       "      <td>1</td>\n",
       "    </tr>\n",
       "  </tbody>\n",
       "</table>\n",
       "</div>"
      ],
      "text/plain": [
       "age_groupe    0-20  20-30  30-40  40-inf\n",
       "attraction_g                            \n",
       "0-250            5     13      9       6\n",
       "250-500          2     24      9       4\n",
       "500-750          2      6      5       2\n",
       "750-1000         1      7      0       1"
      ]
     },
     "execution_count": 179,
     "metadata": {},
     "output_type": "execute_result"
    }
   ],
   "source": [
    "merge_data_2.query('product_type ==\"premium_no_trial\"').pivot_table(index='attraction_g',columns='age_groupe',values='uid',aggfunc='count')"
   ]
  },
  {
   "cell_type": "code",
   "execution_count": 180,
   "metadata": {},
   "outputs": [
    {
     "data": {
      "text/html": [
       "<div>\n",
       "<style scoped>\n",
       "    .dataframe tbody tr th:only-of-type {\n",
       "        vertical-align: middle;\n",
       "    }\n",
       "\n",
       "    .dataframe tbody tr th {\n",
       "        vertical-align: top;\n",
       "    }\n",
       "\n",
       "    .dataframe thead th {\n",
       "        text-align: right;\n",
       "    }\n",
       "</style>\n",
       "<table border=\"1\" class=\"dataframe\">\n",
       "  <thead>\n",
       "    <tr style=\"text-align: right;\">\n",
       "      <th></th>\n",
       "      <th>age_groupe</th>\n",
       "      <th>attraction_g</th>\n",
       "      <th>revenue</th>\n",
       "      <th>group</th>\n",
       "    </tr>\n",
       "  </thead>\n",
       "  <tbody>\n",
       "    <tr>\n",
       "      <th>0</th>\n",
       "      <td>0-20</td>\n",
       "      <td>0-250</td>\n",
       "      <td>48945.0</td>\n",
       "      <td>test</td>\n",
       "    </tr>\n",
       "    <tr>\n",
       "      <th>1</th>\n",
       "      <td>0-20</td>\n",
       "      <td>250-500</td>\n",
       "      <td>9100.0</td>\n",
       "      <td>test</td>\n",
       "    </tr>\n",
       "    <tr>\n",
       "      <th>2</th>\n",
       "      <td>0-20</td>\n",
       "      <td>500-750</td>\n",
       "      <td>0.0</td>\n",
       "      <td>test</td>\n",
       "    </tr>\n",
       "    <tr>\n",
       "      <th>3</th>\n",
       "      <td>0-20</td>\n",
       "      <td>750-1000</td>\n",
       "      <td>0.0</td>\n",
       "      <td>test</td>\n",
       "    </tr>\n",
       "    <tr>\n",
       "      <th>4</th>\n",
       "      <td>20-30</td>\n",
       "      <td>0-250</td>\n",
       "      <td>55562.0</td>\n",
       "      <td>test</td>\n",
       "    </tr>\n",
       "  </tbody>\n",
       "</table>\n",
       "</div>"
      ],
      "text/plain": [
       "  age_groupe attraction_g  revenue group\n",
       "0       0-20        0-250  48945.0  test\n",
       "1       0-20      250-500   9100.0  test\n",
       "2       0-20      500-750      0.0  test\n",
       "3       0-20     750-1000      0.0  test\n",
       "4      20-30        0-250  55562.0  test"
      ]
     },
     "execution_count": 180,
     "metadata": {},
     "output_type": "execute_result"
    }
   ],
   "source": [
    "bx = merge_data.query('product_type ==\"premium_no_trial\"').groupby(['age_groupe','attraction_g']).agg({'revenue':'sum'})\n",
    "bx.reset_index(inplace=True)\n",
    "bx['group'] = 'test'\n",
    "by = merge_data_1.query('product_type ==\"premium_no_trial\"').groupby(['age_groupe','attraction_g']).agg({'revenue':'sum'})\n",
    "by['group'] = 'control_1'\n",
    "by.reset_index(inplace=True)\n",
    "bv = merge_data_2.query('product_type ==\"premium_no_trial\"').groupby(['age_groupe','attraction_g']).agg({'revenue':'sum'})\n",
    "bv['group'] = 'control_2'\n",
    "bv.reset_index(inplace=True)\n",
    "bz = pd.concat([bx,by,bv], ignore_index=True )\n",
    "bz.head()"
   ]
  },
  {
   "cell_type": "code",
   "execution_count": 181,
   "metadata": {},
   "outputs": [
    {
     "data": {
      "application/vnd.plotly.v1+json": {
       "config": {
        "plotlyServerURL": "https://plot.ly"
       },
       "data": [
        {
         "alignmentgroup": "True",
         "hovertemplate": "attraction_g=0-250<br>group=test<br>age_groupe=%{x}<br>revenue=%{y}<extra></extra>",
         "legendgroup": "0-250",
         "marker": {
          "color": "#636efa",
          "pattern": {
           "shape": ""
          }
         },
         "name": "0-250",
         "offsetgroup": "0-250",
         "orientation": "v",
         "showlegend": true,
         "textposition": "auto",
         "type": "bar",
         "x": [
          "0-20",
          "20-30",
          "30-40",
          "40-inf"
         ],
         "xaxis": "x",
         "y": [
          48945,
          55562,
          76648,
          38207
         ],
         "yaxis": "y"
        },
        {
         "alignmentgroup": "True",
         "hovertemplate": "attraction_g=0-250<br>group=control_1<br>age_groupe=%{x}<br>revenue=%{y}<extra></extra>",
         "legendgroup": "0-250",
         "marker": {
          "color": "#636efa",
          "pattern": {
           "shape": ""
          }
         },
         "name": "0-250",
         "offsetgroup": "0-250",
         "orientation": "v",
         "showlegend": false,
         "textposition": "auto",
         "type": "bar",
         "x": [
          "0-20",
          "20-30",
          "30-40",
          "40-inf"
         ],
         "xaxis": "x2",
         "y": [
          11375,
          157690,
          48906,
          21918
         ],
         "yaxis": "y2"
        },
        {
         "alignmentgroup": "True",
         "hovertemplate": "attraction_g=0-250<br>group=control_2<br>age_groupe=%{x}<br>revenue=%{y}<extra></extra>",
         "legendgroup": "0-250",
         "marker": {
          "color": "#636efa",
          "pattern": {
           "shape": ""
          }
         },
         "name": "0-250",
         "offsetgroup": "0-250",
         "orientation": "v",
         "showlegend": false,
         "textposition": "auto",
         "type": "bar",
         "x": [
          "0-20",
          "20-30",
          "30-40",
          "40-inf"
         ],
         "xaxis": "x3",
         "y": [
          38532,
          70850,
          56446,
          37817
         ],
         "yaxis": "y3"
        },
        {
         "alignmentgroup": "True",
         "hovertemplate": "attraction_g=250-500<br>group=test<br>age_groupe=%{x}<br>revenue=%{y}<extra></extra>",
         "legendgroup": "250-500",
         "marker": {
          "color": "#EF553B",
          "pattern": {
           "shape": ""
          }
         },
         "name": "250-500",
         "offsetgroup": "250-500",
         "orientation": "v",
         "showlegend": true,
         "textposition": "auto",
         "type": "bar",
         "x": [
          "0-20",
          "20-30",
          "30-40",
          "40-inf"
         ],
         "xaxis": "x",
         "y": [
          9100,
          216892,
          60944,
          151424
         ],
         "yaxis": "y"
        },
        {
         "alignmentgroup": "True",
         "hovertemplate": "attraction_g=250-500<br>group=control_1<br>age_groupe=%{x}<br>revenue=%{y}<extra></extra>",
         "legendgroup": "250-500",
         "marker": {
          "color": "#EF553B",
          "pattern": {
           "shape": ""
          }
         },
         "name": "250-500",
         "offsetgroup": "250-500",
         "orientation": "v",
         "showlegend": false,
         "textposition": "auto",
         "type": "bar",
         "x": [
          "0-20",
          "20-30",
          "30-40",
          "40-inf"
         ],
         "xaxis": "x2",
         "y": [
          76011,
          148486,
          45604,
          41808
         ],
         "yaxis": "y2"
        },
        {
         "alignmentgroup": "True",
         "hovertemplate": "attraction_g=250-500<br>group=control_2<br>age_groupe=%{x}<br>revenue=%{y}<extra></extra>",
         "legendgroup": "250-500",
         "marker": {
          "color": "#EF553B",
          "pattern": {
           "shape": ""
          }
         },
         "name": "250-500",
         "offsetgroup": "250-500",
         "orientation": "v",
         "showlegend": false,
         "textposition": "auto",
         "type": "bar",
         "x": [
          "0-20",
          "20-30",
          "30-40",
          "40-inf"
         ],
         "xaxis": "x3",
         "y": [
          12701,
          210301,
          58006,
          23413
         ],
         "yaxis": "y3"
        },
        {
         "alignmentgroup": "True",
         "hovertemplate": "attraction_g=500-750<br>group=test<br>age_groupe=%{x}<br>revenue=%{y}<extra></extra>",
         "legendgroup": "500-750",
         "marker": {
          "color": "#00cc96",
          "pattern": {
           "shape": ""
          }
         },
         "name": "500-750",
         "offsetgroup": "500-750",
         "orientation": "v",
         "showlegend": true,
         "textposition": "auto",
         "type": "bar",
         "x": [
          "0-20",
          "20-30",
          "30-40",
          "40-inf"
         ],
         "xaxis": "x",
         "y": [
          0,
          22542,
          46683,
          37791
         ],
         "yaxis": "y"
        },
        {
         "alignmentgroup": "True",
         "hovertemplate": "attraction_g=500-750<br>group=control_1<br>age_groupe=%{x}<br>revenue=%{y}<extra></extra>",
         "legendgroup": "500-750",
         "marker": {
          "color": "#00cc96",
          "pattern": {
           "shape": ""
          }
         },
         "name": "500-750",
         "offsetgroup": "500-750",
         "orientation": "v",
         "showlegend": false,
         "textposition": "auto",
         "type": "bar",
         "x": [
          "0-20",
          "20-30",
          "30-40",
          "40-inf"
         ],
         "xaxis": "x2",
         "y": [
          10829,
          43407,
          10686,
          17121
         ],
         "yaxis": "y2"
        },
        {
         "alignmentgroup": "True",
         "hovertemplate": "attraction_g=500-750<br>group=control_2<br>age_groupe=%{x}<br>revenue=%{y}<extra></extra>",
         "legendgroup": "500-750",
         "marker": {
          "color": "#00cc96",
          "pattern": {
           "shape": ""
          }
         },
         "name": "500-750",
         "offsetgroup": "500-750",
         "orientation": "v",
         "showlegend": false,
         "textposition": "auto",
         "type": "bar",
         "x": [
          "0-20",
          "20-30",
          "30-40",
          "40-inf"
         ],
         "xaxis": "x3",
         "y": [
          13637,
          97981,
          33007,
          11115
         ],
         "yaxis": "y3"
        },
        {
         "alignmentgroup": "True",
         "hovertemplate": "attraction_g=750-1000<br>group=test<br>age_groupe=%{x}<br>revenue=%{y}<extra></extra>",
         "legendgroup": "750-1000",
         "marker": {
          "color": "#ab63fa",
          "pattern": {
           "shape": ""
          }
         },
         "name": "750-1000",
         "offsetgroup": "750-1000",
         "orientation": "v",
         "showlegend": true,
         "textposition": "auto",
         "type": "bar",
         "x": [
          "0-20",
          "20-30",
          "30-40",
          "40-inf"
         ],
         "xaxis": "x",
         "y": [
          0,
          25441,
          0,
          9698
         ],
         "yaxis": "y"
        },
        {
         "alignmentgroup": "True",
         "hovertemplate": "attraction_g=750-1000<br>group=control_1<br>age_groupe=%{x}<br>revenue=%{y}<extra></extra>",
         "legendgroup": "750-1000",
         "marker": {
          "color": "#ab63fa",
          "pattern": {
           "shape": ""
          }
         },
         "name": "750-1000",
         "offsetgroup": "750-1000",
         "orientation": "v",
         "showlegend": false,
         "textposition": "auto",
         "type": "bar",
         "x": [
          "0-20",
          "20-30",
          "30-40",
          "40-inf"
         ],
         "xaxis": "x2",
         "y": [
          15717,
          91702,
          3588,
          7332
         ],
         "yaxis": "y2"
        },
        {
         "alignmentgroup": "True",
         "hovertemplate": "attraction_g=750-1000<br>group=control_2<br>age_groupe=%{x}<br>revenue=%{y}<extra></extra>",
         "legendgroup": "750-1000",
         "marker": {
          "color": "#ab63fa",
          "pattern": {
           "shape": ""
          }
         },
         "name": "750-1000",
         "offsetgroup": "750-1000",
         "orientation": "v",
         "showlegend": false,
         "textposition": "auto",
         "type": "bar",
         "x": [
          "0-20",
          "20-30",
          "30-40",
          "40-inf"
         ],
         "xaxis": "x3",
         "y": [
          6292,
          36660,
          0,
          10413
         ],
         "yaxis": "y3"
        }
       ],
       "layout": {
        "annotations": [
         {
          "font": {},
          "showarrow": false,
          "text": "group=test",
          "x": 0.15999999999999998,
          "xanchor": "center",
          "xref": "paper",
          "y": 1,
          "yanchor": "bottom",
          "yref": "paper"
         },
         {
          "font": {},
          "showarrow": false,
          "text": "group=control_1",
          "x": 0.49999999999999994,
          "xanchor": "center",
          "xref": "paper",
          "y": 1,
          "yanchor": "bottom",
          "yref": "paper"
         },
         {
          "font": {},
          "showarrow": false,
          "text": "group=control_2",
          "x": 0.8399999999999999,
          "xanchor": "center",
          "xref": "paper",
          "y": 1,
          "yanchor": "bottom",
          "yref": "paper"
         }
        ],
        "barmode": "group",
        "legend": {
         "title": {
          "text": "attraction_g"
         },
         "tracegroupgap": 0
        },
        "margin": {
         "t": 60
        },
        "template": {
         "data": {
          "bar": [
           {
            "error_x": {
             "color": "#2a3f5f"
            },
            "error_y": {
             "color": "#2a3f5f"
            },
            "marker": {
             "line": {
              "color": "#E5ECF6",
              "width": 0.5
             },
             "pattern": {
              "fillmode": "overlay",
              "size": 10,
              "solidity": 0.2
             }
            },
            "type": "bar"
           }
          ],
          "barpolar": [
           {
            "marker": {
             "line": {
              "color": "#E5ECF6",
              "width": 0.5
             },
             "pattern": {
              "fillmode": "overlay",
              "size": 10,
              "solidity": 0.2
             }
            },
            "type": "barpolar"
           }
          ],
          "carpet": [
           {
            "aaxis": {
             "endlinecolor": "#2a3f5f",
             "gridcolor": "white",
             "linecolor": "white",
             "minorgridcolor": "white",
             "startlinecolor": "#2a3f5f"
            },
            "baxis": {
             "endlinecolor": "#2a3f5f",
             "gridcolor": "white",
             "linecolor": "white",
             "minorgridcolor": "white",
             "startlinecolor": "#2a3f5f"
            },
            "type": "carpet"
           }
          ],
          "choropleth": [
           {
            "colorbar": {
             "outlinewidth": 0,
             "ticks": ""
            },
            "type": "choropleth"
           }
          ],
          "contour": [
           {
            "colorbar": {
             "outlinewidth": 0,
             "ticks": ""
            },
            "colorscale": [
             [
              0,
              "#0d0887"
             ],
             [
              0.1111111111111111,
              "#46039f"
             ],
             [
              0.2222222222222222,
              "#7201a8"
             ],
             [
              0.3333333333333333,
              "#9c179e"
             ],
             [
              0.4444444444444444,
              "#bd3786"
             ],
             [
              0.5555555555555556,
              "#d8576b"
             ],
             [
              0.6666666666666666,
              "#ed7953"
             ],
             [
              0.7777777777777778,
              "#fb9f3a"
             ],
             [
              0.8888888888888888,
              "#fdca26"
             ],
             [
              1,
              "#f0f921"
             ]
            ],
            "type": "contour"
           }
          ],
          "contourcarpet": [
           {
            "colorbar": {
             "outlinewidth": 0,
             "ticks": ""
            },
            "type": "contourcarpet"
           }
          ],
          "heatmap": [
           {
            "colorbar": {
             "outlinewidth": 0,
             "ticks": ""
            },
            "colorscale": [
             [
              0,
              "#0d0887"
             ],
             [
              0.1111111111111111,
              "#46039f"
             ],
             [
              0.2222222222222222,
              "#7201a8"
             ],
             [
              0.3333333333333333,
              "#9c179e"
             ],
             [
              0.4444444444444444,
              "#bd3786"
             ],
             [
              0.5555555555555556,
              "#d8576b"
             ],
             [
              0.6666666666666666,
              "#ed7953"
             ],
             [
              0.7777777777777778,
              "#fb9f3a"
             ],
             [
              0.8888888888888888,
              "#fdca26"
             ],
             [
              1,
              "#f0f921"
             ]
            ],
            "type": "heatmap"
           }
          ],
          "heatmapgl": [
           {
            "colorbar": {
             "outlinewidth": 0,
             "ticks": ""
            },
            "colorscale": [
             [
              0,
              "#0d0887"
             ],
             [
              0.1111111111111111,
              "#46039f"
             ],
             [
              0.2222222222222222,
              "#7201a8"
             ],
             [
              0.3333333333333333,
              "#9c179e"
             ],
             [
              0.4444444444444444,
              "#bd3786"
             ],
             [
              0.5555555555555556,
              "#d8576b"
             ],
             [
              0.6666666666666666,
              "#ed7953"
             ],
             [
              0.7777777777777778,
              "#fb9f3a"
             ],
             [
              0.8888888888888888,
              "#fdca26"
             ],
             [
              1,
              "#f0f921"
             ]
            ],
            "type": "heatmapgl"
           }
          ],
          "histogram": [
           {
            "marker": {
             "pattern": {
              "fillmode": "overlay",
              "size": 10,
              "solidity": 0.2
             }
            },
            "type": "histogram"
           }
          ],
          "histogram2d": [
           {
            "colorbar": {
             "outlinewidth": 0,
             "ticks": ""
            },
            "colorscale": [
             [
              0,
              "#0d0887"
             ],
             [
              0.1111111111111111,
              "#46039f"
             ],
             [
              0.2222222222222222,
              "#7201a8"
             ],
             [
              0.3333333333333333,
              "#9c179e"
             ],
             [
              0.4444444444444444,
              "#bd3786"
             ],
             [
              0.5555555555555556,
              "#d8576b"
             ],
             [
              0.6666666666666666,
              "#ed7953"
             ],
             [
              0.7777777777777778,
              "#fb9f3a"
             ],
             [
              0.8888888888888888,
              "#fdca26"
             ],
             [
              1,
              "#f0f921"
             ]
            ],
            "type": "histogram2d"
           }
          ],
          "histogram2dcontour": [
           {
            "colorbar": {
             "outlinewidth": 0,
             "ticks": ""
            },
            "colorscale": [
             [
              0,
              "#0d0887"
             ],
             [
              0.1111111111111111,
              "#46039f"
             ],
             [
              0.2222222222222222,
              "#7201a8"
             ],
             [
              0.3333333333333333,
              "#9c179e"
             ],
             [
              0.4444444444444444,
              "#bd3786"
             ],
             [
              0.5555555555555556,
              "#d8576b"
             ],
             [
              0.6666666666666666,
              "#ed7953"
             ],
             [
              0.7777777777777778,
              "#fb9f3a"
             ],
             [
              0.8888888888888888,
              "#fdca26"
             ],
             [
              1,
              "#f0f921"
             ]
            ],
            "type": "histogram2dcontour"
           }
          ],
          "mesh3d": [
           {
            "colorbar": {
             "outlinewidth": 0,
             "ticks": ""
            },
            "type": "mesh3d"
           }
          ],
          "parcoords": [
           {
            "line": {
             "colorbar": {
              "outlinewidth": 0,
              "ticks": ""
             }
            },
            "type": "parcoords"
           }
          ],
          "pie": [
           {
            "automargin": true,
            "type": "pie"
           }
          ],
          "scatter": [
           {
            "fillpattern": {
             "fillmode": "overlay",
             "size": 10,
             "solidity": 0.2
            },
            "type": "scatter"
           }
          ],
          "scatter3d": [
           {
            "line": {
             "colorbar": {
              "outlinewidth": 0,
              "ticks": ""
             }
            },
            "marker": {
             "colorbar": {
              "outlinewidth": 0,
              "ticks": ""
             }
            },
            "type": "scatter3d"
           }
          ],
          "scattercarpet": [
           {
            "marker": {
             "colorbar": {
              "outlinewidth": 0,
              "ticks": ""
             }
            },
            "type": "scattercarpet"
           }
          ],
          "scattergeo": [
           {
            "marker": {
             "colorbar": {
              "outlinewidth": 0,
              "ticks": ""
             }
            },
            "type": "scattergeo"
           }
          ],
          "scattergl": [
           {
            "marker": {
             "colorbar": {
              "outlinewidth": 0,
              "ticks": ""
             }
            },
            "type": "scattergl"
           }
          ],
          "scattermapbox": [
           {
            "marker": {
             "colorbar": {
              "outlinewidth": 0,
              "ticks": ""
             }
            },
            "type": "scattermapbox"
           }
          ],
          "scatterpolar": [
           {
            "marker": {
             "colorbar": {
              "outlinewidth": 0,
              "ticks": ""
             }
            },
            "type": "scatterpolar"
           }
          ],
          "scatterpolargl": [
           {
            "marker": {
             "colorbar": {
              "outlinewidth": 0,
              "ticks": ""
             }
            },
            "type": "scatterpolargl"
           }
          ],
          "scatterternary": [
           {
            "marker": {
             "colorbar": {
              "outlinewidth": 0,
              "ticks": ""
             }
            },
            "type": "scatterternary"
           }
          ],
          "surface": [
           {
            "colorbar": {
             "outlinewidth": 0,
             "ticks": ""
            },
            "colorscale": [
             [
              0,
              "#0d0887"
             ],
             [
              0.1111111111111111,
              "#46039f"
             ],
             [
              0.2222222222222222,
              "#7201a8"
             ],
             [
              0.3333333333333333,
              "#9c179e"
             ],
             [
              0.4444444444444444,
              "#bd3786"
             ],
             [
              0.5555555555555556,
              "#d8576b"
             ],
             [
              0.6666666666666666,
              "#ed7953"
             ],
             [
              0.7777777777777778,
              "#fb9f3a"
             ],
             [
              0.8888888888888888,
              "#fdca26"
             ],
             [
              1,
              "#f0f921"
             ]
            ],
            "type": "surface"
           }
          ],
          "table": [
           {
            "cells": {
             "fill": {
              "color": "#EBF0F8"
             },
             "line": {
              "color": "white"
             }
            },
            "header": {
             "fill": {
              "color": "#C8D4E3"
             },
             "line": {
              "color": "white"
             }
            },
            "type": "table"
           }
          ]
         },
         "layout": {
          "annotationdefaults": {
           "arrowcolor": "#2a3f5f",
           "arrowhead": 0,
           "arrowwidth": 1
          },
          "autotypenumbers": "strict",
          "coloraxis": {
           "colorbar": {
            "outlinewidth": 0,
            "ticks": ""
           }
          },
          "colorscale": {
           "diverging": [
            [
             0,
             "#8e0152"
            ],
            [
             0.1,
             "#c51b7d"
            ],
            [
             0.2,
             "#de77ae"
            ],
            [
             0.3,
             "#f1b6da"
            ],
            [
             0.4,
             "#fde0ef"
            ],
            [
             0.5,
             "#f7f7f7"
            ],
            [
             0.6,
             "#e6f5d0"
            ],
            [
             0.7,
             "#b8e186"
            ],
            [
             0.8,
             "#7fbc41"
            ],
            [
             0.9,
             "#4d9221"
            ],
            [
             1,
             "#276419"
            ]
           ],
           "sequential": [
            [
             0,
             "#0d0887"
            ],
            [
             0.1111111111111111,
             "#46039f"
            ],
            [
             0.2222222222222222,
             "#7201a8"
            ],
            [
             0.3333333333333333,
             "#9c179e"
            ],
            [
             0.4444444444444444,
             "#bd3786"
            ],
            [
             0.5555555555555556,
             "#d8576b"
            ],
            [
             0.6666666666666666,
             "#ed7953"
            ],
            [
             0.7777777777777778,
             "#fb9f3a"
            ],
            [
             0.8888888888888888,
             "#fdca26"
            ],
            [
             1,
             "#f0f921"
            ]
           ],
           "sequentialminus": [
            [
             0,
             "#0d0887"
            ],
            [
             0.1111111111111111,
             "#46039f"
            ],
            [
             0.2222222222222222,
             "#7201a8"
            ],
            [
             0.3333333333333333,
             "#9c179e"
            ],
            [
             0.4444444444444444,
             "#bd3786"
            ],
            [
             0.5555555555555556,
             "#d8576b"
            ],
            [
             0.6666666666666666,
             "#ed7953"
            ],
            [
             0.7777777777777778,
             "#fb9f3a"
            ],
            [
             0.8888888888888888,
             "#fdca26"
            ],
            [
             1,
             "#f0f921"
            ]
           ]
          },
          "colorway": [
           "#636efa",
           "#EF553B",
           "#00cc96",
           "#ab63fa",
           "#FFA15A",
           "#19d3f3",
           "#FF6692",
           "#B6E880",
           "#FF97FF",
           "#FECB52"
          ],
          "font": {
           "color": "#2a3f5f"
          },
          "geo": {
           "bgcolor": "white",
           "lakecolor": "white",
           "landcolor": "#E5ECF6",
           "showlakes": true,
           "showland": true,
           "subunitcolor": "white"
          },
          "hoverlabel": {
           "align": "left"
          },
          "hovermode": "closest",
          "mapbox": {
           "style": "light"
          },
          "paper_bgcolor": "white",
          "plot_bgcolor": "#E5ECF6",
          "polar": {
           "angularaxis": {
            "gridcolor": "white",
            "linecolor": "white",
            "ticks": ""
           },
           "bgcolor": "#E5ECF6",
           "radialaxis": {
            "gridcolor": "white",
            "linecolor": "white",
            "ticks": ""
           }
          },
          "scene": {
           "xaxis": {
            "backgroundcolor": "#E5ECF6",
            "gridcolor": "white",
            "gridwidth": 2,
            "linecolor": "white",
            "showbackground": true,
            "ticks": "",
            "zerolinecolor": "white"
           },
           "yaxis": {
            "backgroundcolor": "#E5ECF6",
            "gridcolor": "white",
            "gridwidth": 2,
            "linecolor": "white",
            "showbackground": true,
            "ticks": "",
            "zerolinecolor": "white"
           },
           "zaxis": {
            "backgroundcolor": "#E5ECF6",
            "gridcolor": "white",
            "gridwidth": 2,
            "linecolor": "white",
            "showbackground": true,
            "ticks": "",
            "zerolinecolor": "white"
           }
          },
          "shapedefaults": {
           "line": {
            "color": "#2a3f5f"
           }
          },
          "ternary": {
           "aaxis": {
            "gridcolor": "white",
            "linecolor": "white",
            "ticks": ""
           },
           "baxis": {
            "gridcolor": "white",
            "linecolor": "white",
            "ticks": ""
           },
           "bgcolor": "#E5ECF6",
           "caxis": {
            "gridcolor": "white",
            "linecolor": "white",
            "ticks": ""
           }
          },
          "title": {
           "x": 0.05
          },
          "xaxis": {
           "automargin": true,
           "gridcolor": "white",
           "linecolor": "white",
           "ticks": "",
           "title": {
            "standoff": 15
           },
           "zerolinecolor": "white",
           "zerolinewidth": 2
          },
          "yaxis": {
           "automargin": true,
           "gridcolor": "white",
           "linecolor": "white",
           "ticks": "",
           "title": {
            "standoff": 15
           },
           "zerolinecolor": "white",
           "zerolinewidth": 2
          }
         }
        },
        "xaxis": {
         "anchor": "y",
         "domain": [
          0,
          0.31999999999999995
         ],
         "title": {
          "text": "age_groupe"
         }
        },
        "xaxis2": {
         "anchor": "y2",
         "domain": [
          0.33999999999999997,
          0.6599999999999999
         ],
         "matches": "x",
         "title": {
          "text": "age_groupe"
         }
        },
        "xaxis3": {
         "anchor": "y3",
         "domain": [
          0.6799999999999999,
          0.9999999999999999
         ],
         "matches": "x",
         "title": {
          "text": "age_groupe"
         }
        },
        "yaxis": {
         "anchor": "x",
         "domain": [
          0,
          1
         ],
         "title": {
          "text": "revenue"
         }
        },
        "yaxis2": {
         "anchor": "x2",
         "domain": [
          0,
          1
         ],
         "matches": "y",
         "showticklabels": false
        },
        "yaxis3": {
         "anchor": "x3",
         "domain": [
          0,
          1
         ],
         "matches": "y",
         "showticklabels": false
        }
       }
      }
     },
     "metadata": {},
     "output_type": "display_data"
    }
   ],
   "source": [
    "fig = px.bar(bz, x=\"age_groupe\", y=\"revenue\", color=\"attraction_g\", barmode=\"group\", facet_col=\"group\")\n",
    "fig.show()"
   ]
  },
  {
   "cell_type": "code",
   "execution_count": 182,
   "metadata": {},
   "outputs": [
    {
     "data": {
      "text/plain": [
       "<seaborn.axisgrid.FacetGrid at 0x177ca3730>"
      ]
     },
     "execution_count": 182,
     "metadata": {},
     "output_type": "execute_result"
    },
    {
     "data": {
      "image/png": "[encoded data removed]",
      "text/plain": [
       "<Figure size 717.875x600 with 1 Axes>"
      ]
     },
     "metadata": {},
     "output_type": "display_data"
    }
   ],
   "source": [
    "\n",
    "sns.relplot(x='age_groupe', y=\"attraction_g\",hue= 'group', size=\"revenue\",\n",
    "            sizes=(10, 1000), alpha=.5, palette=\"muted\",\n",
    "            height=6, \n",
    "            data=bz)"
   ]
  }
 ],
 "metadata": {
  "kernelspec": {
   "display_name": "Python 3 (ipykernel)",
   "language": "python",
   "name": "python3"
  },
  "language_info": {
   "codemirror_mode": {
    "name": "ipython",
    "version": 3
   },
   "file_extension": ".py",
   "mimetype": "text/x-python",
   "name": "python",
   "nbconvert_exporter": "python",
   "pygments_lexer": "ipython3",
   "version": "3.10.9"
  },
  "toc": {
   "base_numbering": 1,
   "nav_menu": {},
   "number_sections": true,
   "sideBar": true,
   "skip_h1_title": false,
   "title_cell": "Table of Contents",
   "title_sidebar": "Contents",
   "toc_cell": false,
   "toc_position": {
    "height": "calc(100% - 180px)",
    "left": "10px",
    "top": "150px",
    "width": "165px"
   },
   "toc_section_display": true,
   "toc_window_display": false
  },
  "varInspector": {
   "cols": {
    "lenName": 16,
    "lenType": 16,
    "lenVar": 40
   },
   "kernels_config": {
    "python": {
     "delete_cmd_postfix": "",
     "delete_cmd_prefix": "del ",
     "library": "var_list.py",
     "varRefreshCmd": "print(var_dic_list())"
    },
    "r": {
     "delete_cmd_postfix": ") ",
     "delete_cmd_prefix": "rm(",
     "library": "var_list.r",
     "varRefreshCmd": "cat(var_dic_list()) "
    }
   },
   "types_to_exclude": [
    "module",
    "function",
    "builtin_function_or_method",
    "instance",
    "_Feature"
   ],
   "window_display": false
  }
 },
 "nbformat": 4,
 "nbformat_minor": 2
}
