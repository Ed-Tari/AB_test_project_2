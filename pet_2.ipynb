{
 "cells": [
  {
   "attachments": {},
   "cell_type": "markdown",
   "metadata": {},
   "source": [
    "## Введение\n",
    "Помимо базовых функций, в приложении также имеется премиум-подписка, которая дает доступ к ряду важных дополнительных возможностей. Был проведен A/B тест, в рамках которого для новых пользователей из нескольких стран была изменена стоимость премиум-подписки* при покупке через две новые платежные системы. При этом стоимость пробного периода оставалась прежней."
   ]
  },
  {
   "attachments": {},
   "cell_type": "markdown",
   "metadata": {},
   "source": [
    "### Задача:\n",
    "\n",
    "1. Проверить Был ли эксперимент успешен в целом.\n",
    "\n",
    "2. Проанализируйте, имеет ли нововведение смысл среди каких-либо конкретных групп пользователей.\n",
    "\n",
    "*Деньги за подписку списываются ежемесячно до тех пор, пока пользователь её не отменит.*\n"
   ]
  },
  {
   "attachments": {},
   "cell_type": "markdown",
   "metadata": {},
   "source": [
    "## Данные \n",
    "\n",
    "### users_*.csv – информация о пользователях\n",
    "\n",
    "uid – идентификатор пользователя\n",
    "\n",
    "age – возраст\n",
    "\n",
    "attraction_coeff – коэффициент привлекательности (от 0 до 1000, лайки/просмотры *1000)\n",
    "\n",
    "coins – число монеток (внутренняя валюта)\n",
    "\n",
    "country – страна  \n",
    "\n",
    "visit_days – в какие дни после регистрации пользователь посещал приложение (напр. в 1, затем в 7)\n",
    "\n",
    "gender – пол\n",
    "\n",
    "age_filter_start  – фильтр поиска, мин. значение \n",
    "\n",
    "age_filter_end  – фильтр поиска, макс. значение \n",
    "\n",
    "views_count – число полученных оценок \n",
    "\n",
    "was_premium – был ли когда-либо премиум (либо пробный период премиум-статуса, либо купленный за деньги)\n",
    "\n",
    "is_premium –  является ли премиум\n",
    "\n",
    "total_revenue – нормированная выручка\n",
    "\n",
    "\n",
    "### transactions_*.csv – информация о платежах пользователей:\n",
    "\n",
    "uid – идентификатор пользователя\n",
    "\n",
    "country – страна\n",
    "\n",
    "joined_at – дата и время регистрации\n",
    "\n",
    "paid_at – дата и время покупки\n",
    "\n",
    "revenue – нормированная выручка\n",
    "\n",
    "payment_id – идентификатор платежа\n",
    "\n",
    "from_page – откуда пользователь перешел на страницу оплаты\n",
    "\n",
    "product_type – тип продукта (trial_premium – пробная премиум-подписка, premium_no_trial – премиум-подписка без пробной, coins – подписка за \n",
    "внутреннюю валюту, other_type – другое)\n"
   ]
  },
  {
   "attachments": {},
   "cell_type": "markdown",
   "metadata": {},
   "source": [
    "### Файлы:\n",
    "\n",
    "users_test – информация о пользователях в тестовой группе. \n",
    "\n",
    "users_control_1 – информация о пользователях в первой контрольной группе. \n",
    "\n",
    "users_control_2 – информация о пользователях во второй контрольной группе . \n",
    "\n",
    "transactions_test – информация о платежах пользователей в тестовой группе. \n",
    "\n",
    "transactions_control_1 – информация о платежах пользователей в первой контрольной группе. \n",
    "\n",
    "transactions_control_2 – информация о платежах пользователей во второй контрольной группе \n",
    "  \n",
    "\n"
   ]
  },
  {
   "cell_type": "code",
   "execution_count": 1,
   "metadata": {},
   "outputs": [],
   "source": [
    "import numpy as np\n",
    "import pandas as pd\n",
    "import scipy.stats as ss\n",
    "import datetime\n",
    "\n",
    "import seaborn as sns\n",
    "import plotly.express as px\n",
    "import matplotlib.pyplot as plt\n",
    "from tqdm.auto import tqdm\n",
    "from scipy.stats import norm, mannwhitneyuъ\n",
    "from scipy import stats"
   ]
  },
  {
   "attachments": {},
   "cell_type": "markdown",
   "metadata": {},
   "source": [
    "# Преобразуем данные"
   ]
  },
  {
   "cell_type": "code",
   "execution_count": 115,
   "metadata": {},
   "outputs": [],
   "source": [
    "def processing_a_data(df):\n",
    "   df.fillna('0', inplace=True)\n",
    "   df['visit_days'] = df['visit_days'].apply (lambda x : [int(i) for i in x.replace('.',',').split(',') ] )\n",
    "   df['count_of_visit_days'] = df['visit_days'].apply (lambda x : len(x) if x[0]!=0 else 0)\n",
    "   df[['was_premium','is_premium','coins']] = df[['was_premium','is_premium','coins']].astype(int)\n",
    "   lst_col = ['uid', 'age', 'attraction_coeff', 'coins', 'country', 'visit_days', 'count_of_visit_days',\n",
    "   'gender', 'age_filter_start', 'age_filter_end', 'views_count',\n",
    "   'was_premium', 'is_premium', 'total_revenue']\n",
    "   return df[lst_col] \n",
    "\n",
    "\n"
   ]
  },
  {
   "cell_type": "code",
   "execution_count": 117,
   "metadata": {},
   "outputs": [
    {
     "name": "stdout",
     "output_type": "stream",
     "text": [
      "<class 'pandas.core.frame.DataFrame'>\n",
      "RangeIndex: 4308 entries, 0 to 4307\n",
      "Data columns (total 14 columns):\n",
      " #   Column               Non-Null Count  Dtype \n",
      "---  ------               --------------  ----- \n",
      " 0   uid                  4308 non-null   int64 \n",
      " 1   age                  4308 non-null   int64 \n",
      " 2   attraction_coeff     4308 non-null   int64 \n",
      " 3   coins                4308 non-null   int64 \n",
      " 4   country              4308 non-null   object\n",
      " 5   visit_days           4308 non-null   object\n",
      " 6   count_of_visit_days  4308 non-null   int64 \n",
      " 7   gender               4308 non-null   int64 \n",
      " 8   age_filter_start     4308 non-null   int64 \n",
      " 9   age_filter_end       4308 non-null   int64 \n",
      " 10  views_count          4308 non-null   int64 \n",
      " 11  was_premium          4308 non-null   int64 \n",
      " 12  is_premium           4308 non-null   int64 \n",
      " 13  total_revenue        4308 non-null   int64 \n",
      "dtypes: int64(12), object(2)\n",
      "memory usage: 471.3+ KB\n"
     ]
    }
   ],
   "source": [
    "users_test = pd.read_csv('./users_test.csv',sep = ';') \n",
    "users_test = processing_a_data(users_test)\n",
    "users_test.info()"
   ]
  },
  {
   "cell_type": "code",
   "execution_count": 112,
   "metadata": {},
   "outputs": [
    {
     "name": "stdout",
     "output_type": "stream",
     "text": [
      "<class 'pandas.core.frame.DataFrame'>\n",
      "RangeIndex: 4340 entries, 0 to 4339\n",
      "Data columns (total 14 columns):\n",
      " #   Column               Non-Null Count  Dtype \n",
      "---  ------               --------------  ----- \n",
      " 0   uid                  4340 non-null   int64 \n",
      " 1   age                  4340 non-null   int64 \n",
      " 2   attraction_coeff     4340 non-null   int64 \n",
      " 3   coins                4340 non-null   object\n",
      " 4   country              4340 non-null   object\n",
      " 5   visit_days           4340 non-null   object\n",
      " 6   count_of_visit_days  4340 non-null   int64 \n",
      " 7   gender               4340 non-null   int64 \n",
      " 8   age_filter_start     4340 non-null   int64 \n",
      " 9   age_filter_end       4340 non-null   int64 \n",
      " 10  views_count          4340 non-null   int64 \n",
      " 11  was_premium          4340 non-null   int64 \n",
      " 12  is_premium           4340 non-null   int64 \n",
      " 13  total_revenue        4340 non-null   int64 \n",
      "dtypes: int64(11), object(3)\n",
      "memory usage: 474.8+ KB\n"
     ]
    }
   ],
   "source": [
    "users_control_1 = pd.read_csv('./users_control_1.csv', sep = ';')\n",
    "users_control_1 = processing_a_data(users_control_1)\n",
    "users_control_1.info()"
   ]
  },
  {
   "cell_type": "code",
   "execution_count": 113,
   "metadata": {},
   "outputs": [
    {
     "name": "stdout",
     "output_type": "stream",
     "text": [
      "<class 'pandas.core.frame.DataFrame'>\n",
      "RangeIndex: 4264 entries, 0 to 4263\n",
      "Data columns (total 14 columns):\n",
      " #   Column               Non-Null Count  Dtype \n",
      "---  ------               --------------  ----- \n",
      " 0   uid                  4264 non-null   int64 \n",
      " 1   age                  4264 non-null   int64 \n",
      " 2   attraction_coeff     4264 non-null   int64 \n",
      " 3   coins                4264 non-null   object\n",
      " 4   country              4264 non-null   object\n",
      " 5   visit_days           4264 non-null   object\n",
      " 6   count_of_visit_days  4264 non-null   int64 \n",
      " 7   gender               4264 non-null   int64 \n",
      " 8   age_filter_start     4264 non-null   int64 \n",
      " 9   age_filter_end       4264 non-null   int64 \n",
      " 10  views_count          4264 non-null   int64 \n",
      " 11  was_premium          4264 non-null   int64 \n",
      " 12  is_premium           4264 non-null   int64 \n",
      " 13  total_revenue        4264 non-null   int64 \n",
      "dtypes: int64(11), object(3)\n",
      "memory usage: 466.5+ KB\n"
     ]
    }
   ],
   "source": [
    "users_control_2 = pd.read_csv('./users_control_2.csv', sep = ';')\n",
    "users_control_2 = processing_a_data(users_control_2)\n",
    "users_control_2.info()"
   ]
  },
  {
   "cell_type": "code",
   "execution_count": 118,
   "metadata": {},
   "outputs": [
    {
     "name": "stdout",
     "output_type": "stream",
     "text": [
      "<class 'pandas.core.frame.DataFrame'>\n",
      "RangeIndex: 273 entries, 0 to 272\n",
      "Data columns (total 8 columns):\n",
      " #   Column        Non-Null Count  Dtype         \n",
      "---  ------        --------------  -----         \n",
      " 0   uid           273 non-null    int64         \n",
      " 1   country       273 non-null    object        \n",
      " 2   joined_at     273 non-null    datetime64[ns]\n",
      " 3   paid_at       273 non-null    datetime64[ns]\n",
      " 4   revenue       273 non-null    int64         \n",
      " 5   payment_id    273 non-null    int64         \n",
      " 6   from_page     273 non-null    object        \n",
      " 7   product_type  273 non-null    object        \n",
      "dtypes: datetime64[ns](2), int64(3), object(3)\n",
      "memory usage: 17.2+ KB\n"
     ]
    }
   ],
   "source": [
    "transactions_test = pd.read_csv('./transactions_test.csv',sep=';')\n",
    "\n",
    "transactions_test[['joined_at', 'paid_at']] = transactions_test[['joined_at', 'paid_at']].apply (pd.to_datetime)\n",
    "transactions_test.info()"
   ]
  },
  {
   "cell_type": "code",
   "execution_count": 120,
   "metadata": {},
   "outputs": [
    {
     "name": "stdout",
     "output_type": "stream",
     "text": [
      "<class 'pandas.core.frame.DataFrame'>\n",
      "RangeIndex: 1007 entries, 0 to 1006\n",
      "Data columns (total 8 columns):\n",
      " #   Column        Non-Null Count  Dtype  \n",
      "---  ------        --------------  -----  \n",
      " 0   uid           377 non-null    float64\n",
      " 1   country       377 non-null    object \n",
      " 2   joined_at     1007 non-null   object \n",
      " 3   paid_at       1007 non-null   object \n",
      " 4   revenue       377 non-null    float64\n",
      " 5   payment_id    377 non-null    float64\n",
      " 6   from_page     377 non-null    object \n",
      " 7   product_type  377 non-null    object \n",
      "dtypes: float64(3), object(5)\n",
      "memory usage: 63.1+ KB\n"
     ]
    }
   ],
   "source": [
    "# Видим,что в данной таблицы много пропущенных значений. Также некоторые столбцы имеют не правельный тип данных.\n",
    "transactions_control_1 = pd.read_csv('./transactions_control_1.csv', sep=';')\n",
    "transactions_control_1.info()\n",
    "\n",
    "\n"
   ]
  },
  {
   "cell_type": "code",
   "execution_count": 121,
   "metadata": {},
   "outputs": [
    {
     "name": "stdout",
     "output_type": "stream",
     "text": [
      "<class 'pandas.core.frame.DataFrame'>\n",
      "Int64Index: 377 entries, 0 to 376\n",
      "Data columns (total 8 columns):\n",
      " #   Column        Non-Null Count  Dtype         \n",
      "---  ------        --------------  -----         \n",
      " 0   uid           377 non-null    int64         \n",
      " 1   country       377 non-null    object        \n",
      " 2   joined_at     377 non-null    datetime64[ns]\n",
      " 3   paid_at       377 non-null    datetime64[ns]\n",
      " 4   revenue       377 non-null    int64         \n",
      " 5   payment_id    377 non-null    int64         \n",
      " 6   from_page     377 non-null    object        \n",
      " 7   product_type  377 non-null    object        \n",
      "dtypes: datetime64[ns](2), int64(3), object(3)\n",
      "memory usage: 26.5+ KB\n"
     ]
    }
   ],
   "source": [
    "transactions_control_1.dropna(inplace=True)\n",
    "transactions_control_1[['joined_at', 'paid_at']] = transactions_control_1[['joined_at', 'paid_at']].apply (pd.to_datetime)\n",
    "transactions_control_1[['uid','revenue','payment_id']] = transactions_control_1[['uid','revenue','payment_id']].astype(int)\n",
    "transactions_control_1.info()"
   ]
  },
  {
   "cell_type": "code",
   "execution_count": 122,
   "metadata": {},
   "outputs": [
    {
     "name": "stdout",
     "output_type": "stream",
     "text": [
      "<class 'pandas.core.frame.DataFrame'>\n",
      "RangeIndex: 328 entries, 0 to 327\n",
      "Data columns (total 8 columns):\n",
      " #   Column        Non-Null Count  Dtype         \n",
      "---  ------        --------------  -----         \n",
      " 0   uid           328 non-null    int64         \n",
      " 1   country       328 non-null    object        \n",
      " 2   joined_at     328 non-null    datetime64[ns]\n",
      " 3   paid_at       328 non-null    datetime64[ns]\n",
      " 4   revenue       328 non-null    int64         \n",
      " 5   payment_id    328 non-null    int64         \n",
      " 6   from_page     328 non-null    object        \n",
      " 7   product_type  328 non-null    object        \n",
      "dtypes: datetime64[ns](2), int64(3), object(3)\n",
      "memory usage: 20.6+ KB\n"
     ]
    }
   ],
   "source": [
    "transactions_control_2 = pd.read_csv('./transactions_control_2.csv',sep=';')\n",
    "transactions_control_2[['joined_at', 'paid_at']] = transactions_control_2[['joined_at', 'paid_at']].apply (pd.to_datetime)\n",
    "transactions_control_2.info()"
   ]
  },
  {
   "cell_type": "code",
   "execution_count": 90,
   "metadata": {},
   "outputs": [
    {
     "data": {
      "text/html": [
       "<div>\n",
       "<style scoped>\n",
       "    .dataframe tbody tr th:only-of-type {\n",
       "        vertical-align: middle;\n",
       "    }\n",
       "\n",
       "    .dataframe tbody tr th {\n",
       "        vertical-align: top;\n",
       "    }\n",
       "\n",
       "    .dataframe thead th {\n",
       "        text-align: right;\n",
       "    }\n",
       "</style>\n",
       "<table border=\"1\" class=\"dataframe\">\n",
       "  <thead>\n",
       "    <tr style=\"text-align: right;\">\n",
       "      <th></th>\n",
       "      <th>uid</th>\n",
       "      <th>revenue</th>\n",
       "    </tr>\n",
       "  </thead>\n",
       "  <tbody>\n",
       "    <tr>\n",
       "      <th>29</th>\n",
       "      <td>891725043</td>\n",
       "      <td>2</td>\n",
       "    </tr>\n",
       "    <tr>\n",
       "      <th>33</th>\n",
       "      <td>891861048</td>\n",
       "      <td>2</td>\n",
       "    </tr>\n",
       "    <tr>\n",
       "      <th>44</th>\n",
       "      <td>892065108</td>\n",
       "      <td>3</td>\n",
       "    </tr>\n",
       "    <tr>\n",
       "      <th>46</th>\n",
       "      <td>892097937</td>\n",
       "      <td>3</td>\n",
       "    </tr>\n",
       "    <tr>\n",
       "      <th>54</th>\n",
       "      <td>892261437</td>\n",
       "      <td>2</td>\n",
       "    </tr>\n",
       "    <tr>\n",
       "      <th>57</th>\n",
       "      <td>892339626</td>\n",
       "      <td>3</td>\n",
       "    </tr>\n",
       "  </tbody>\n",
       "</table>\n",
       "</div>"
      ],
      "text/plain": [
       "          uid  revenue\n",
       "29  891725043        2\n",
       "33  891861048        2\n",
       "44  892065108        3\n",
       "46  892097937        3\n",
       "54  892261437        2\n",
       "57  892339626        3"
      ]
     },
     "execution_count": 90,
     "metadata": {},
     "output_type": "execute_result"
    }
   ],
   "source": [
    "df = transactions_test[transactions_test['product_type'] == 'premium_no_trial']\n",
    "df.groupby(['uid'],as_index=False).agg({'revenue':'count'}).query(\"revenue > 1\")\n"
   ]
  },
  {
   "cell_type": "code",
   "execution_count": 89,
   "metadata": {},
   "outputs": [
    {
     "data": {
      "text/html": [
       "<div>\n",
       "<style scoped>\n",
       "    .dataframe tbody tr th:only-of-type {\n",
       "        vertical-align: middle;\n",
       "    }\n",
       "\n",
       "    .dataframe tbody tr th {\n",
       "        vertical-align: top;\n",
       "    }\n",
       "\n",
       "    .dataframe thead th {\n",
       "        text-align: right;\n",
       "    }\n",
       "</style>\n",
       "<table border=\"1\" class=\"dataframe\">\n",
       "  <thead>\n",
       "    <tr style=\"text-align: right;\">\n",
       "      <th></th>\n",
       "      <th>uid</th>\n",
       "      <th>revenue</th>\n",
       "    </tr>\n",
       "  </thead>\n",
       "  <tbody>\n",
       "    <tr>\n",
       "      <th>5</th>\n",
       "      <td>891216033</td>\n",
       "      <td>2</td>\n",
       "    </tr>\n",
       "    <tr>\n",
       "      <th>12</th>\n",
       "      <td>891264903</td>\n",
       "      <td>2</td>\n",
       "    </tr>\n",
       "    <tr>\n",
       "      <th>51</th>\n",
       "      <td>891822480</td>\n",
       "      <td>2</td>\n",
       "    </tr>\n",
       "    <tr>\n",
       "      <th>67</th>\n",
       "      <td>892101909</td>\n",
       "      <td>2</td>\n",
       "    </tr>\n",
       "    <tr>\n",
       "      <th>88</th>\n",
       "      <td>892290105</td>\n",
       "      <td>2</td>\n",
       "    </tr>\n",
       "    <tr>\n",
       "      <th>94</th>\n",
       "      <td>892366260</td>\n",
       "      <td>2</td>\n",
       "    </tr>\n",
       "    <tr>\n",
       "      <th>96</th>\n",
       "      <td>892393119</td>\n",
       "      <td>2</td>\n",
       "    </tr>\n",
       "  </tbody>\n",
       "</table>\n",
       "</div>"
      ],
      "text/plain": [
       "          uid  revenue\n",
       "5   891216033        2\n",
       "12  891264903        2\n",
       "51  891822480        2\n",
       "67  892101909        2\n",
       "88  892290105        2\n",
       "94  892366260        2\n",
       "96  892393119        2"
      ]
     },
     "execution_count": 89,
     "metadata": {},
     "output_type": "execute_result"
    }
   ],
   "source": [
    "df_1 = transactions_control_1[transactions_control_1['product_type'] == 'premium_no_trial']\n",
    "df_1.groupby(['uid'],as_index=False).agg({'revenue':'count'}).query(\"revenue > 1\")"
   ]
  },
  {
   "cell_type": "code",
   "execution_count": 88,
   "metadata": {},
   "outputs": [
    {
     "data": {
      "text/html": [
       "<div>\n",
       "<style scoped>\n",
       "    .dataframe tbody tr th:only-of-type {\n",
       "        vertical-align: middle;\n",
       "    }\n",
       "\n",
       "    .dataframe tbody tr th {\n",
       "        vertical-align: top;\n",
       "    }\n",
       "\n",
       "    .dataframe thead th {\n",
       "        text-align: right;\n",
       "    }\n",
       "</style>\n",
       "<table border=\"1\" class=\"dataframe\">\n",
       "  <thead>\n",
       "    <tr style=\"text-align: right;\">\n",
       "      <th></th>\n",
       "      <th>uid</th>\n",
       "      <th>revenue</th>\n",
       "    </tr>\n",
       "  </thead>\n",
       "  <tbody>\n",
       "    <tr>\n",
       "      <th>9</th>\n",
       "      <td>891219540</td>\n",
       "      <td>2</td>\n",
       "    </tr>\n",
       "    <tr>\n",
       "      <th>35</th>\n",
       "      <td>891637005</td>\n",
       "      <td>2</td>\n",
       "    </tr>\n",
       "    <tr>\n",
       "      <th>78</th>\n",
       "      <td>892139829</td>\n",
       "      <td>3</td>\n",
       "    </tr>\n",
       "    <tr>\n",
       "      <th>101</th>\n",
       "      <td>892435536</td>\n",
       "      <td>2</td>\n",
       "    </tr>\n",
       "  </tbody>\n",
       "</table>\n",
       "</div>"
      ],
      "text/plain": [
       "           uid  revenue\n",
       "9    891219540        2\n",
       "35   891637005        2\n",
       "78   892139829        3\n",
       "101  892435536        2"
      ]
     },
     "execution_count": 88,
     "metadata": {},
     "output_type": "execute_result"
    }
   ],
   "source": [
    "df_2 = transactions_control_2[transactions_control_2['product_type'] == 'premium_no_trial']\n",
    "df_2.groupby(['uid'],as_index=False).agg({'revenue':'count'}).query(\"revenue > 1\")"
   ]
  },
  {
   "attachments": {},
   "cell_type": "markdown",
   "metadata": {},
   "source": [
    "## Проводим А/А тест на двух контрольных данных о транзакциях"
   ]
  },
  {
   "cell_type": "code",
   "execution_count": 81,
   "metadata": {},
   "outputs": [
    {
     "data": {
      "application/vnd.jupyter.widget-view+json": {
       "model_id": "d7b813c2689a48368dda60956f074474",
       "version_major": 2,
       "version_minor": 0
      },
      "text/plain": [
       "  0%|          | 0/10000 [00:00<?, ?it/s]"
      ]
     },
     "metadata": {},
     "output_type": "display_data"
    },
    {
     "data": {
      "image/png": "[encoded data removed]",
      "text/plain": [
       "<Figure size 640x480 with 1 Axes>"
      ]
     },
     "metadata": {},
     "output_type": "display_data"
    },
    {
     "data": {
      "text/plain": [
       "0.004"
      ]
     },
     "execution_count": 81,
     "metadata": {},
     "output_type": "execute_result"
    }
   ],
   "source": [
    "df_1 = transactions_control_1[transactions_control_1['product_type'] == 'premium_no_trial']\n",
    "df_2 = transactions_control_2[transactions_control_2['product_type'] == 'premium_no_trial']\n",
    "n_s = 50\n",
    "simulations = 10000\n",
    "res = []\n",
    "\n",
    "\n",
    "for i in tqdm(range(simulations)):\n",
    "    s1 = df_1['revenue'].sample(n_s, replace = False).values\n",
    "    s2 = df_2['revenue'].sample(n_s, replace = False).values\n",
    "    res.append(stats.ttest_ind(s1, s2, equal_var = False)[1]) # сохраняем pvalue\n",
    "\n",
    "plt.hist(res, bins = 50)\n",
    "plt.style.use('ggplot')\n",
    "plt.xlabel('pvalues')\n",
    "plt.ylabel('frequency')\n",
    "plt.title(\"Histogram of ttest A/A simulations \")\n",
    "plt.show()\n",
    "\n",
    "# Проверяем, что количество ложноположительных случаев не превышает альфа\n",
    "sum(np.array(res) < 0.05) / simulations"
   ]
  },
  {
   "attachments": {},
   "cell_type": "markdown",
   "metadata": {},
   "source": [
    "В результате делаем вывод, что система сплитования качественная.\n"
   ]
  },
  {
   "cell_type": "code",
   "execution_count": 200,
   "metadata": {},
   "outputs": [
    {
     "name": "stdout",
     "output_type": "stream",
     "text": [
      "ARPU_test: 188.186165273909\n",
      "ARPU_control_1: 179.5527649769585\n",
      "ARPU_control_2: 174.6737804878049\n"
     ]
    }
   ],
   "source": [
    "# Посмотрим на показатели метрики ARPU в рамках тестируемого продукта (premium_no_trial)\n",
    "# за общее количество пользователей берем количество уникальных пользователей в группе \n",
    "\n",
    "ARPU_test = df.revenue.sum() / users_test.uid.nunique() \n",
    "\n",
    "ARPU_control_1 = df_1.revenue.sum() / users_control_1.uid.nunique() \n",
    "\n",
    "ARPU_control_2 = df_2.revenue.sum() / users_control_2.uid.nunique() \n",
    "\n",
    "print(f'ARPU_test: {ARPU_test}', f'ARPU_control_1: {ARPU_control_1}', f'ARPU_control_2: {ARPU_control_2}', sep='\\n')\n",
    "\n"
   ]
  },
  {
   "cell_type": "code",
   "execution_count": 201,
   "metadata": {},
   "outputs": [
    {
     "name": "stdout",
     "output_type": "stream",
     "text": [
      "ARPPU_test: 12100.09\n",
      "ARPPU_control_1: 7871.3\n",
      "ARPPU_control_2: 7302.05\n"
     ]
    }
   ],
   "source": [
    "# Также смотрим на ARPPU \n",
    "ARPPU_test = round(df.revenue.sum() / df.uid.nunique(), 2) \n",
    "\n",
    "ARPPU_control_1 = round(df_1.revenue.sum() / df_1.uid.nunique(), 2)\n",
    "\n",
    "ARPPU_control_2 = round(df_2.revenue.sum() / df_2.uid.nunique(), 2 )\n",
    "\n",
    "print(f'ARPPU_test: {ARPPU_test}', f'ARPPU_control_1: {ARPPU_control_1}', f'ARPPU_control_2: {ARPPU_control_2}', sep='\\n')"
   ]
  },
  {
   "cell_type": "code",
   "execution_count": null,
   "metadata": {},
   "outputs": [],
   "source": [
    "# Можем ещё посмотреть на абсолютную конверсию CR "
   ]
  },
  {
   "cell_type": "code",
   "execution_count": null,
   "metadata": {},
   "outputs": [],
   "source": []
  },
  {
   "cell_type": "code",
   "execution_count": null,
   "metadata": {},
   "outputs": [],
   "source": []
  },
  {
   "cell_type": "code",
   "execution_count": null,
   "metadata": {},
   "outputs": [],
   "source": []
  },
  {
   "cell_type": "code",
   "execution_count": null,
   "metadata": {},
   "outputs": [],
   "source": []
  },
  {
   "cell_type": "code",
   "execution_count": 154,
   "metadata": {},
   "outputs": [
    {
     "name": "stderr",
     "output_type": "stream",
     "text": [
      "/var/folders/98/cq77c4j90csgl9c58kjw89dm0000gn/T/ipykernel_41386/931224934.py:1: SettingWithCopyWarning: \n",
      "A value is trying to be set on a copy of a slice from a DataFrame.\n",
      "Try using .loc[row_indexer,col_indexer] = value instead\n",
      "\n",
      "See the caveats in the documentation: https://pandas.pydata.org/pandas-docs/stable/user_guide/indexing.html#returning-a-view-versus-a-copy\n",
      "  df['delta'] = df['paid_at'] - df['joined_at']\n"
     ]
    }
   ],
   "source": [
    "df['delta'] = df['paid_at'] - df['joined_at']\n",
    "list_of_unique_page_df = df.from_page.unique()"
   ]
  },
  {
   "cell_type": "code",
   "execution_count": 155,
   "metadata": {},
   "outputs": [
    {
     "name": "stderr",
     "output_type": "stream",
     "text": [
      "/var/folders/98/cq77c4j90csgl9c58kjw89dm0000gn/T/ipykernel_41386/4254458593.py:1: SettingWithCopyWarning: \n",
      "A value is trying to be set on a copy of a slice from a DataFrame.\n",
      "Try using .loc[row_indexer,col_indexer] = value instead\n",
      "\n",
      "See the caveats in the documentation: https://pandas.pydata.org/pandas-docs/stable/user_guide/indexing.html#returning-a-view-versus-a-copy\n",
      "  df_1['delta'] = df_1['paid_at'] - df_1['joined_at']\n"
     ]
    }
   ],
   "source": [
    "df_1['delta'] = df_1['paid_at'] - df_1['joined_at']\n",
    "list_of_unique_page_df_1 = df_1.from_page.unique()"
   ]
  },
  {
   "cell_type": "code",
   "execution_count": 156,
   "metadata": {},
   "outputs": [],
   "source": [
    "df_2['delta'] = df_2['paid_at'] - df_2['joined_at']\n",
    "list_of_unique_page_df_2 = df_2.from_page.unique()"
   ]
  },
  {
   "cell_type": "code",
   "execution_count": 157,
   "metadata": {},
   "outputs": [],
   "source": [
    "list_of_unique_page_df = list_of_unique_page_df.tolist()\n",
    "list_of_unique_page_df_1 = list_of_unique_page_df_1.tolist()\n",
    "list_of_unique_page_df_2 = list_of_unique_page_df_2.tolist()\n"
   ]
  },
  {
   "cell_type": "code",
   "execution_count": 178,
   "metadata": {},
   "outputs": [
    {
     "data": {
      "text/plain": [
       "['delivery_vip']"
      ]
     },
     "execution_count": 178,
     "metadata": {},
     "output_type": "execute_result"
    }
   ],
   "source": [
    "result = []\n",
    "for i in list_of_unique_page_df:\n",
    "    if i not in list_of_unique_page_df_2:\n",
    "        result.append(i)\n",
    "result"
   ]
  },
  {
   "cell_type": "code",
   "execution_count": 182,
   "metadata": {},
   "outputs": [
    {
     "data": {
      "text/html": [
       "<div>\n",
       "<style scoped>\n",
       "    .dataframe tbody tr th:only-of-type {\n",
       "        vertical-align: middle;\n",
       "    }\n",
       "\n",
       "    .dataframe tbody tr th {\n",
       "        vertical-align: top;\n",
       "    }\n",
       "\n",
       "    .dataframe thead th {\n",
       "        text-align: right;\n",
       "    }\n",
       "</style>\n",
       "<table border=\"1\" class=\"dataframe\">\n",
       "  <thead>\n",
       "    <tr style=\"text-align: right;\">\n",
       "      <th></th>\n",
       "      <th>uid</th>\n",
       "      <th>country</th>\n",
       "      <th>joined_at</th>\n",
       "      <th>paid_at</th>\n",
       "      <th>revenue</th>\n",
       "      <th>payment_id</th>\n",
       "      <th>from_page</th>\n",
       "      <th>product_type</th>\n",
       "      <th>delta</th>\n",
       "    </tr>\n",
       "  </thead>\n",
       "  <tbody>\n",
       "    <tr>\n",
       "      <th>12</th>\n",
       "      <td>891178380</td>\n",
       "      <td>Spain</td>\n",
       "      <td>2017-08-11 03:54:00</td>\n",
       "      <td>2017-09-11 21:53:00</td>\n",
       "      <td>113477</td>\n",
       "      <td>147</td>\n",
       "      <td>promo_09</td>\n",
       "      <td>premium_no_trial</td>\n",
       "      <td>31 days 17:59:00</td>\n",
       "    </tr>\n",
       "    <tr>\n",
       "      <th>21</th>\n",
       "      <td>891312873</td>\n",
       "      <td>Italy</td>\n",
       "      <td>2017-05-11 21:22:00</td>\n",
       "      <td>2017-10-11 21:51:00</td>\n",
       "      <td>7852</td>\n",
       "      <td>147</td>\n",
       "      <td>promo_09</td>\n",
       "      <td>premium_no_trial</td>\n",
       "      <td>153 days 00:29:00</td>\n",
       "    </tr>\n",
       "    <tr>\n",
       "      <th>22</th>\n",
       "      <td>891071157</td>\n",
       "      <td>United States of America</td>\n",
       "      <td>2017-10-11 10:20:00</td>\n",
       "      <td>2017-10-11 16:37:00</td>\n",
       "      <td>9100</td>\n",
       "      <td>147</td>\n",
       "      <td>promo_09</td>\n",
       "      <td>premium_no_trial</td>\n",
       "      <td>0 days 06:17:00</td>\n",
       "    </tr>\n",
       "    <tr>\n",
       "      <th>28</th>\n",
       "      <td>892229262</td>\n",
       "      <td>United States of America</td>\n",
       "      <td>2017-10-18 07:20:00</td>\n",
       "      <td>2017-10-19 04:23:00</td>\n",
       "      <td>9100</td>\n",
       "      <td>147</td>\n",
       "      <td>promo_09</td>\n",
       "      <td>premium_no_trial</td>\n",
       "      <td>0 days 21:03:00</td>\n",
       "    </tr>\n",
       "    <tr>\n",
       "      <th>74</th>\n",
       "      <td>892205850</td>\n",
       "      <td>Spain</td>\n",
       "      <td>2017-10-18 19:20:00</td>\n",
       "      <td>2017-02-11 00:13:00</td>\n",
       "      <td>5408</td>\n",
       "      <td>147</td>\n",
       "      <td>promo_09</td>\n",
       "      <td>premium_no_trial</td>\n",
       "      <td>-250 days +04:53:00</td>\n",
       "    </tr>\n",
       "    <tr>\n",
       "      <th>84</th>\n",
       "      <td>891861489</td>\n",
       "      <td>Australia</td>\n",
       "      <td>2017-10-26 02:31:00</td>\n",
       "      <td>2017-04-11 02:04:00</td>\n",
       "      <td>12597</td>\n",
       "      <td>147</td>\n",
       "      <td>promo_09</td>\n",
       "      <td>premium_no_trial</td>\n",
       "      <td>-199 days +23:33:00</td>\n",
       "    </tr>\n",
       "    <tr>\n",
       "      <th>102</th>\n",
       "      <td>892275204</td>\n",
       "      <td>Mexico</td>\n",
       "      <td>2017-10-17 06:09:00</td>\n",
       "      <td>2017-10-17 15:05:00</td>\n",
       "      <td>6214</td>\n",
       "      <td>147</td>\n",
       "      <td>promo_09</td>\n",
       "      <td>premium_no_trial</td>\n",
       "      <td>0 days 08:56:00</td>\n",
       "    </tr>\n",
       "    <tr>\n",
       "      <th>129</th>\n",
       "      <td>892217373</td>\n",
       "      <td>United States of America</td>\n",
       "      <td>2017-10-18 14:15:00</td>\n",
       "      <td>2017-10-23 22:45:00</td>\n",
       "      <td>7904</td>\n",
       "      <td>147</td>\n",
       "      <td>promo_09</td>\n",
       "      <td>premium_no_trial</td>\n",
       "      <td>5 days 08:30:00</td>\n",
       "    </tr>\n",
       "    <tr>\n",
       "      <th>144</th>\n",
       "      <td>891806436</td>\n",
       "      <td>Italy</td>\n",
       "      <td>2017-10-27 08:51:00</td>\n",
       "      <td>2017-10-30 17:34:00</td>\n",
       "      <td>12597</td>\n",
       "      <td>147</td>\n",
       "      <td>promo_09</td>\n",
       "      <td>premium_no_trial</td>\n",
       "      <td>3 days 08:43:00</td>\n",
       "    </tr>\n",
       "    <tr>\n",
       "      <th>197</th>\n",
       "      <td>891603810</td>\n",
       "      <td>United States of America</td>\n",
       "      <td>2017-10-31 06:36:00</td>\n",
       "      <td>2017-04-11 09:25:00</td>\n",
       "      <td>9100</td>\n",
       "      <td>147</td>\n",
       "      <td>promo_09</td>\n",
       "      <td>premium_no_trial</td>\n",
       "      <td>-203 days +02:49:00</td>\n",
       "    </tr>\n",
       "    <tr>\n",
       "      <th>222</th>\n",
       "      <td>891867477</td>\n",
       "      <td>Italy</td>\n",
       "      <td>2017-10-25 23:18:00</td>\n",
       "      <td>2017-03-11 19:02:00</td>\n",
       "      <td>12597</td>\n",
       "      <td>147</td>\n",
       "      <td>promo_09</td>\n",
       "      <td>premium_no_trial</td>\n",
       "      <td>-229 days +19:44:00</td>\n",
       "    </tr>\n",
       "    <tr>\n",
       "      <th>228</th>\n",
       "      <td>892405179</td>\n",
       "      <td>United States of America</td>\n",
       "      <td>2017-10-14 19:58:00</td>\n",
       "      <td>2017-10-23 06:07:00</td>\n",
       "      <td>9100</td>\n",
       "      <td>147</td>\n",
       "      <td>promo_09</td>\n",
       "      <td>premium_no_trial</td>\n",
       "      <td>8 days 10:09:00</td>\n",
       "    </tr>\n",
       "    <tr>\n",
       "      <th>230</th>\n",
       "      <td>891508155</td>\n",
       "      <td>Latvia</td>\n",
       "      <td>2017-02-11 09:46:00</td>\n",
       "      <td>2017-11-11 20:38:00</td>\n",
       "      <td>6357</td>\n",
       "      <td>147</td>\n",
       "      <td>promo_09</td>\n",
       "      <td>premium_no_trial</td>\n",
       "      <td>273 days 10:52:00</td>\n",
       "    </tr>\n",
       "    <tr>\n",
       "      <th>232</th>\n",
       "      <td>891882681</td>\n",
       "      <td>Belgium</td>\n",
       "      <td>2017-10-25 17:25:00</td>\n",
       "      <td>2017-11-11 10:49:00</td>\n",
       "      <td>12597</td>\n",
       "      <td>147</td>\n",
       "      <td>promo_09</td>\n",
       "      <td>premium_no_trial</td>\n",
       "      <td>16 days 17:24:00</td>\n",
       "    </tr>\n",
       "    <tr>\n",
       "      <th>265</th>\n",
       "      <td>891572565</td>\n",
       "      <td>United Arab Emirates</td>\n",
       "      <td>2017-10-31 20:40:00</td>\n",
       "      <td>2017-05-11 13:32:00</td>\n",
       "      <td>9217</td>\n",
       "      <td>147</td>\n",
       "      <td>promo_09</td>\n",
       "      <td>premium_no_trial</td>\n",
       "      <td>-174 days +16:52:00</td>\n",
       "    </tr>\n",
       "  </tbody>\n",
       "</table>\n",
       "</div>"
      ],
      "text/plain": [
       "           uid                   country           joined_at  \\\n",
       "12   891178380                     Spain 2017-08-11 03:54:00   \n",
       "21   891312873                     Italy 2017-05-11 21:22:00   \n",
       "22   891071157  United States of America 2017-10-11 10:20:00   \n",
       "28   892229262  United States of America 2017-10-18 07:20:00   \n",
       "74   892205850                     Spain 2017-10-18 19:20:00   \n",
       "84   891861489                 Australia 2017-10-26 02:31:00   \n",
       "102  892275204                    Mexico 2017-10-17 06:09:00   \n",
       "129  892217373  United States of America 2017-10-18 14:15:00   \n",
       "144  891806436                     Italy 2017-10-27 08:51:00   \n",
       "197  891603810  United States of America 2017-10-31 06:36:00   \n",
       "222  891867477                     Italy 2017-10-25 23:18:00   \n",
       "228  892405179  United States of America 2017-10-14 19:58:00   \n",
       "230  891508155                    Latvia 2017-02-11 09:46:00   \n",
       "232  891882681                   Belgium 2017-10-25 17:25:00   \n",
       "265  891572565      United Arab Emirates 2017-10-31 20:40:00   \n",
       "\n",
       "                paid_at  revenue  payment_id from_page      product_type  \\\n",
       "12  2017-09-11 21:53:00   113477         147  promo_09  premium_no_trial   \n",
       "21  2017-10-11 21:51:00     7852         147  promo_09  premium_no_trial   \n",
       "22  2017-10-11 16:37:00     9100         147  promo_09  premium_no_trial   \n",
       "28  2017-10-19 04:23:00     9100         147  promo_09  premium_no_trial   \n",
       "74  2017-02-11 00:13:00     5408         147  promo_09  premium_no_trial   \n",
       "84  2017-04-11 02:04:00    12597         147  promo_09  premium_no_trial   \n",
       "102 2017-10-17 15:05:00     6214         147  promo_09  premium_no_trial   \n",
       "129 2017-10-23 22:45:00     7904         147  promo_09  premium_no_trial   \n",
       "144 2017-10-30 17:34:00    12597         147  promo_09  premium_no_trial   \n",
       "197 2017-04-11 09:25:00     9100         147  promo_09  premium_no_trial   \n",
       "222 2017-03-11 19:02:00    12597         147  promo_09  premium_no_trial   \n",
       "228 2017-10-23 06:07:00     9100         147  promo_09  premium_no_trial   \n",
       "230 2017-11-11 20:38:00     6357         147  promo_09  premium_no_trial   \n",
       "232 2017-11-11 10:49:00    12597         147  promo_09  premium_no_trial   \n",
       "265 2017-05-11 13:32:00     9217         147  promo_09  premium_no_trial   \n",
       "\n",
       "                  delta  \n",
       "12     31 days 17:59:00  \n",
       "21    153 days 00:29:00  \n",
       "22      0 days 06:17:00  \n",
       "28      0 days 21:03:00  \n",
       "74  -250 days +04:53:00  \n",
       "84  -199 days +23:33:00  \n",
       "102     0 days 08:56:00  \n",
       "129     5 days 08:30:00  \n",
       "144     3 days 08:43:00  \n",
       "197 -203 days +02:49:00  \n",
       "222 -229 days +19:44:00  \n",
       "228     8 days 10:09:00  \n",
       "230   273 days 10:52:00  \n",
       "232    16 days 17:24:00  \n",
       "265 -174 days +16:52:00  "
      ]
     },
     "execution_count": 182,
     "metadata": {},
     "output_type": "execute_result"
    }
   ],
   "source": [
    "df[df['from_page']== 'promo_09']"
   ]
  },
  {
   "cell_type": "code",
   "execution_count": 165,
   "metadata": {},
   "outputs": [
    {
     "data": {
      "text/plain": [
       "['dating',\n",
       " 'left_sidebar_menu',\n",
       " 'promo_09',\n",
       " 'autoreply_message',\n",
       " 'none',\n",
       " 'popular_users_block',\n",
       " 'no_sympathy',\n",
       " 'send_message',\n",
       " 'popular_users_chat',\n",
       " 'user_profile',\n",
       " 'fans']"
      ]
     },
     "execution_count": 165,
     "metadata": {},
     "output_type": "execute_result"
    }
   ],
   "source": [
    "list_of_unique_page_df_1"
   ]
  },
  {
   "cell_type": "code",
   "execution_count": null,
   "metadata": {},
   "outputs": [],
   "source": []
  },
  {
   "cell_type": "code",
   "execution_count": null,
   "metadata": {},
   "outputs": [],
   "source": []
  },
  {
   "cell_type": "code",
   "execution_count": null,
   "metadata": {},
   "outputs": [],
   "source": []
  },
  {
   "cell_type": "code",
   "execution_count": null,
   "metadata": {},
   "outputs": [],
   "source": []
  },
  {
   "cell_type": "code",
   "execution_count": null,
   "metadata": {},
   "outputs": [],
   "source": []
  },
  {
   "cell_type": "code",
   "execution_count": null,
   "metadata": {},
   "outputs": [],
   "source": []
  },
  {
   "cell_type": "code",
   "execution_count": null,
   "metadata": {},
   "outputs": [],
   "source": []
  },
  {
   "cell_type": "code",
   "execution_count": null,
   "metadata": {},
   "outputs": [],
   "source": []
  },
  {
   "cell_type": "code",
   "execution_count": null,
   "metadata": {},
   "outputs": [],
   "source": []
  },
  {
   "cell_type": "code",
   "execution_count": null,
   "metadata": {},
   "outputs": [],
   "source": []
  },
  {
   "cell_type": "code",
   "execution_count": null,
   "metadata": {},
   "outputs": [],
   "source": []
  }
 ],
 "metadata": {
  "kernelspec": {
   "display_name": "Python 3 (ipykernel)",
   "language": "python",
   "name": "python3"
  },
  "language_info": {
   "codemirror_mode": {
    "name": "ipython",
    "version": 3
   },
   "file_extension": ".py",
   "mimetype": "text/x-python",
   "name": "python",
   "nbconvert_exporter": "python",
   "pygments_lexer": "ipython3",
   "version": "3.10.9"
  },
  "toc": {
   "base_numbering": 1,
   "nav_menu": {},
   "number_sections": true,
   "sideBar": true,
   "skip_h1_title": false,
   "title_cell": "Table of Contents",
   "title_sidebar": "Contents",
   "toc_cell": false,
   "toc_position": {
    "height": "calc(100% - 180px)",
    "left": "10px",
    "top": "150px",
    "width": "165px"
   },
   "toc_section_display": true,
   "toc_window_display": false
  },
  "varInspector": {
   "cols": {
    "lenName": 16,
    "lenType": 16,
    "lenVar": 40
   },
   "kernels_config": {
    "python": {
     "delete_cmd_postfix": "",
     "delete_cmd_prefix": "del ",
     "library": "var_list.py",
     "varRefreshCmd": "print(var_dic_list())"
    },
    "r": {
     "delete_cmd_postfix": ") ",
     "delete_cmd_prefix": "rm(",
     "library": "var_list.r",
     "varRefreshCmd": "cat(var_dic_list()) "
    }
   },
   "types_to_exclude": [
    "module",
    "function",
    "builtin_function_or_method",
    "instance",
    "_Feature"
   ],
   "window_display": false
  }
 },
 "nbformat": 4,
 "nbformat_minor": 2
}
