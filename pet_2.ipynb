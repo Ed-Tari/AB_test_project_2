{
 "cells": [
  {
   "cell_type": "markdown",
   "metadata": {},
   "source": [
    "## Введение\n",
    "Помимо базовых функций, в приложении также имеется премиум-подписка, которая дает доступ к ряду важных дополнительных возможностей. Был проведен A/B тест, в рамках которого для новых пользователей из нескольких стран была изменена стоимость премиум-подписки* при покупке через две новые платежные системы. При этом стоимость пробного периода оставалась прежней."
   ]
  },
  {
   "cell_type": "markdown",
   "metadata": {},
   "source": [
    "### Задача:\n",
    "\n",
    "1. Проверить Был ли эксперимент успешен в целом.\n",
    "\n",
    "2. Проанализируйте, имеет ли нововведение смысл среди каких-либо конкретных групп пользователей.\n",
    "\n",
    "*Деньги за подписку списываются ежемесячно до тех пор, пока пользователь её не отменит.*\n"
   ]
  },
  {
   "cell_type": "markdown",
   "metadata": {},
   "source": [
    "## Данные \n",
    "\n",
    "### users_*.csv – информация о пользователях\n",
    "\n",
    "uid – идентификатор пользователя\n",
    "\n",
    "age – возраст\n",
    "\n",
    "attraction_coeff – коэффициент привлекательности (от 0 до 1000, лайки/просмотры *1000)\n",
    "\n",
    "coins – число монеток (внутренняя валюта)\n",
    "\n",
    "country – страна  \n",
    "\n",
    "visit_days – в какие дни после регистрации пользователь посещал приложение (напр. в 1, затем в 7)\n",
    "\n",
    "gender – пол\n",
    "\n",
    "age_filter_start  – фильтр поиска, мин. значение \n",
    "\n",
    "age_filter_end  – фильтр поиска, макс. значение \n",
    "\n",
    "views_count – число полученных оценок \n",
    "\n",
    "was_premium – был ли когда-либо премиум (либо пробный период премиум-статуса, либо купленный за деньги)\n",
    "\n",
    "is_premium –  является ли премиум\n",
    "\n",
    "total_revenue – нормированная выручка\n",
    "\n",
    "\n",
    "### transactions_*.csv – информация о платежах пользователей:\n",
    "\n",
    "uid – идентификатор пользователя\n",
    "\n",
    "country – страна\n",
    "\n",
    "joined_at – дата и время регистрации\n",
    "\n",
    "paid_at – дата и время покупки\n",
    "\n",
    "revenue – нормированная выручка\n",
    "\n",
    "payment_id – идентификатор платежа\n",
    "\n",
    "from_page – откуда пользователь перешел на страницу оплаты\n",
    "\n",
    "product_type – тип продукта (trial_premium – пробная премиум-подписка, premium_no_trial – премиум-подписка без пробной, coins – подписка за \n",
    "внутреннюю валюту, other_type – другое)\n"
   ]
  },
  {
   "cell_type": "markdown",
   "metadata": {},
   "source": [
    "### Файлы:\n",
    "\n",
    "users_test – информация о пользователях в тестовой группе. \n",
    "\n",
    "users_control_1 – информация о пользователях в первой контрольной группе. \n",
    "\n",
    "users_control_2 – информация о пользователях во второй контрольной группе . \n",
    "\n",
    "transactions_test – информация о платежах пользователей в тестовой группе. \n",
    "\n",
    "transactions_control_1 – информация о платежах пользователей в первой контрольной группе. \n",
    "\n",
    "transactions_control_2 – информация о платежах пользователей во второй контрольной группе \n",
    "  \n",
    "\n"
   ]
  },
  {
   "cell_type": "code",
   "execution_count": 105,
   "metadata": {},
   "outputs": [],
   "source": [
    "import numpy as np\n",
    "import pandas as pd\n",
    "import scipy.stats as ss\n",
    "import datetime\n",
    "\n",
    "import seaborn as sns\n",
    "import plotly.express as px\n",
    "import matplotlib.pyplot as plt\n",
    "from tqdm.auto import tqdm\n",
    "from scipy.stats import norm, mannwhitneyu\n",
    "from scipy import stats\n"
   ]
  },
  {
   "cell_type": "markdown",
   "metadata": {},
   "source": [
    "# Преобразуем данные"
   ]
  },
  {
   "cell_type": "code",
   "execution_count": 106,
   "metadata": {},
   "outputs": [],
   "source": [
    "def processing_a_data(df):\n",
    "   df.fillna('0', inplace=True)\n",
    "   df['visit_days'] = df['visit_days'].apply (lambda x : [int(i) for i in x.replace('.',',').split(',') ] )\n",
    "   df['count_of_visit_days'] = df['visit_days'].apply (lambda x : len(x) if x[0]!=0 else 0)\n",
    "   df[['was_premium','is_premium','coins']] = df[['was_premium','is_premium','coins']].astype(int)\n",
    "   lst_col = ['uid', 'age', 'attraction_coeff', 'coins', 'country', 'visit_days', 'count_of_visit_days',\n",
    "   'gender', 'age_filter_start', 'age_filter_end', 'views_count',\n",
    "   'was_premium', 'is_premium', 'total_revenue']\n",
    "   return df[lst_col] \n",
    "\n",
    "\n"
   ]
  },
  {
   "cell_type": "code",
   "execution_count": 107,
   "metadata": {},
   "outputs": [
    {
     "data": {
      "text/plain": [
       "4308"
      ]
     },
     "execution_count": 107,
     "metadata": {},
     "output_type": "execute_result"
    }
   ],
   "source": [
    "users_test = pd.read_csv('./users_test.csv',sep = ';') \n",
    "users_test = processing_a_data(users_test)\n",
    "users_test.uid.nunique()"
   ]
  },
  {
   "cell_type": "code",
   "execution_count": 108,
   "metadata": {},
   "outputs": [
    {
     "data": {
      "text/plain": [
       "4340"
      ]
     },
     "execution_count": 108,
     "metadata": {},
     "output_type": "execute_result"
    }
   ],
   "source": [
    "users_control_1 = pd.read_csv('./users_control_1.csv', sep = ';')\n",
    "users_control_1 = processing_a_data(users_control_1)\n",
    "users_control_1.uid.nunique()"
   ]
  },
  {
   "cell_type": "code",
   "execution_count": 109,
   "metadata": {},
   "outputs": [
    {
     "data": {
      "text/plain": [
       "4264"
      ]
     },
     "execution_count": 109,
     "metadata": {},
     "output_type": "execute_result"
    }
   ],
   "source": [
    "users_control_2 = pd.read_csv('./users_control_2.csv', sep = ';')\n",
    "users_control_2 = processing_a_data(users_control_2)\n",
    "users_control_2.uid.nunique()"
   ]
  },
  {
   "cell_type": "code",
   "execution_count": 110,
   "metadata": {},
   "outputs": [
    {
     "name": "stdout",
     "output_type": "stream",
     "text": [
      "<class 'pandas.core.frame.DataFrame'>\n",
      "RangeIndex: 273 entries, 0 to 272\n",
      "Data columns (total 8 columns):\n",
      " #   Column        Non-Null Count  Dtype         \n",
      "---  ------        --------------  -----         \n",
      " 0   uid           273 non-null    int64         \n",
      " 1   country       273 non-null    object        \n",
      " 2   joined_at     273 non-null    datetime64[ns]\n",
      " 3   paid_at       273 non-null    datetime64[ns]\n",
      " 4   revenue       273 non-null    int64         \n",
      " 5   payment_id    273 non-null    int64         \n",
      " 6   from_page     273 non-null    object        \n",
      " 7   product_type  273 non-null    object        \n",
      "dtypes: datetime64[ns](2), int64(3), object(3)\n",
      "memory usage: 17.2+ KB\n"
     ]
    }
   ],
   "source": [
    "transactions_test = pd.read_csv('./transactions_test.csv',sep=';')\n",
    "\n",
    "transactions_test[['joined_at', 'paid_at']] = transactions_test[['joined_at', 'paid_at']].apply (pd.to_datetime)\n",
    "transactions_test.info()"
   ]
  },
  {
   "cell_type": "code",
   "execution_count": 111,
   "metadata": {},
   "outputs": [
    {
     "name": "stdout",
     "output_type": "stream",
     "text": [
      "<class 'pandas.core.frame.DataFrame'>\n",
      "RangeIndex: 1007 entries, 0 to 1006\n",
      "Data columns (total 8 columns):\n",
      " #   Column        Non-Null Count  Dtype  \n",
      "---  ------        --------------  -----  \n",
      " 0   uid           377 non-null    float64\n",
      " 1   country       377 non-null    object \n",
      " 2   joined_at     1007 non-null   object \n",
      " 3   paid_at       1007 non-null   object \n",
      " 4   revenue       377 non-null    float64\n",
      " 5   payment_id    377 non-null    float64\n",
      " 6   from_page     377 non-null    object \n",
      " 7   product_type  377 non-null    object \n",
      "dtypes: float64(3), object(5)\n",
      "memory usage: 63.1+ KB\n"
     ]
    }
   ],
   "source": [
    "# Видим,что в данной таблицы много пропущенных значений. Также некоторые столбцы имеют не правельный тип данных.\n",
    "transactions_control_1 = pd.read_csv('./transactions_control_1.csv', sep=';')\n",
    "transactions_control_1.info()\n",
    "\n",
    "\n"
   ]
  },
  {
   "cell_type": "code",
   "execution_count": 112,
   "metadata": {},
   "outputs": [
    {
     "name": "stdout",
     "output_type": "stream",
     "text": [
      "<class 'pandas.core.frame.DataFrame'>\n",
      "Int64Index: 377 entries, 0 to 376\n",
      "Data columns (total 8 columns):\n",
      " #   Column        Non-Null Count  Dtype         \n",
      "---  ------        --------------  -----         \n",
      " 0   uid           377 non-null    int64         \n",
      " 1   country       377 non-null    object        \n",
      " 2   joined_at     377 non-null    datetime64[ns]\n",
      " 3   paid_at       377 non-null    datetime64[ns]\n",
      " 4   revenue       377 non-null    int64         \n",
      " 5   payment_id    377 non-null    int64         \n",
      " 6   from_page     377 non-null    object        \n",
      " 7   product_type  377 non-null    object        \n",
      "dtypes: datetime64[ns](2), int64(3), object(3)\n",
      "memory usage: 26.5+ KB\n"
     ]
    }
   ],
   "source": [
    "transactions_control_1.dropna(inplace=True)\n",
    "transactions_control_1[['joined_at', 'paid_at']] = transactions_control_1[['joined_at', 'paid_at']].apply (pd.to_datetime)\n",
    "transactions_control_1[['uid','revenue','payment_id']] = transactions_control_1[['uid','revenue','payment_id']].astype(int)\n",
    "transactions_control_1.info()"
   ]
  },
  {
   "cell_type": "code",
   "execution_count": 113,
   "metadata": {},
   "outputs": [
    {
     "name": "stdout",
     "output_type": "stream",
     "text": [
      "<class 'pandas.core.frame.DataFrame'>\n",
      "RangeIndex: 328 entries, 0 to 327\n",
      "Data columns (total 8 columns):\n",
      " #   Column        Non-Null Count  Dtype         \n",
      "---  ------        --------------  -----         \n",
      " 0   uid           328 non-null    int64         \n",
      " 1   country       328 non-null    object        \n",
      " 2   joined_at     328 non-null    datetime64[ns]\n",
      " 3   paid_at       328 non-null    datetime64[ns]\n",
      " 4   revenue       328 non-null    int64         \n",
      " 5   payment_id    328 non-null    int64         \n",
      " 6   from_page     328 non-null    object        \n",
      " 7   product_type  328 non-null    object        \n",
      "dtypes: datetime64[ns](2), int64(3), object(3)\n",
      "memory usage: 20.6+ KB\n"
     ]
    }
   ],
   "source": [
    "transactions_control_2 = pd.read_csv('./transactions_control_2.csv',sep=';')\n",
    "transactions_control_2[['joined_at', 'paid_at']] = transactions_control_2[['joined_at', 'paid_at']].apply (pd.to_datetime)\n",
    "transactions_control_2.info()"
   ]
  },
  {
   "cell_type": "code",
   "execution_count": 114,
   "metadata": {},
   "outputs": [],
   "source": [
    "df = transactions_test[transactions_test['product_type'] == 'premium_no_trial']\n",
    "\n",
    "df_1 = transactions_control_1[transactions_control_1['product_type'] == 'premium_no_trial']\n",
    "\n",
    "df_2 = transactions_control_2[transactions_control_2['product_type'] == 'premium_no_trial']\n"
   ]
  },
  {
   "cell_type": "code",
   "execution_count": 115,
   "metadata": {},
   "outputs": [
    {
     "data": {
      "text/plain": [
       "Text(0.5, 1.0, 'Control_2')"
      ]
     },
     "execution_count": 115,
     "metadata": {},
     "output_type": "execute_result"
    },
    {
     "data": {
      "image/png": "[encoded data removed]",
      "text/plain": [
       "<Figure size 1500x500 with 3 Axes>"
      ]
     },
     "metadata": {},
     "output_type": "display_data"
    }
   ],
   "source": [
    "# Построим графики распределения\n",
    "fig, ax = plt.subplots(1, 3, figsize = (15,5))\n",
    "ax[0].hist(df.revenue, bins= 100)\n",
    "ax[0].set_title('Test')\n",
    "ax[1].hist(df_1.revenue, bins= 100)\n",
    "ax[1].set_title('Control_1')\n",
    "ax[2].hist(df_2.revenue, bins= 100)\n",
    "ax[2].set_title('Control_2')"
   ]
  },
  {
   "cell_type": "markdown",
   "metadata": {},
   "source": [
    "Видим асимметричное распределение, и явыне выбросы."
   ]
  },
  {
   "cell_type": "code",
   "execution_count": 116,
   "metadata": {},
   "outputs": [
    {
     "data": {
      "text/plain": [
       "Text(0.5, 1.0, 'Control_2')"
      ]
     },
     "execution_count": 116,
     "metadata": {},
     "output_type": "execute_result"
    },
    {
     "data": {
      "image/png": "[encoded data removed]",
      "text/plain": [
       "<Figure size 1500x500 with 3 Axes>"
      ]
     },
     "metadata": {},
     "output_type": "display_data"
    }
   ],
   "source": [
    "# Построим график расспределения отбросив выбрасы в данных. \n",
    "fig, ax = plt.subplots(1, 3, figsize = (15,5))\n",
    "ax[0].hist(df[df['revenue'] <= df.revenue.quantile(0.95)].revenue, bins= 100)\n",
    "ax[0].set_title('Test')\n",
    "ax[1].hist(df_1[df_1['revenue'] <= df_1.revenue.quantile(0.95)].revenue, bins= 100)\n",
    "ax[1].set_title('Control_1')\n",
    "ax[2].hist(df_2[df_2['revenue'] <= df_2.revenue.quantile(0.95)].revenue, bins= 100)\n",
    "ax[2].set_title('Control_2')"
   ]
  },
  {
   "cell_type": "code",
   "execution_count": 117,
   "metadata": {},
   "outputs": [
    {
     "name": "stdout",
     "output_type": "stream",
     "text": [
      "Сред. revenue Test 7888.540540540541\n",
      "Сред. revenue Control_1 5271.63\n",
      "Сред. revenue COntrol_2 5536.455445544554\n"
     ]
    }
   ],
   "source": [
    "df = df[df['revenue'] <= df.revenue.quantile(0.95)]\n",
    "df_1 = df_1[df_1['revenue'] <= df_1.revenue.quantile(0.95)]\n",
    "df_2 = df_2[df_2['revenue'] <= df_2.revenue.quantile(0.95)]\n",
    "print('Сред. revenue Test',df.revenue.mean())\n",
    "print('Сред. revenue Control_1',df_1.revenue.mean())\n",
    "print('Сред. revenue COntrol_2',df_2.revenue.mean())"
   ]
  },
  {
   "attachments": {},
   "cell_type": "markdown",
   "metadata": {},
   "source": [
    "## Проводим А/А тест на двух контрольных группах о транзакциях. "
   ]
  },
  {
   "cell_type": "code",
   "execution_count": 118,
   "metadata": {},
   "outputs": [
    {
     "data": {
      "application/vnd.jupyter.widget-view+json": {
       "model_id": "cd1a312206ed44848a6899b40e9e720d",
       "version_major": 2,
       "version_minor": 0
      },
      "text/plain": [
       "  0%|          | 0/10000 [00:00<?, ?it/s]"
      ]
     },
     "metadata": {},
     "output_type": "display_data"
    },
    {
     "data": {
      "image/png": "[encoded data removed]",
      "text/plain": [
       "<Figure size 1000x500 with 1 Axes>"
      ]
     },
     "metadata": {},
     "output_type": "display_data"
    },
    {
     "data": {
      "text/plain": [
       "0.0039"
      ]
     },
     "execution_count": 118,
     "metadata": {},
     "output_type": "execute_result"
    }
   ],
   "source": [
    "df_1 = transactions_control_1[transactions_control_1['product_type'] == 'premium_no_trial']\n",
    "df_2 = transactions_control_2[transactions_control_2['product_type'] == 'premium_no_trial']\n",
    "n_s = 50\n",
    "simulations = 10000\n",
    "res = []\n",
    "\n",
    "\n",
    "for i in tqdm(range(simulations)):\n",
    "    s1 = df_1['revenue'].sample(n_s, replace = False).values\n",
    "    s2 = df_2['revenue'].sample(n_s, replace = False).values\n",
    "    res.append(stats.ttest_ind(s1, s2, equal_var = False)[1]) # сохраняем pvalue\n",
    "\n",
    "plt.hist(res, bins = 50)\n",
    "plt.style.use('ggplot')\n",
    "plt.xlabel('pvalues')\n",
    "plt.ylabel('frequency')\n",
    "plt.title(\"Histogram of ttest A/A simulations \")\n",
    "plt.show()\n",
    "\n",
    "# Проверяем, что количество ложноположительных случаев не превышает альфа\n",
    "sum(np.array(res) < 0.05) / simulations"
   ]
  },
  {
   "cell_type": "markdown",
   "metadata": {},
   "source": [
    "В результате, делаем вывод, что система сплитования качественная.\n"
   ]
  },
  {
   "cell_type": "code",
   "execution_count": 119,
   "metadata": {},
   "outputs": [
    {
     "name": "stdout",
     "output_type": "stream",
     "text": [
      "ARPU_test: 135.5041782729805\n",
      "ARPU_control_1: 179.5527649769585\n",
      "ARPU_control_2: 174.6737804878049\n"
     ]
    }
   ],
   "source": [
    "# Посмотрим на показатели метрики ARPU в рамках тестируемого продукта (premium_no_trial)\n",
    "# за общее количество пользователей берем количество уникальных пользователей в группе \n",
    "\n",
    "ARPU_test = df.revenue.sum() / users_test.uid.nunique() \n",
    "\n",
    "ARPU_control_1 = df_1.revenue.sum() / users_control_1.uid.nunique() \n",
    "\n",
    "ARPU_control_2 = df_2.revenue.sum() / users_control_2.uid.nunique() \n",
    "\n",
    "print(f'ARPU_test: {ARPU_test}', f'ARPU_control_1: {ARPU_control_1}', f'ARPU_control_2: {ARPU_control_2}', sep='\\n')\n",
    "\n"
   ]
  },
  {
   "cell_type": "code",
   "execution_count": 120,
   "metadata": {},
   "outputs": [
    {
     "name": "stdout",
     "output_type": "stream",
     "text": [
      "ARPPU_test: 8980.8\n",
      "ARPPU_control_1: 7871.3\n",
      "ARPPU_control_2: 7302.05\n"
     ]
    }
   ],
   "source": [
    "# Также смотрим на ARPPU \n",
    "ARPPU_test = round(df.revenue.sum() / df.uid.nunique(), 2) \n",
    "\n",
    "ARPPU_control_1 = round(df_1.revenue.sum() / df_1.uid.nunique(), 2)\n",
    "\n",
    "ARPPU_control_2 = round(df_2.revenue.sum() / df_2.uid.nunique(), 2 )\n",
    "\n",
    "print(f'ARPPU_test: {ARPPU_test}', f'ARPPU_control_1: {ARPPU_control_1}', f'ARPPU_control_2: {ARPPU_control_2}', sep='\\n')"
   ]
  },
  {
   "cell_type": "code",
   "execution_count": 121,
   "metadata": {},
   "outputs": [
    {
     "name": "stdout",
     "output_type": "stream",
     "text": [
      "users_test\n",
      "Имели когда-либо премиум 10.5%\n",
      "Имеют премиум сейчас 3.8%\n"
     ]
    }
   ],
   "source": [
    "# Смотрим на конверсию с целевым действием, был ли когда-либо премиум и имеют ли премиум .\n",
    "CR_test_1 = users_test.groupby('was_premium',as_index=False).agg({'uid':'count'}).uid[1] / users_test.groupby('was_premium',as_index=False).agg({'uid':'count'}).uid[0]\n",
    "print('users_test')\n",
    "print(f'Имели когда-либо премиум {round(CR_test_1,3)*100}%')\n",
    "CR_test_2 = users_test.groupby('is_premium',as_index=False).agg({'uid':'count'}).uid[1] / users_test.groupby('is_premium',as_index=False).agg({'uid':'count'}).uid[0]\n",
    "print(f'Имеют премиум сейчас {round(CR_test_2,3)*100}%')"
   ]
  },
  {
   "cell_type": "code",
   "execution_count": 122,
   "metadata": {},
   "outputs": [
    {
     "name": "stdout",
     "output_type": "stream",
     "text": [
      "users_control_1\n",
      "Имели когда-либо премиум 11.17%\n",
      "Имеют премиум сейчас 4.6% \n"
     ]
    }
   ],
   "source": [
    "CR_control_1 = users_control_1.groupby('was_premium',as_index=False).agg({'uid':'count'}).uid[1] / users_control_1.groupby('was_premium',as_index=False).agg({'uid':'count'}).uid[0]\n",
    "print('users_control_1')\n",
    "print(f'Имели когда-либо премиум { round(CR_control_1, 4)*100 }%')\n",
    "CR_control_2 = users_control_1.groupby('is_premium',as_index=False).agg({'uid':'count'}).uid[1] / users_control_1.groupby('is_premium',as_index=False).agg({'uid':'count'}).uid[0]\n",
    "print(f'Имеют премиум сейчас { round(CR_control_2,3)*100 }% ')"
   ]
  },
  {
   "cell_type": "code",
   "execution_count": 123,
   "metadata": {},
   "outputs": [
    {
     "name": "stdout",
     "output_type": "stream",
     "text": [
      "users_control_2\n",
      "Имели когда-либо премиум 10.67%\n",
      "Имеют премиум сейчас 4.7% \n"
     ]
    }
   ],
   "source": [
    "CR_control2_1 = users_control_2.groupby('was_premium',as_index=False).agg({'uid':'count'}).uid[1] / users_control_2.groupby('was_premium',as_index=False).agg({'uid':'count'}).uid[0]\n",
    "print('users_control_2')\n",
    "print(f'Имели когда-либо премиум { round(CR_control2_1, 4)*100 }%')\n",
    "CR_control2_2 = users_control_2.groupby('is_premium',as_index=False).agg({'uid':'count'}).uid[1] / users_control_2.groupby('is_premium',as_index=False).agg({'uid':'count'}).uid[0]\n",
    "print(f'Имеют премиум сейчас { round(CR_control2_2,3)*100 }% ')"
   ]
  },
  {
   "cell_type": "markdown",
   "metadata": {},
   "source": [
    "Видим разницу значений в метриках между тестовыми и контрольными группами.\n"
   ]
  },
  {
   "cell_type": "markdown",
   "metadata": {},
   "source": [
    "Проверим, являются ли эти различия статистически значимыми с помощью теста mannwhitneyu.\n",
    "\n",
    "т.к. данные распределены не соответсвуют нормальному,а группы независимые."
   ]
  },
  {
   "cell_type": "code",
   "execution_count": 124,
   "metadata": {},
   "outputs": [
    {
     "name": "stdout",
     "output_type": "stream",
     "text": [
      "Statistics=5654.0, p=3.685619377096622e-07\n"
     ]
    }
   ],
   "source": [
    "stat, p = mannwhitneyu(df.revenue, df_1.revenue)\n",
    "print(f'Statistics={stat}, p={p}')\n",
    "#Получаем статистически значимое различие между группами test и control_1\n"
   ]
  },
  {
   "cell_type": "code",
   "execution_count": 125,
   "metadata": {},
   "outputs": [
    {
     "name": "stdout",
     "output_type": "stream",
     "text": [
      "Statistics=5557.0, p=3.3424085069404536e-06\n"
     ]
    }
   ],
   "source": [
    "stat, p = mannwhitneyu(df.revenue, df_2.revenue)\n",
    "print(f'Statistics={stat}, p={p}')\n",
    "#Также получаем статистически значимое различие между группами test и control_2\n"
   ]
  },
  {
   "cell_type": "code",
   "execution_count": 126,
   "metadata": {},
   "outputs": [],
   "source": [
    "# Объявим функцию, которая позволит проверять гипотезы с помощью бутстрапа\n",
    "def get_bootstrap(\n",
    "    data_column_1, # числовые значения первой выборки\n",
    "    data_column_2, # числовые значения второй выборки\n",
    "    boot_it = 10000, # количество бутстрэп-подвыборок\n",
    "    statistic = np.mean, # интересующая нас статистика\n",
    "    bootstrap_conf_level = 0.95 # уровень значимости\n",
    "):\n",
    "    boot_len = max([len(data_column_1), len(data_column_2)])\n",
    "    boot_data = []\n",
    "    for i in tqdm(range(boot_it)): # извлекаем подвыборки\n",
    "        samples_1 = data_column_1.sample(\n",
    "            boot_len, \n",
    "            replace = True # параметр возвращения\n",
    "        ).values\n",
    "        \n",
    "        samples_2 = data_column_2.sample(\n",
    "            boot_len, \n",
    "            replace = True\n",
    "        ).values\n",
    "        \n",
    "        boot_data.append(statistic(samples_1-samples_2)) # mean() - применяем статистику\n",
    "        \n",
    "    pd_boot_data = pd.DataFrame(boot_data)\n",
    "        \n",
    "    left_quant = (1 - bootstrap_conf_level)/2\n",
    "    right_quant = 1 - (1 - bootstrap_conf_level) / 2\n",
    "    ci = pd_boot_data.quantile([left_quant, right_quant])\n",
    "        \n",
    "    p_1 = norm.cdf(\n",
    "        x = 0, \n",
    "        loc = np.mean(boot_data), \n",
    "        scale = np.std(boot_data)\n",
    "    )\n",
    "    p_2 = norm.cdf(\n",
    "        x = 0, \n",
    "        loc = -np.mean(boot_data), \n",
    "        scale = np.std(boot_data)\n",
    "    )\n",
    "    p_value = min(p_1, p_2) * 2\n",
    "        \n",
    "    # Визуализация\n",
    "    plt.hist(pd_boot_data[0], bins = 50)\n",
    "    \n",
    "    plt.style.use('default')\n",
    "    plt.vlines(ci,ymin=20, ymax=50, linestyle='--')\n",
    "    plt.xlabel('boot_data')\n",
    "    plt.ylabel('frequency')\n",
    "    plt.title(\"Histogram of boot_data\")\n",
    "    plt.show()\n",
    "       \n",
    "    return {\"boot_data\": boot_data, \n",
    "            \"ci\": ci, \n",
    "            \"p_value\": p_value}"
   ]
  },
  {
   "cell_type": "code",
   "execution_count": 127,
   "metadata": {},
   "outputs": [
    {
     "data": {
      "application/vnd.jupyter.widget-view+json": {
       "model_id": "ee6333190cc1462982a80a73705c3c12",
       "version_major": 2,
       "version_minor": 0
      },
      "text/plain": [
       "  0%|          | 0/10000 [00:00<?, ?it/s]"
      ]
     },
     "metadata": {},
     "output_type": "display_data"
    },
    {
     "data": {
      "image/png": "[encoded data removed]",
      "text/plain": [
       "<Figure size 1000x500 with 1 Axes>"
      ]
     },
     "metadata": {},
     "output_type": "display_data"
    }
   ],
   "source": [
    "#Т.к в выборках видим сильные выбросы, за основную статистику берём медиану.\n",
    "booted_data = get_bootstrap(df.revenue,df_1.revenue, boot_it = 10000,statistic = np.median) "
   ]
  },
  {
   "cell_type": "code",
   "execution_count": 128,
   "metadata": {},
   "outputs": [
    {
     "data": {
      "text/plain": [
       "4.009892878618066e-07"
      ]
     },
     "execution_count": 128,
     "metadata": {},
     "output_type": "execute_result"
    }
   ],
   "source": [
    "# По итогу получаем значение p уровня ниже нашей границы в 0.05\n",
    "booted_data[\"p_value\"]"
   ]
  },
  {
   "cell_type": "code",
   "execution_count": 129,
   "metadata": {},
   "outputs": [
    {
     "data": {
      "text/html": [
       "<div>\n",
       "<style scoped>\n",
       "    .dataframe tbody tr th:only-of-type {\n",
       "        vertical-align: middle;\n",
       "    }\n",
       "\n",
       "    .dataframe tbody tr th {\n",
       "        vertical-align: top;\n",
       "    }\n",
       "\n",
       "    .dataframe thead th {\n",
       "        text-align: right;\n",
       "    }\n",
       "</style>\n",
       "<table border=\"1\" class=\"dataframe\">\n",
       "  <thead>\n",
       "    <tr style=\"text-align: right;\">\n",
       "      <th></th>\n",
       "      <th>0</th>\n",
       "    </tr>\n",
       "  </thead>\n",
       "  <tbody>\n",
       "    <tr>\n",
       "      <th>0.025</th>\n",
       "      <td>1579.5</td>\n",
       "    </tr>\n",
       "    <tr>\n",
       "      <th>0.975</th>\n",
       "      <td>2925.0</td>\n",
       "    </tr>\n",
       "  </tbody>\n",
       "</table>\n",
       "</div>"
      ],
      "text/plain": [
       "            0\n",
       "0.025  1579.5\n",
       "0.975  2925.0"
      ]
     },
     "execution_count": 129,
     "metadata": {},
     "output_type": "execute_result"
    }
   ],
   "source": [
    "# 0 не входит в полученный доверительный интервал, что свидетельствует о статистически значимом различии нашей статистики(средней выручки на группу) в данных группах. \n",
    "booted_data[\"ci\"]"
   ]
  },
  {
   "cell_type": "markdown",
   "metadata": {},
   "source": [
    "Мы видим, что в тествой группе конверсии с целевым действием \"пользователь имеет премиум подписку\" значительно ниже, чем в контрольных группах. Но при этом среднее revenue в тестовой группе значительно выше контрольных. ARPPU в тестовой группе также имеет большее значение. \n",
    "Можем предположить, что наше нововведение положительно повлияло на пользователей, которые уже имеют подписку, и увеличение доходов связанно именно с этой группой пользователей. Также, есть предположение, что чаще стали покупать подписку на больший период.   "
   ]
  },
  {
   "attachments": {},
   "cell_type": "markdown",
   "metadata": {},
   "source": [
    "Посмотрим какой эффект нововведения оказало на разные подгруппы пользователей в тестовой и контрольных выборках\n"
   ]
  },
  {
   "cell_type": "code",
   "execution_count": 152,
   "metadata": {},
   "outputs": [
    {
     "data": {
      "text/plain": [
       "<AxesSubplot: xlabel='age_groupe', ylabel='revenue'>"
      ]
     },
     "execution_count": 152,
     "metadata": {},
     "output_type": "execute_result"
    },
    {
     "data": {
      "image/png": "[encoded data removed]",
      "text/plain": [
       "<Figure size 1000x500 with 1 Axes>"
      ]
     },
     "metadata": {},
     "output_type": "display_data"
    }
   ],
   "source": [
    "merge_data = pd.merge(users_test, \n",
    "                      transactions_test.groupby(['uid', 'product_type'],as_index=False).agg({'revenue':'sum'}),\n",
    "                      on='uid',\n",
    "                      how='outer',\n",
    "                      ).dropna()\n",
    "\n",
    "merge_data['age_groupe'] = pd.qcut(merge_data['age'], q=5,precision=0)\n",
    "\n",
    "sns.set(rc={'figure.figsize':(10,5)})\n",
    "ax = merge_data.query('product_type ==\"premium_no_trial\"').groupby('age_groupe',as_index=False).agg({'revenue':'sum'})\n",
    "sns.barplot(ax, x='age_groupe', y='revenue')"
   ]
  },
  {
   "cell_type": "code",
   "execution_count": 156,
   "metadata": {},
   "outputs": [
    {
     "data": {
      "text/html": [
       "<div>\n",
       "<style scoped>\n",
       "    .dataframe tbody tr th:only-of-type {\n",
       "        vertical-align: middle;\n",
       "    }\n",
       "\n",
       "    .dataframe tbody tr th {\n",
       "        vertical-align: top;\n",
       "    }\n",
       "\n",
       "    .dataframe thead th {\n",
       "        text-align: right;\n",
       "    }\n",
       "</style>\n",
       "<table border=\"1\" class=\"dataframe\">\n",
       "  <thead>\n",
       "    <tr style=\"text-align: right;\">\n",
       "      <th></th>\n",
       "      <th>age_groupe</th>\n",
       "      <th>revenue</th>\n",
       "    </tr>\n",
       "  </thead>\n",
       "  <tbody>\n",
       "    <tr>\n",
       "      <th>0</th>\n",
       "      <td>(16.0, 24.0]</td>\n",
       "      <td>160719.0</td>\n",
       "    </tr>\n",
       "    <tr>\n",
       "      <th>1</th>\n",
       "      <td>(24.0, 29.0]</td>\n",
       "      <td>224055.0</td>\n",
       "    </tr>\n",
       "    <tr>\n",
       "      <th>2</th>\n",
       "      <td>(29.0, 34.0]</td>\n",
       "      <td>91299.0</td>\n",
       "    </tr>\n",
       "    <tr>\n",
       "      <th>3</th>\n",
       "      <td>(34.0, 39.0]</td>\n",
       "      <td>97513.0</td>\n",
       "    </tr>\n",
       "    <tr>\n",
       "      <th>4</th>\n",
       "      <td>(39.0, 99.0]</td>\n",
       "      <td>237120.0</td>\n",
       "    </tr>\n",
       "  </tbody>\n",
       "</table>\n",
       "</div>"
      ],
      "text/plain": [
       "     age_groupe   revenue\n",
       "0  (16.0, 24.0]  160719.0\n",
       "1  (24.0, 29.0]  224055.0\n",
       "2  (29.0, 34.0]   91299.0\n",
       "3  (34.0, 39.0]   97513.0\n",
       "4  (39.0, 99.0]  237120.0"
      ]
     },
     "execution_count": 156,
     "metadata": {},
     "output_type": "execute_result"
    }
   ],
   "source": [
    "merge_data.query('product_type ==\"premium_no_trial\"').groupby('age_groupe',as_index=False).agg({'revenue':'sum'})"
   ]
  },
  {
   "cell_type": "code",
   "execution_count": 153,
   "metadata": {},
   "outputs": [
    {
     "data": {
      "text/plain": [
       "<AxesSubplot: xlabel='age_groupe', ylabel='revenue'>"
      ]
     },
     "execution_count": 153,
     "metadata": {},
     "output_type": "execute_result"
    },
    {
     "data": {
      "image/png": "[encoded data removed]",
      "text/plain": [
       "<Figure size 1000x500 with 1 Axes>"
      ]
     },
     "metadata": {},
     "output_type": "display_data"
    }
   ],
   "source": [
    "merge_data_1 = pd.merge(users_control_1, \n",
    "                      transactions_control_1.groupby(['uid', 'product_type'],as_index=False).agg({'revenue':'sum'}),\n",
    "                      on='uid',\n",
    "                      how='outer',\n",
    "                      ).dropna()\n",
    "merge_data_1['age_groupe'] = pd.qcut(merge_data_1['age'], q = 6,precision=0)\n",
    "merge_data_1.head(3)\n",
    "sns.set(rc={'figure.figsize':(10,5)})\n",
    "ax_1 = merge_data_1.query('product_type ==\"premium_no_trial\"').groupby('age_groupe',as_index=False).agg({'revenue':'sum'})\n",
    "sns.barplot(ax_1, x='age_groupe', y='revenue'\n",
    ")"
   ]
  },
  {
   "cell_type": "code",
   "execution_count": null,
   "metadata": {},
   "outputs": [],
   "source": []
  },
  {
   "cell_type": "code",
   "execution_count": null,
   "metadata": {},
   "outputs": [],
   "source": []
  },
  {
   "cell_type": "code",
   "execution_count": null,
   "metadata": {},
   "outputs": [],
   "source": []
  },
  {
   "cell_type": "code",
   "execution_count": null,
   "metadata": {},
   "outputs": [],
   "source": []
  },
  {
   "cell_type": "code",
   "execution_count": null,
   "metadata": {},
   "outputs": [],
   "source": []
  },
  {
   "cell_type": "code",
   "execution_count": null,
   "metadata": {},
   "outputs": [],
   "source": []
  },
  {
   "cell_type": "code",
   "execution_count": null,
   "metadata": {},
   "outputs": [
    {
     "data": {
      "text/html": [
       "<div>\n",
       "<style scoped>\n",
       "    .dataframe tbody tr th:only-of-type {\n",
       "        vertical-align: middle;\n",
       "    }\n",
       "\n",
       "    .dataframe tbody tr th {\n",
       "        vertical-align: top;\n",
       "    }\n",
       "\n",
       "    .dataframe thead th {\n",
       "        text-align: right;\n",
       "    }\n",
       "</style>\n",
       "<table border=\"1\" class=\"dataframe\">\n",
       "  <thead>\n",
       "    <tr style=\"text-align: right;\">\n",
       "      <th></th>\n",
       "      <th>uid</th>\n",
       "      <th>revenue</th>\n",
       "    </tr>\n",
       "  </thead>\n",
       "  <tbody>\n",
       "    <tr>\n",
       "      <th>0</th>\n",
       "      <td>891071157</td>\n",
       "      <td>9100</td>\n",
       "    </tr>\n",
       "    <tr>\n",
       "      <th>1</th>\n",
       "      <td>891152790</td>\n",
       "      <td>12597</td>\n",
       "    </tr>\n",
       "    <tr>\n",
       "      <th>2</th>\n",
       "      <td>891178380</td>\n",
       "      <td>113477</td>\n",
       "    </tr>\n",
       "    <tr>\n",
       "      <th>3</th>\n",
       "      <td>891222282</td>\n",
       "      <td>6292</td>\n",
       "    </tr>\n",
       "    <tr>\n",
       "      <th>4</th>\n",
       "      <td>891291531</td>\n",
       "      <td>4056</td>\n",
       "    </tr>\n",
       "    <tr>\n",
       "      <th>...</th>\n",
       "      <td>...</td>\n",
       "      <td>...</td>\n",
       "    </tr>\n",
       "    <tr>\n",
       "      <th>62</th>\n",
       "      <td>892370097</td>\n",
       "      <td>11115</td>\n",
       "    </tr>\n",
       "    <tr>\n",
       "      <th>63</th>\n",
       "      <td>892390170</td>\n",
       "      <td>5369</td>\n",
       "    </tr>\n",
       "    <tr>\n",
       "      <th>64</th>\n",
       "      <td>892405179</td>\n",
       "      <td>9100</td>\n",
       "    </tr>\n",
       "    <tr>\n",
       "      <th>65</th>\n",
       "      <td>892426491</td>\n",
       "      <td>12597</td>\n",
       "    </tr>\n",
       "    <tr>\n",
       "      <th>66</th>\n",
       "      <td>892434141</td>\n",
       "      <td>3614</td>\n",
       "    </tr>\n",
       "  </tbody>\n",
       "</table>\n",
       "<p>67 rows × 2 columns</p>\n",
       "</div>"
      ],
      "text/plain": [
       "          uid  revenue\n",
       "0   891071157     9100\n",
       "1   891152790    12597\n",
       "2   891178380   113477\n",
       "3   891222282     6292\n",
       "4   891291531     4056\n",
       "..        ...      ...\n",
       "62  892370097    11115\n",
       "63  892390170     5369\n",
       "64  892405179     9100\n",
       "65  892426491    12597\n",
       "66  892434141     3614\n",
       "\n",
       "[67 rows x 2 columns]"
      ]
     },
     "execution_count": 177,
     "metadata": {},
     "output_type": "execute_result"
    }
   ],
   "source": [
    "transactions_test.query('product_type == \"premium_no_trial\"').groupby('uid',as_index=False).agg({'revenue':'sum'})"
   ]
  },
  {
   "cell_type": "code",
   "execution_count": null,
   "metadata": {},
   "outputs": [],
   "source": []
  },
  {
   "cell_type": "code",
   "execution_count": null,
   "metadata": {},
   "outputs": [],
   "source": []
  },
  {
   "cell_type": "code",
   "execution_count": null,
   "metadata": {},
   "outputs": [],
   "source": []
  },
  {
   "cell_type": "code",
   "execution_count": null,
   "metadata": {},
   "outputs": [],
   "source": []
  },
  {
   "cell_type": "code",
   "execution_count": null,
   "metadata": {},
   "outputs": [],
   "source": []
  },
  {
   "cell_type": "code",
   "execution_count": null,
   "metadata": {},
   "outputs": [],
   "source": []
  },
  {
   "cell_type": "code",
   "execution_count": null,
   "metadata": {},
   "outputs": [],
   "source": []
  },
  {
   "cell_type": "code",
   "execution_count": null,
   "metadata": {},
   "outputs": [],
   "source": []
  },
  {
   "cell_type": "code",
   "execution_count": null,
   "metadata": {},
   "outputs": [],
   "source": []
  },
  {
   "cell_type": "code",
   "execution_count": null,
   "metadata": {},
   "outputs": [],
   "source": []
  },
  {
   "cell_type": "code",
   "execution_count": null,
   "metadata": {},
   "outputs": [],
   "source": []
  },
  {
   "cell_type": "code",
   "execution_count": null,
   "metadata": {},
   "outputs": [],
   "source": []
  },
  {
   "cell_type": "code",
   "execution_count": null,
   "metadata": {},
   "outputs": [
    {
     "data": {
      "text/html": [
       "<div>\n",
       "<style scoped>\n",
       "    .dataframe tbody tr th:only-of-type {\n",
       "        vertical-align: middle;\n",
       "    }\n",
       "\n",
       "    .dataframe tbody tr th {\n",
       "        vertical-align: top;\n",
       "    }\n",
       "\n",
       "    .dataframe thead th {\n",
       "        text-align: right;\n",
       "    }\n",
       "</style>\n",
       "<table border=\"1\" class=\"dataframe\">\n",
       "  <thead>\n",
       "    <tr style=\"text-align: right;\">\n",
       "      <th></th>\n",
       "      <th>uid</th>\n",
       "      <th>age</th>\n",
       "      <th>attraction_coeff</th>\n",
       "      <th>coins</th>\n",
       "      <th>country</th>\n",
       "      <th>visit_days</th>\n",
       "      <th>count_of_visit_days</th>\n",
       "      <th>gender</th>\n",
       "      <th>age_filter_start</th>\n",
       "      <th>age_filter_end</th>\n",
       "      <th>views_count</th>\n",
       "      <th>was_premium</th>\n",
       "      <th>is_premium</th>\n",
       "      <th>total_revenue</th>\n",
       "      <th>revenue_from_premium</th>\n",
       "    </tr>\n",
       "  </thead>\n",
       "  <tbody>\n",
       "    <tr>\n",
       "      <th>0</th>\n",
       "      <td>891152790</td>\n",
       "      <td>29</td>\n",
       "      <td>769</td>\n",
       "      <td>0</td>\n",
       "      <td>Spain</td>\n",
       "      <td>[2, 5, 6]</td>\n",
       "      <td>3</td>\n",
       "      <td>1</td>\n",
       "      <td>16</td>\n",
       "      <td>32</td>\n",
       "      <td>13</td>\n",
       "      <td>1</td>\n",
       "      <td>1</td>\n",
       "      <td>12597</td>\n",
       "      <td>12597</td>\n",
       "    </tr>\n",
       "    <tr>\n",
       "      <th>1</th>\n",
       "      <td>891589239</td>\n",
       "      <td>21</td>\n",
       "      <td>303</td>\n",
       "      <td>37</td>\n",
       "      <td>Italy</td>\n",
       "      <td>[1, 2, 3, 4, 5, 6, 7, 8, 9]</td>\n",
       "      <td>9</td>\n",
       "      <td>1</td>\n",
       "      <td>18</td>\n",
       "      <td>24</td>\n",
       "      <td>181</td>\n",
       "      <td>1</td>\n",
       "      <td>1</td>\n",
       "      <td>37817</td>\n",
       "      <td>12597</td>\n",
       "    </tr>\n",
       "    <tr>\n",
       "      <th>2</th>\n",
       "      <td>891806436</td>\n",
       "      <td>32</td>\n",
       "      <td>57</td>\n",
       "      <td>0</td>\n",
       "      <td>Italy</td>\n",
       "      <td>[1, 2, 3, 4, 5, 6, 7, 8, 9, 10, 12, 13, 14, 15...</td>\n",
       "      <td>18</td>\n",
       "      <td>1</td>\n",
       "      <td>20</td>\n",
       "      <td>35</td>\n",
       "      <td>69</td>\n",
       "      <td>1</td>\n",
       "      <td>1</td>\n",
       "      <td>12597</td>\n",
       "      <td>12597</td>\n",
       "    </tr>\n",
       "    <tr>\n",
       "      <th>3</th>\n",
       "      <td>891882681</td>\n",
       "      <td>36</td>\n",
       "      <td>408</td>\n",
       "      <td>76</td>\n",
       "      <td>Belgium</td>\n",
       "      <td>[1, 2, 3, 5, 6, 7, 8, 9, 10, 11, 12, 14, 16, 1...</td>\n",
       "      <td>18</td>\n",
       "      <td>1</td>\n",
       "      <td>33</td>\n",
       "      <td>39</td>\n",
       "      <td>71</td>\n",
       "      <td>1</td>\n",
       "      <td>1</td>\n",
       "      <td>20410</td>\n",
       "      <td>12597</td>\n",
       "    </tr>\n",
       "    <tr>\n",
       "      <th>4</th>\n",
       "      <td>892211106</td>\n",
       "      <td>33</td>\n",
       "      <td>0</td>\n",
       "      <td>0</td>\n",
       "      <td>France</td>\n",
       "      <td>[0]</td>\n",
       "      <td>0</td>\n",
       "      <td>1</td>\n",
       "      <td>30</td>\n",
       "      <td>36</td>\n",
       "      <td>4</td>\n",
       "      <td>1</td>\n",
       "      <td>1</td>\n",
       "      <td>4537</td>\n",
       "      <td>4537</td>\n",
       "    </tr>\n",
       "    <tr>\n",
       "      <th>...</th>\n",
       "      <td>...</td>\n",
       "      <td>...</td>\n",
       "      <td>...</td>\n",
       "      <td>...</td>\n",
       "      <td>...</td>\n",
       "      <td>...</td>\n",
       "      <td>...</td>\n",
       "      <td>...</td>\n",
       "      <td>...</td>\n",
       "      <td>...</td>\n",
       "      <td>...</td>\n",
       "      <td>...</td>\n",
       "      <td>...</td>\n",
       "      <td>...</td>\n",
       "      <td>...</td>\n",
       "    </tr>\n",
       "    <tr>\n",
       "      <th>60</th>\n",
       "      <td>891312873</td>\n",
       "      <td>21</td>\n",
       "      <td>125</td>\n",
       "      <td>16</td>\n",
       "      <td>Italy</td>\n",
       "      <td>[1, 2, 3, 4, 5, 6, 7, 8, 9]</td>\n",
       "      <td>9</td>\n",
       "      <td>1</td>\n",
       "      <td>16</td>\n",
       "      <td>23</td>\n",
       "      <td>48</td>\n",
       "      <td>1</td>\n",
       "      <td>1</td>\n",
       "      <td>11778</td>\n",
       "      <td>7852</td>\n",
       "    </tr>\n",
       "    <tr>\n",
       "      <th>61</th>\n",
       "      <td>891071157</td>\n",
       "      <td>22</td>\n",
       "      <td>411</td>\n",
       "      <td>0</td>\n",
       "      <td>United States of America</td>\n",
       "      <td>[1, 2, 3, 4, 5]</td>\n",
       "      <td>5</td>\n",
       "      <td>1</td>\n",
       "      <td>27</td>\n",
       "      <td>32</td>\n",
       "      <td>34</td>\n",
       "      <td>1</td>\n",
       "      <td>1</td>\n",
       "      <td>9100</td>\n",
       "      <td>9100</td>\n",
       "    </tr>\n",
       "    <tr>\n",
       "      <th>62</th>\n",
       "      <td>891718167</td>\n",
       "      <td>24</td>\n",
       "      <td>473</td>\n",
       "      <td>0</td>\n",
       "      <td>Chile</td>\n",
       "      <td>[1, 2, 3, 4, 5, 6, 7, 8, 9, 10, 11, 12, 13, 14...</td>\n",
       "      <td>17</td>\n",
       "      <td>1</td>\n",
       "      <td>16</td>\n",
       "      <td>30</td>\n",
       "      <td>19</td>\n",
       "      <td>1</td>\n",
       "      <td>1</td>\n",
       "      <td>8164</td>\n",
       "      <td>8164</td>\n",
       "    </tr>\n",
       "    <tr>\n",
       "      <th>63</th>\n",
       "      <td>891969984</td>\n",
       "      <td>39</td>\n",
       "      <td>166</td>\n",
       "      <td>0</td>\n",
       "      <td>Argentina</td>\n",
       "      <td>[1, 1]</td>\n",
       "      <td>2</td>\n",
       "      <td>1</td>\n",
       "      <td>26</td>\n",
       "      <td>43</td>\n",
       "      <td>12</td>\n",
       "      <td>1</td>\n",
       "      <td>1</td>\n",
       "      <td>5330</td>\n",
       "      <td>5330</td>\n",
       "    </tr>\n",
       "    <tr>\n",
       "      <th>64</th>\n",
       "      <td>891291531</td>\n",
       "      <td>43</td>\n",
       "      <td>372</td>\n",
       "      <td>0</td>\n",
       "      <td>Germany</td>\n",
       "      <td>[1, 2, 3, 4, 5, 6, 7]</td>\n",
       "      <td>7</td>\n",
       "      <td>1</td>\n",
       "      <td>40</td>\n",
       "      <td>46</td>\n",
       "      <td>59</td>\n",
       "      <td>1</td>\n",
       "      <td>1</td>\n",
       "      <td>4056</td>\n",
       "      <td>4056</td>\n",
       "    </tr>\n",
       "  </tbody>\n",
       "</table>\n",
       "<p>65 rows × 15 columns</p>\n",
       "</div>"
      ],
      "text/plain": [
       "          uid  age  attraction_coeff  coins                   country  \\\n",
       "0   891152790   29               769      0                     Spain   \n",
       "1   891589239   21               303     37                     Italy   \n",
       "2   891806436   32                57      0                     Italy   \n",
       "3   891882681   36               408     76                   Belgium   \n",
       "4   892211106   33                 0      0                    France   \n",
       "..        ...  ...               ...    ...                       ...   \n",
       "60  891312873   21               125     16                     Italy   \n",
       "61  891071157   22               411      0  United States of America   \n",
       "62  891718167   24               473      0                     Chile   \n",
       "63  891969984   39               166      0                 Argentina   \n",
       "64  891291531   43               372      0                   Germany   \n",
       "\n",
       "                                           visit_days  count_of_visit_days  \\\n",
       "0                                           [2, 5, 6]                    3   \n",
       "1                         [1, 2, 3, 4, 5, 6, 7, 8, 9]                    9   \n",
       "2   [1, 2, 3, 4, 5, 6, 7, 8, 9, 10, 12, 13, 14, 15...                   18   \n",
       "3   [1, 2, 3, 5, 6, 7, 8, 9, 10, 11, 12, 14, 16, 1...                   18   \n",
       "4                                                 [0]                    0   \n",
       "..                                                ...                  ...   \n",
       "60                        [1, 2, 3, 4, 5, 6, 7, 8, 9]                    9   \n",
       "61                                    [1, 2, 3, 4, 5]                    5   \n",
       "62  [1, 2, 3, 4, 5, 6, 7, 8, 9, 10, 11, 12, 13, 14...                   17   \n",
       "63                                             [1, 1]                    2   \n",
       "64                              [1, 2, 3, 4, 5, 6, 7]                    7   \n",
       "\n",
       "    gender  age_filter_start  age_filter_end  views_count  was_premium  \\\n",
       "0        1                16              32           13            1   \n",
       "1        1                18              24          181            1   \n",
       "2        1                20              35           69            1   \n",
       "3        1                33              39           71            1   \n",
       "4        1                30              36            4            1   \n",
       "..     ...               ...             ...          ...          ...   \n",
       "60       1                16              23           48            1   \n",
       "61       1                27              32           34            1   \n",
       "62       1                16              30           19            1   \n",
       "63       1                26              43           12            1   \n",
       "64       1                40              46           59            1   \n",
       "\n",
       "    is_premium  total_revenue  revenue_from_premium  \n",
       "0            1          12597                 12597  \n",
       "1            1          37817                 12597  \n",
       "2            1          12597                 12597  \n",
       "3            1          20410                 12597  \n",
       "4            1           4537                  4537  \n",
       "..         ...            ...                   ...  \n",
       "60           1          11778                  7852  \n",
       "61           1           9100                  9100  \n",
       "62           1           8164                  8164  \n",
       "63           1           5330                  5330  \n",
       "64           1           4056                  4056  \n",
       "\n",
       "[65 rows x 15 columns]"
      ]
     },
     "execution_count": 178,
     "metadata": {},
     "output_type": "execute_result"
    }
   ],
   "source": [
    "# Можем ещё посмотреть на абсолютную конверсию CR c целевым действием, наличием у пользователя премиум подписки.\n",
    "# тут важно исключить trial_premium.\n",
    "\n",
    "df_test_mask = df.groupby('uid',as_index=False).agg({'revenue':sum})\n",
    "\n",
    "uniq_users_no_trail = pd.merge(users_test, df_test_mask, on = 'uid', how = 'inner' )\n",
    "uniq_users_no_trail.rename(columns={'revenue':'revenue_from_premium'},inplace=True)\n",
    "uniq_users_no_trail\n",
    "\n"
   ]
  },
  {
   "cell_type": "code",
   "execution_count": null,
   "metadata": {},
   "outputs": [
    {
     "data": {
      "text/html": [
       "<div>\n",
       "<style scoped>\n",
       "    .dataframe tbody tr th:only-of-type {\n",
       "        vertical-align: middle;\n",
       "    }\n",
       "\n",
       "    .dataframe tbody tr th {\n",
       "        vertical-align: top;\n",
       "    }\n",
       "\n",
       "    .dataframe thead th {\n",
       "        text-align: right;\n",
       "    }\n",
       "</style>\n",
       "<table border=\"1\" class=\"dataframe\">\n",
       "  <thead>\n",
       "    <tr style=\"text-align: right;\">\n",
       "      <th></th>\n",
       "      <th>uid</th>\n",
       "      <th>product_type</th>\n",
       "    </tr>\n",
       "  </thead>\n",
       "  <tbody>\n",
       "    <tr>\n",
       "      <th>124</th>\n",
       "      <td>892236423</td>\n",
       "      <td>14</td>\n",
       "    </tr>\n",
       "    <tr>\n",
       "      <th>103</th>\n",
       "      <td>892065108</td>\n",
       "      <td>9</td>\n",
       "    </tr>\n",
       "    <tr>\n",
       "      <th>102</th>\n",
       "      <td>892057347</td>\n",
       "      <td>9</td>\n",
       "    </tr>\n",
       "    <tr>\n",
       "      <th>131</th>\n",
       "      <td>892339626</td>\n",
       "      <td>9</td>\n",
       "    </tr>\n",
       "    <tr>\n",
       "      <th>76</th>\n",
       "      <td>891861594</td>\n",
       "      <td>6</td>\n",
       "    </tr>\n",
       "    <tr>\n",
       "      <th>...</th>\n",
       "      <td>...</td>\n",
       "      <td>...</td>\n",
       "    </tr>\n",
       "    <tr>\n",
       "      <th>53</th>\n",
       "      <td>891615909</td>\n",
       "      <td>1</td>\n",
       "    </tr>\n",
       "    <tr>\n",
       "      <th>52</th>\n",
       "      <td>891605694</td>\n",
       "      <td>1</td>\n",
       "    </tr>\n",
       "    <tr>\n",
       "      <th>48</th>\n",
       "      <td>891572565</td>\n",
       "      <td>1</td>\n",
       "    </tr>\n",
       "    <tr>\n",
       "      <th>47</th>\n",
       "      <td>891564672</td>\n",
       "      <td>1</td>\n",
       "    </tr>\n",
       "    <tr>\n",
       "      <th>145</th>\n",
       "      <td>892438635</td>\n",
       "      <td>1</td>\n",
       "    </tr>\n",
       "  </tbody>\n",
       "</table>\n",
       "<p>146 rows × 2 columns</p>\n",
       "</div>"
      ],
      "text/plain": [
       "           uid  product_type\n",
       "124  892236423            14\n",
       "103  892065108             9\n",
       "102  892057347             9\n",
       "131  892339626             9\n",
       "76   891861594             6\n",
       "..         ...           ...\n",
       "53   891615909             1\n",
       "52   891605694             1\n",
       "48   891572565             1\n",
       "47   891564672             1\n",
       "145  892438635             1\n",
       "\n",
       "[146 rows x 2 columns]"
      ]
     },
     "execution_count": 179,
     "metadata": {},
     "output_type": "execute_result"
    }
   ],
   "source": [
    "a = [147, 68,0]\n",
    "transactions_test.groupby('uid',as_index=False).agg({'product_type':'count'}).sort_values('product_type',ascending=False)\n",
    "\n"
   ]
  },
  {
   "cell_type": "code",
   "execution_count": null,
   "metadata": {},
   "outputs": [
    {
     "data": {
      "text/html": [
       "<div>\n",
       "<style scoped>\n",
       "    .dataframe tbody tr th:only-of-type {\n",
       "        vertical-align: middle;\n",
       "    }\n",
       "\n",
       "    .dataframe tbody tr th {\n",
       "        vertical-align: top;\n",
       "    }\n",
       "\n",
       "    .dataframe thead th {\n",
       "        text-align: right;\n",
       "    }\n",
       "</style>\n",
       "<table border=\"1\" class=\"dataframe\">\n",
       "  <thead>\n",
       "    <tr style=\"text-align: right;\">\n",
       "      <th></th>\n",
       "      <th>uid</th>\n",
       "      <th>coins</th>\n",
       "      <th>other_type</th>\n",
       "      <th>premium_no_trial</th>\n",
       "      <th>trial_premium</th>\n",
       "    </tr>\n",
       "  </thead>\n",
       "  <tbody>\n",
       "    <tr>\n",
       "      <th>count</th>\n",
       "      <td>1.460000e+02</td>\n",
       "      <td>52.000000</td>\n",
       "      <td>19.000000</td>\n",
       "      <td>67.000000</td>\n",
       "      <td>61.000000</td>\n",
       "    </tr>\n",
       "    <tr>\n",
       "      <th>mean</th>\n",
       "      <td>8.917988e+08</td>\n",
       "      <td>6420.780952</td>\n",
       "      <td>5709.326316</td>\n",
       "      <td>11346.898010</td>\n",
       "      <td>12907.934426</td>\n",
       "    </tr>\n",
       "    <tr>\n",
       "      <th>std</th>\n",
       "      <td>3.834782e+05</td>\n",
       "      <td>8272.016503</td>\n",
       "      <td>8561.642127</td>\n",
       "      <td>18314.900691</td>\n",
       "      <td>2439.541930</td>\n",
       "    </tr>\n",
       "    <tr>\n",
       "      <th>min</th>\n",
       "      <td>8.910712e+08</td>\n",
       "      <td>533.000000</td>\n",
       "      <td>624.000000</td>\n",
       "      <td>1898.000000</td>\n",
       "      <td>7254.000000</td>\n",
       "    </tr>\n",
       "    <tr>\n",
       "      <th>25%</th>\n",
       "      <td>8.914474e+08</td>\n",
       "      <td>1261.000000</td>\n",
       "      <td>2346.500000</td>\n",
       "      <td>6285.500000</td>\n",
       "      <td>12727.000000</td>\n",
       "    </tr>\n",
       "    <tr>\n",
       "      <th>50%</th>\n",
       "      <td>8.918386e+08</td>\n",
       "      <td>3564.166667</td>\n",
       "      <td>2743.000000</td>\n",
       "      <td>8164.000000</td>\n",
       "      <td>12727.000000</td>\n",
       "    </tr>\n",
       "    <tr>\n",
       "      <th>75%</th>\n",
       "      <td>8.920945e+08</td>\n",
       "      <td>6305.000000</td>\n",
       "      <td>3783.000000</td>\n",
       "      <td>12103.000000</td>\n",
       "      <td>13923.000000</td>\n",
       "    </tr>\n",
       "    <tr>\n",
       "      <th>max</th>\n",
       "      <td>8.924386e+08</td>\n",
       "      <td>31525.000000</td>\n",
       "      <td>30264.000000</td>\n",
       "      <td>113477.000000</td>\n",
       "      <td>16653.000000</td>\n",
       "    </tr>\n",
       "  </tbody>\n",
       "</table>\n",
       "</div>"
      ],
      "text/plain": [
       "                uid         coins    other_type  premium_no_trial  \\\n",
       "count  1.460000e+02     52.000000     19.000000         67.000000   \n",
       "mean   8.917988e+08   6420.780952   5709.326316      11346.898010   \n",
       "std    3.834782e+05   8272.016503   8561.642127      18314.900691   \n",
       "min    8.910712e+08    533.000000    624.000000       1898.000000   \n",
       "25%    8.914474e+08   1261.000000   2346.500000       6285.500000   \n",
       "50%    8.918386e+08   3564.166667   2743.000000       8164.000000   \n",
       "75%    8.920945e+08   6305.000000   3783.000000      12103.000000   \n",
       "max    8.924386e+08  31525.000000  30264.000000     113477.000000   \n",
       "\n",
       "       trial_premium  \n",
       "count      61.000000  \n",
       "mean    12907.934426  \n",
       "std      2439.541930  \n",
       "min      7254.000000  \n",
       "25%     12727.000000  \n",
       "50%     12727.000000  \n",
       "75%     13923.000000  \n",
       "max     16653.000000  "
      ]
     },
     "execution_count": 180,
     "metadata": {},
     "output_type": "execute_result"
    }
   ],
   "source": [
    "test = transactions_test[['uid', 'revenue','product_type'] ]\n",
    "test = test.pivot_table(values='revenue', index='uid', columns='product_type' )\n",
    "test.columns.name = None\n",
    "# test.fillna(0, inplace=True)\n",
    "test.reset_index(inplace=True)\n",
    "test.describe()\n"
   ]
  },
  {
   "cell_type": "code",
   "execution_count": null,
   "metadata": {},
   "outputs": [],
   "source": []
  },
  {
   "cell_type": "code",
   "execution_count": null,
   "metadata": {},
   "outputs": [],
   "source": []
  },
  {
   "cell_type": "code",
   "execution_count": null,
   "metadata": {},
   "outputs": [
    {
     "data": {
      "text/html": [
       "<div>\n",
       "<style scoped>\n",
       "    .dataframe tbody tr th:only-of-type {\n",
       "        vertical-align: middle;\n",
       "    }\n",
       "\n",
       "    .dataframe tbody tr th {\n",
       "        vertical-align: top;\n",
       "    }\n",
       "\n",
       "    .dataframe thead th {\n",
       "        text-align: right;\n",
       "    }\n",
       "</style>\n",
       "<table border=\"1\" class=\"dataframe\">\n",
       "  <thead>\n",
       "    <tr style=\"text-align: right;\">\n",
       "      <th></th>\n",
       "      <th>uid</th>\n",
       "      <th>product_type</th>\n",
       "    </tr>\n",
       "  </thead>\n",
       "  <tbody>\n",
       "    <tr>\n",
       "      <th>0</th>\n",
       "      <td>892236423</td>\n",
       "      <td>14</td>\n",
       "    </tr>\n",
       "    <tr>\n",
       "      <th>1</th>\n",
       "      <td>892065108</td>\n",
       "      <td>9</td>\n",
       "    </tr>\n",
       "    <tr>\n",
       "      <th>2</th>\n",
       "      <td>892057347</td>\n",
       "      <td>9</td>\n",
       "    </tr>\n",
       "    <tr>\n",
       "      <th>3</th>\n",
       "      <td>892339626</td>\n",
       "      <td>9</td>\n",
       "    </tr>\n",
       "    <tr>\n",
       "      <th>4</th>\n",
       "      <td>891861594</td>\n",
       "      <td>6</td>\n",
       "    </tr>\n",
       "    <tr>\n",
       "      <th>...</th>\n",
       "      <td>...</td>\n",
       "      <td>...</td>\n",
       "    </tr>\n",
       "    <tr>\n",
       "      <th>141</th>\n",
       "      <td>891615909</td>\n",
       "      <td>1</td>\n",
       "    </tr>\n",
       "    <tr>\n",
       "      <th>142</th>\n",
       "      <td>891605694</td>\n",
       "      <td>1</td>\n",
       "    </tr>\n",
       "    <tr>\n",
       "      <th>143</th>\n",
       "      <td>891572565</td>\n",
       "      <td>1</td>\n",
       "    </tr>\n",
       "    <tr>\n",
       "      <th>144</th>\n",
       "      <td>891564672</td>\n",
       "      <td>1</td>\n",
       "    </tr>\n",
       "    <tr>\n",
       "      <th>145</th>\n",
       "      <td>892438635</td>\n",
       "      <td>1</td>\n",
       "    </tr>\n",
       "  </tbody>\n",
       "</table>\n",
       "<p>146 rows × 2 columns</p>\n",
       "</div>"
      ],
      "text/plain": [
       "           uid  product_type\n",
       "0    892236423            14\n",
       "1    892065108             9\n",
       "2    892057347             9\n",
       "3    892339626             9\n",
       "4    891861594             6\n",
       "..         ...           ...\n",
       "141  891615909             1\n",
       "142  891605694             1\n",
       "143  891572565             1\n",
       "144  891564672             1\n",
       "145  892438635             1\n",
       "\n",
       "[146 rows x 2 columns]"
      ]
     },
     "execution_count": 181,
     "metadata": {},
     "output_type": "execute_result"
    }
   ],
   "source": [
    "test_ = transactions_test.groupby('uid', as_index=False).agg({'product_type':'count'}).sort_values('product_type',ascending=False).reset_index(drop=True)\n",
    "test_"
   ]
  },
  {
   "cell_type": "code",
   "execution_count": null,
   "metadata": {},
   "outputs": [],
   "source": []
  },
  {
   "cell_type": "code",
   "execution_count": null,
   "metadata": {},
   "outputs": [],
   "source": []
  },
  {
   "cell_type": "code",
   "execution_count": null,
   "metadata": {},
   "outputs": [],
   "source": []
  },
  {
   "cell_type": "code",
   "execution_count": null,
   "metadata": {},
   "outputs": [],
   "source": []
  },
  {
   "cell_type": "code",
   "execution_count": null,
   "metadata": {},
   "outputs": [],
   "source": []
  },
  {
   "cell_type": "code",
   "execution_count": null,
   "metadata": {},
   "outputs": [],
   "source": []
  },
  {
   "cell_type": "code",
   "execution_count": null,
   "metadata": {},
   "outputs": [],
   "source": []
  },
  {
   "cell_type": "code",
   "execution_count": null,
   "metadata": {},
   "outputs": [],
   "source": []
  },
  {
   "cell_type": "code",
   "execution_count": null,
   "metadata": {},
   "outputs": [],
   "source": []
  },
  {
   "cell_type": "code",
   "execution_count": null,
   "metadata": {},
   "outputs": [
    {
     "name": "stdout",
     "output_type": "stream",
     "text": [
      "users_test\n",
      "Имели когда-либо премиум 10.5%\n",
      "Имеют премиум сейчас 3.8%\n"
     ]
    }
   ],
   "source": [
    "# Смотрим на конверсию с целевым действием, был ли когда-либо премиум и имеют ли премиум .\n",
    "CR_test_1 = users_test.groupby('was_premium',as_index=False).agg({'uid':'count'}).uid[1] / users_test.groupby('was_premium',as_index=False).agg({'uid':'count'}).uid[0]\n",
    "print('users_test')\n",
    "print(f'Имели когда-либо премиум {round(CR_test_1,3)*100}%')\n",
    "CR_test_2 = users_test.groupby('is_premium',as_index=False).agg({'uid':'count'}).uid[1] / users_test.groupby('is_premium',as_index=False).agg({'uid':'count'}).uid[0]\n",
    "print(f'Имеют премиум сейчас {round(CR_test_2,3)*100}%')"
   ]
  },
  {
   "cell_type": "code",
   "execution_count": null,
   "metadata": {},
   "outputs": [
    {
     "name": "stdout",
     "output_type": "stream",
     "text": [
      "users_control_1\n",
      "Имели когда-либо премиум 11.17%\n",
      "Имеют премиум сейчас 4.6% \n"
     ]
    }
   ],
   "source": [
    "CR_control_1 = users_control_1.groupby('was_premium',as_index=False).agg({'uid':'count'}).uid[1] / users_control_1.groupby('was_premium',as_index=False).agg({'uid':'count'}).uid[0]\n",
    "print('users_control_1')\n",
    "print(f'Имели когда-либо премиум { round(CR_control_1, 4)*100 }%')\n",
    "CR_control_2 = users_control_1.groupby('is_premium',as_index=False).agg({'uid':'count'}).uid[1] / users_control_1.groupby('is_premium',as_index=False).agg({'uid':'count'}).uid[0]\n",
    "print(f'Имеют премиум сейчас { round(CR_control_2,3)*100 }% ')"
   ]
  },
  {
   "cell_type": "code",
   "execution_count": null,
   "metadata": {},
   "outputs": [
    {
     "name": "stdout",
     "output_type": "stream",
     "text": [
      "users_control_2\n",
      "Имели когда-либо премиум 10.67%\n",
      "Имеют премиум сейчас 4.7% \n"
     ]
    }
   ],
   "source": [
    "CR_control2_1 = users_control_2.groupby('was_premium',as_index=False).agg({'uid':'count'}).uid[1] / users_control_2.groupby('was_premium',as_index=False).agg({'uid':'count'}).uid[0]\n",
    "print('users_control_2')\n",
    "print(f'Имели когда-либо премиум { round(CR_control2_1, 4)*100 }%')\n",
    "CR_control2_2 = users_control_2.groupby('is_premium',as_index=False).agg({'uid':'count'}).uid[1] / users_control_2.groupby('is_premium',as_index=False).agg({'uid':'count'}).uid[0]\n",
    "print(f'Имеют премиум сейчас { round(CR_control2_2,3)*100 }% ')"
   ]
  },
  {
   "cell_type": "code",
   "execution_count": null,
   "metadata": {},
   "outputs": [
    {
     "data": {
      "text/html": [
       "<div>\n",
       "<style scoped>\n",
       "    .dataframe tbody tr th:only-of-type {\n",
       "        vertical-align: middle;\n",
       "    }\n",
       "\n",
       "    .dataframe tbody tr th {\n",
       "        vertical-align: top;\n",
       "    }\n",
       "\n",
       "    .dataframe thead th {\n",
       "        text-align: right;\n",
       "    }\n",
       "</style>\n",
       "<table border=\"1\" class=\"dataframe\">\n",
       "  <thead>\n",
       "    <tr style=\"text-align: right;\">\n",
       "      <th></th>\n",
       "      <th>is_premium</th>\n",
       "      <th>uid</th>\n",
       "    </tr>\n",
       "  </thead>\n",
       "  <tbody>\n",
       "    <tr>\n",
       "      <th>0</th>\n",
       "      <td>0</td>\n",
       "      <td>251</td>\n",
       "    </tr>\n",
       "    <tr>\n",
       "      <th>1</th>\n",
       "      <td>1</td>\n",
       "      <td>157</td>\n",
       "    </tr>\n",
       "  </tbody>\n",
       "</table>\n",
       "</div>"
      ],
      "text/plain": [
       "   is_premium  uid\n",
       "0           0  251\n",
       "1           1  157"
      ]
     },
     "execution_count": 185,
     "metadata": {},
     "output_type": "execute_result"
    }
   ],
   "source": [
    "users_test.query('was_premium == 1').groupby('is_premium',as_index=False).agg({'uid':'count'})"
   ]
  },
  {
   "cell_type": "code",
   "execution_count": null,
   "metadata": {},
   "outputs": [
    {
     "data": {
      "text/html": [
       "<div>\n",
       "<style scoped>\n",
       "    .dataframe tbody tr th:only-of-type {\n",
       "        vertical-align: middle;\n",
       "    }\n",
       "\n",
       "    .dataframe tbody tr th {\n",
       "        vertical-align: top;\n",
       "    }\n",
       "\n",
       "    .dataframe thead th {\n",
       "        text-align: right;\n",
       "    }\n",
       "</style>\n",
       "<table border=\"1\" class=\"dataframe\">\n",
       "  <thead>\n",
       "    <tr style=\"text-align: right;\">\n",
       "      <th></th>\n",
       "      <th>is_premium</th>\n",
       "      <th>uid</th>\n",
       "    </tr>\n",
       "  </thead>\n",
       "  <tbody>\n",
       "    <tr>\n",
       "      <th>0</th>\n",
       "      <td>0</td>\n",
       "      <td>244</td>\n",
       "    </tr>\n",
       "    <tr>\n",
       "      <th>1</th>\n",
       "      <td>1</td>\n",
       "      <td>192</td>\n",
       "    </tr>\n",
       "  </tbody>\n",
       "</table>\n",
       "</div>"
      ],
      "text/plain": [
       "   is_premium  uid\n",
       "0           0  244\n",
       "1           1  192"
      ]
     },
     "execution_count": 186,
     "metadata": {},
     "output_type": "execute_result"
    }
   ],
   "source": [
    "users_control_1.query('was_premium == 1').groupby('is_premium',as_index=False).agg({'uid':'count'})"
   ]
  },
  {
   "cell_type": "code",
   "execution_count": null,
   "metadata": {},
   "outputs": [
    {
     "data": {
      "text/html": [
       "<div>\n",
       "<style scoped>\n",
       "    .dataframe tbody tr th:only-of-type {\n",
       "        vertical-align: middle;\n",
       "    }\n",
       "\n",
       "    .dataframe tbody tr th {\n",
       "        vertical-align: top;\n",
       "    }\n",
       "\n",
       "    .dataframe thead th {\n",
       "        text-align: right;\n",
       "    }\n",
       "</style>\n",
       "<table border=\"1\" class=\"dataframe\">\n",
       "  <thead>\n",
       "    <tr style=\"text-align: right;\">\n",
       "      <th></th>\n",
       "      <th>is_premium</th>\n",
       "      <th>uid</th>\n",
       "    </tr>\n",
       "  </thead>\n",
       "  <tbody>\n",
       "    <tr>\n",
       "      <th>0</th>\n",
       "      <td>0</td>\n",
       "      <td>220</td>\n",
       "    </tr>\n",
       "    <tr>\n",
       "      <th>1</th>\n",
       "      <td>1</td>\n",
       "      <td>191</td>\n",
       "    </tr>\n",
       "  </tbody>\n",
       "</table>\n",
       "</div>"
      ],
      "text/plain": [
       "   is_premium  uid\n",
       "0           0  220\n",
       "1           1  191"
      ]
     },
     "execution_count": 187,
     "metadata": {},
     "output_type": "execute_result"
    }
   ],
   "source": [
    "users_control_2.query('was_premium == 1').groupby('is_premium',as_index=False).agg({'uid':'count'})"
   ]
  },
  {
   "cell_type": "code",
   "execution_count": null,
   "metadata": {},
   "outputs": [],
   "source": []
  },
  {
   "cell_type": "code",
   "execution_count": null,
   "metadata": {},
   "outputs": [
    {
     "name": "stderr",
     "output_type": "stream",
     "text": [
      "/var/folders/98/cq77c4j90csgl9c58kjw89dm0000gn/T/ipykernel_7119/44257403.py:7: SettingWithCopyWarning: \n",
      "A value is trying to be set on a copy of a slice from a DataFrame.\n",
      "Try using .loc[row_indexer,col_indexer] = value instead\n",
      "\n",
      "See the caveats in the documentation: https://pandas.pydata.org/pandas-docs/stable/user_guide/indexing.html#returning-a-view-versus-a-copy\n",
      "  df_1['year_month'] = df_1['paid_at'].dt.to_period('M').astype(str)\n",
      "/var/folders/98/cq77c4j90csgl9c58kjw89dm0000gn/T/ipykernel_7119/44257403.py:13: SettingWithCopyWarning: \n",
      "A value is trying to be set on a copy of a slice from a DataFrame.\n",
      "Try using .loc[row_indexer,col_indexer] = value instead\n",
      "\n",
      "See the caveats in the documentation: https://pandas.pydata.org/pandas-docs/stable/user_guide/indexing.html#returning-a-view-versus-a-copy\n",
      "  df_2['year_month'] = df_2['paid_at'].dt.to_period('M').astype(str)\n"
     ]
    }
   ],
   "source": [
    "df['year_month'] = df['paid_at'].dt.to_period('M').astype(str)\n",
    "df_year_month = df.groupby('year_month',as_index=False).agg({'revenue':'sum',\n",
    "                                                             'uid':'nunique'})\n",
    "df_year_month['arpu'] = df_year_month['revenue'] / users_test.uid.nunique() \n",
    "df_year_month.query('year_month != \"2017-10\"',inplace=True)\n",
    "\n",
    "df_1['year_month'] = df_1['paid_at'].dt.to_period('M').astype(str)\n",
    "df_year_month_1 = df_1.groupby('year_month',as_index=False).agg({'revenue':'sum',\n",
    "                                                             'uid':'nunique'})\n",
    "df_year_month_1['arpu'] = df_year_month_1['revenue'] / users_control_1.uid.nunique() \n",
    "df_year_month_1.query('year_month != \"2017-10\"',inplace=True)\n",
    "\n",
    "df_2['year_month'] = df_2['paid_at'].dt.to_period('M').astype(str)\n",
    "df_year_month_2 = df_2.groupby('year_month',as_index=False).agg({'revenue':'sum',\n",
    "                                                             'uid':'nunique'})\n",
    "df_year_month_2['arpu'] = df_year_month_2['revenue'] / users_control_2.uid.nunique() \n",
    "df_year_month_2.query('year_month != \"2017-10\"',inplace=True)\n",
    "\n",
    "\n"
   ]
  },
  {
   "cell_type": "code",
   "execution_count": null,
   "metadata": {},
   "outputs": [
    {
     "data": {
      "text/plain": [
       "<matplotlib.legend.Legend at 0x1758a9ba0>"
      ]
     },
     "execution_count": 189,
     "metadata": {},
     "output_type": "execute_result"
    },
    {
     "data": {
      "image/png": "[encoded data removed]",
      "text/plain": [
       "<Figure size 640x480 with 1 Axes>"
      ]
     },
     "metadata": {},
     "output_type": "display_data"
    }
   ],
   "source": [
    "sns.lineplot(x=df_year_month['year_month'].astype(str), y= df_year_month['arpu'])\n",
    "sns.lineplot(x=df_year_month_1['year_month'].astype(str), y= df_year_month_1['arpu'])\n",
    "sns.lineplot(x=df_year_month_2['year_month'].astype(str), y= df_year_month_2['arpu'])\n",
    "plt.tick_params(axis='x', labelrotation=45)\n",
    "plt.legend(labels=[\"test\",\"\",\"control_1\",'','control_2'])\n",
    "# ax.set_label()"
   ]
  },
  {
   "cell_type": "code",
   "execution_count": null,
   "metadata": {},
   "outputs": [],
   "source": []
  },
  {
   "cell_type": "code",
   "execution_count": null,
   "metadata": {},
   "outputs": [],
   "source": []
  },
  {
   "cell_type": "code",
   "execution_count": null,
   "metadata": {},
   "outputs": [],
   "source": []
  },
  {
   "cell_type": "code",
   "execution_count": null,
   "metadata": {},
   "outputs": [],
   "source": []
  },
  {
   "cell_type": "code",
   "execution_count": null,
   "metadata": {},
   "outputs": [],
   "source": [
    "df['delta'] = df['paid_at'] - df['joined_at']\n",
    "list_of_unique_page_df = df.from_page.unique()"
   ]
  },
  {
   "cell_type": "code",
   "execution_count": null,
   "metadata": {},
   "outputs": [
    {
     "name": "stderr",
     "output_type": "stream",
     "text": [
      "/var/folders/98/cq77c4j90csgl9c58kjw89dm0000gn/T/ipykernel_7119/4254458593.py:1: SettingWithCopyWarning: \n",
      "A value is trying to be set on a copy of a slice from a DataFrame.\n",
      "Try using .loc[row_indexer,col_indexer] = value instead\n",
      "\n",
      "See the caveats in the documentation: https://pandas.pydata.org/pandas-docs/stable/user_guide/indexing.html#returning-a-view-versus-a-copy\n",
      "  df_1['delta'] = df_1['paid_at'] - df_1['joined_at']\n"
     ]
    }
   ],
   "source": [
    "df_1['delta'] = df_1['paid_at'] - df_1['joined_at']\n",
    "list_of_unique_page_df_1 = df_1.from_page.unique()"
   ]
  },
  {
   "cell_type": "code",
   "execution_count": null,
   "metadata": {},
   "outputs": [
    {
     "name": "stderr",
     "output_type": "stream",
     "text": [
      "/var/folders/98/cq77c4j90csgl9c58kjw89dm0000gn/T/ipykernel_7119/481714589.py:1: SettingWithCopyWarning: \n",
      "A value is trying to be set on a copy of a slice from a DataFrame.\n",
      "Try using .loc[row_indexer,col_indexer] = value instead\n",
      "\n",
      "See the caveats in the documentation: https://pandas.pydata.org/pandas-docs/stable/user_guide/indexing.html#returning-a-view-versus-a-copy\n",
      "  df_2['delta'] = df_2['paid_at'] - df_2['joined_at']\n"
     ]
    }
   ],
   "source": [
    "df_2['delta'] = df_2['paid_at'] - df_2['joined_at']\n",
    "list_of_unique_page_df_2 = df_2.from_page.unique()"
   ]
  },
  {
   "cell_type": "code",
   "execution_count": null,
   "metadata": {},
   "outputs": [],
   "source": [
    "list_of_unique_page_df = list_of_unique_page_df.tolist()\n",
    "list_of_unique_page_df_1 = list_of_unique_page_df_1.tolist()\n",
    "list_of_unique_page_df_2 = list_of_unique_page_df_2.tolist()\n"
   ]
  },
  {
   "cell_type": "code",
   "execution_count": null,
   "metadata": {},
   "outputs": [
    {
     "data": {
      "text/plain": [
       "['delivery_vip']"
      ]
     },
     "execution_count": 194,
     "metadata": {},
     "output_type": "execute_result"
    }
   ],
   "source": [
    "result = []\n",
    "for i in list_of_unique_page_df:\n",
    "    if i not in list_of_unique_page_df_2:\n",
    "        result.append(i)\n",
    "result"
   ]
  },
  {
   "cell_type": "code",
   "execution_count": null,
   "metadata": {},
   "outputs": [
    {
     "data": {
      "text/html": [
       "<div>\n",
       "<style scoped>\n",
       "    .dataframe tbody tr th:only-of-type {\n",
       "        vertical-align: middle;\n",
       "    }\n",
       "\n",
       "    .dataframe tbody tr th {\n",
       "        vertical-align: top;\n",
       "    }\n",
       "\n",
       "    .dataframe thead th {\n",
       "        text-align: right;\n",
       "    }\n",
       "</style>\n",
       "<table border=\"1\" class=\"dataframe\">\n",
       "  <thead>\n",
       "    <tr style=\"text-align: right;\">\n",
       "      <th></th>\n",
       "      <th>uid</th>\n",
       "      <th>country</th>\n",
       "      <th>joined_at</th>\n",
       "      <th>paid_at</th>\n",
       "      <th>revenue</th>\n",
       "      <th>payment_id</th>\n",
       "      <th>from_page</th>\n",
       "      <th>product_type</th>\n",
       "      <th>year_month</th>\n",
       "      <th>delta</th>\n",
       "    </tr>\n",
       "  </thead>\n",
       "  <tbody>\n",
       "    <tr>\n",
       "      <th>21</th>\n",
       "      <td>891312873</td>\n",
       "      <td>Italy</td>\n",
       "      <td>2017-05-11 21:22:00</td>\n",
       "      <td>2017-10-11 21:51:00</td>\n",
       "      <td>7852</td>\n",
       "      <td>147</td>\n",
       "      <td>promo_09</td>\n",
       "      <td>premium_no_trial</td>\n",
       "      <td>2017-10</td>\n",
       "      <td>153 days 00:29:00</td>\n",
       "    </tr>\n",
       "    <tr>\n",
       "      <th>22</th>\n",
       "      <td>891071157</td>\n",
       "      <td>United States of America</td>\n",
       "      <td>2017-10-11 10:20:00</td>\n",
       "      <td>2017-10-11 16:37:00</td>\n",
       "      <td>9100</td>\n",
       "      <td>147</td>\n",
       "      <td>promo_09</td>\n",
       "      <td>premium_no_trial</td>\n",
       "      <td>2017-10</td>\n",
       "      <td>0 days 06:17:00</td>\n",
       "    </tr>\n",
       "    <tr>\n",
       "      <th>28</th>\n",
       "      <td>892229262</td>\n",
       "      <td>United States of America</td>\n",
       "      <td>2017-10-18 07:20:00</td>\n",
       "      <td>2017-10-19 04:23:00</td>\n",
       "      <td>9100</td>\n",
       "      <td>147</td>\n",
       "      <td>promo_09</td>\n",
       "      <td>premium_no_trial</td>\n",
       "      <td>2017-10</td>\n",
       "      <td>0 days 21:03:00</td>\n",
       "    </tr>\n",
       "    <tr>\n",
       "      <th>74</th>\n",
       "      <td>892205850</td>\n",
       "      <td>Spain</td>\n",
       "      <td>2017-10-18 19:20:00</td>\n",
       "      <td>2017-02-11 00:13:00</td>\n",
       "      <td>5408</td>\n",
       "      <td>147</td>\n",
       "      <td>promo_09</td>\n",
       "      <td>premium_no_trial</td>\n",
       "      <td>2017-02</td>\n",
       "      <td>-250 days +04:53:00</td>\n",
       "    </tr>\n",
       "    <tr>\n",
       "      <th>84</th>\n",
       "      <td>891861489</td>\n",
       "      <td>Australia</td>\n",
       "      <td>2017-10-26 02:31:00</td>\n",
       "      <td>2017-04-11 02:04:00</td>\n",
       "      <td>12597</td>\n",
       "      <td>147</td>\n",
       "      <td>promo_09</td>\n",
       "      <td>premium_no_trial</td>\n",
       "      <td>2017-04</td>\n",
       "      <td>-199 days +23:33:00</td>\n",
       "    </tr>\n",
       "    <tr>\n",
       "      <th>102</th>\n",
       "      <td>892275204</td>\n",
       "      <td>Mexico</td>\n",
       "      <td>2017-10-17 06:09:00</td>\n",
       "      <td>2017-10-17 15:05:00</td>\n",
       "      <td>6214</td>\n",
       "      <td>147</td>\n",
       "      <td>promo_09</td>\n",
       "      <td>premium_no_trial</td>\n",
       "      <td>2017-10</td>\n",
       "      <td>0 days 08:56:00</td>\n",
       "    </tr>\n",
       "    <tr>\n",
       "      <th>129</th>\n",
       "      <td>892217373</td>\n",
       "      <td>United States of America</td>\n",
       "      <td>2017-10-18 14:15:00</td>\n",
       "      <td>2017-10-23 22:45:00</td>\n",
       "      <td>7904</td>\n",
       "      <td>147</td>\n",
       "      <td>promo_09</td>\n",
       "      <td>premium_no_trial</td>\n",
       "      <td>2017-10</td>\n",
       "      <td>5 days 08:30:00</td>\n",
       "    </tr>\n",
       "    <tr>\n",
       "      <th>144</th>\n",
       "      <td>891806436</td>\n",
       "      <td>Italy</td>\n",
       "      <td>2017-10-27 08:51:00</td>\n",
       "      <td>2017-10-30 17:34:00</td>\n",
       "      <td>12597</td>\n",
       "      <td>147</td>\n",
       "      <td>promo_09</td>\n",
       "      <td>premium_no_trial</td>\n",
       "      <td>2017-10</td>\n",
       "      <td>3 days 08:43:00</td>\n",
       "    </tr>\n",
       "    <tr>\n",
       "      <th>197</th>\n",
       "      <td>891603810</td>\n",
       "      <td>United States of America</td>\n",
       "      <td>2017-10-31 06:36:00</td>\n",
       "      <td>2017-04-11 09:25:00</td>\n",
       "      <td>9100</td>\n",
       "      <td>147</td>\n",
       "      <td>promo_09</td>\n",
       "      <td>premium_no_trial</td>\n",
       "      <td>2017-04</td>\n",
       "      <td>-203 days +02:49:00</td>\n",
       "    </tr>\n",
       "    <tr>\n",
       "      <th>222</th>\n",
       "      <td>891867477</td>\n",
       "      <td>Italy</td>\n",
       "      <td>2017-10-25 23:18:00</td>\n",
       "      <td>2017-03-11 19:02:00</td>\n",
       "      <td>12597</td>\n",
       "      <td>147</td>\n",
       "      <td>promo_09</td>\n",
       "      <td>premium_no_trial</td>\n",
       "      <td>2017-03</td>\n",
       "      <td>-229 days +19:44:00</td>\n",
       "    </tr>\n",
       "    <tr>\n",
       "      <th>228</th>\n",
       "      <td>892405179</td>\n",
       "      <td>United States of America</td>\n",
       "      <td>2017-10-14 19:58:00</td>\n",
       "      <td>2017-10-23 06:07:00</td>\n",
       "      <td>9100</td>\n",
       "      <td>147</td>\n",
       "      <td>promo_09</td>\n",
       "      <td>premium_no_trial</td>\n",
       "      <td>2017-10</td>\n",
       "      <td>8 days 10:09:00</td>\n",
       "    </tr>\n",
       "    <tr>\n",
       "      <th>230</th>\n",
       "      <td>891508155</td>\n",
       "      <td>Latvia</td>\n",
       "      <td>2017-02-11 09:46:00</td>\n",
       "      <td>2017-11-11 20:38:00</td>\n",
       "      <td>6357</td>\n",
       "      <td>147</td>\n",
       "      <td>promo_09</td>\n",
       "      <td>premium_no_trial</td>\n",
       "      <td>2017-11</td>\n",
       "      <td>273 days 10:52:00</td>\n",
       "    </tr>\n",
       "    <tr>\n",
       "      <th>232</th>\n",
       "      <td>891882681</td>\n",
       "      <td>Belgium</td>\n",
       "      <td>2017-10-25 17:25:00</td>\n",
       "      <td>2017-11-11 10:49:00</td>\n",
       "      <td>12597</td>\n",
       "      <td>147</td>\n",
       "      <td>promo_09</td>\n",
       "      <td>premium_no_trial</td>\n",
       "      <td>2017-11</td>\n",
       "      <td>16 days 17:24:00</td>\n",
       "    </tr>\n",
       "    <tr>\n",
       "      <th>265</th>\n",
       "      <td>891572565</td>\n",
       "      <td>United Arab Emirates</td>\n",
       "      <td>2017-10-31 20:40:00</td>\n",
       "      <td>2017-05-11 13:32:00</td>\n",
       "      <td>9217</td>\n",
       "      <td>147</td>\n",
       "      <td>promo_09</td>\n",
       "      <td>premium_no_trial</td>\n",
       "      <td>2017-05</td>\n",
       "      <td>-174 days +16:52:00</td>\n",
       "    </tr>\n",
       "  </tbody>\n",
       "</table>\n",
       "</div>"
      ],
      "text/plain": [
       "           uid                   country           joined_at  \\\n",
       "21   891312873                     Italy 2017-05-11 21:22:00   \n",
       "22   891071157  United States of America 2017-10-11 10:20:00   \n",
       "28   892229262  United States of America 2017-10-18 07:20:00   \n",
       "74   892205850                     Spain 2017-10-18 19:20:00   \n",
       "84   891861489                 Australia 2017-10-26 02:31:00   \n",
       "102  892275204                    Mexico 2017-10-17 06:09:00   \n",
       "129  892217373  United States of America 2017-10-18 14:15:00   \n",
       "144  891806436                     Italy 2017-10-27 08:51:00   \n",
       "197  891603810  United States of America 2017-10-31 06:36:00   \n",
       "222  891867477                     Italy 2017-10-25 23:18:00   \n",
       "228  892405179  United States of America 2017-10-14 19:58:00   \n",
       "230  891508155                    Latvia 2017-02-11 09:46:00   \n",
       "232  891882681                   Belgium 2017-10-25 17:25:00   \n",
       "265  891572565      United Arab Emirates 2017-10-31 20:40:00   \n",
       "\n",
       "                paid_at  revenue  payment_id from_page      product_type  \\\n",
       "21  2017-10-11 21:51:00     7852         147  promo_09  premium_no_trial   \n",
       "22  2017-10-11 16:37:00     9100         147  promo_09  premium_no_trial   \n",
       "28  2017-10-19 04:23:00     9100         147  promo_09  premium_no_trial   \n",
       "74  2017-02-11 00:13:00     5408         147  promo_09  premium_no_trial   \n",
       "84  2017-04-11 02:04:00    12597         147  promo_09  premium_no_trial   \n",
       "102 2017-10-17 15:05:00     6214         147  promo_09  premium_no_trial   \n",
       "129 2017-10-23 22:45:00     7904         147  promo_09  premium_no_trial   \n",
       "144 2017-10-30 17:34:00    12597         147  promo_09  premium_no_trial   \n",
       "197 2017-04-11 09:25:00     9100         147  promo_09  premium_no_trial   \n",
       "222 2017-03-11 19:02:00    12597         147  promo_09  premium_no_trial   \n",
       "228 2017-10-23 06:07:00     9100         147  promo_09  premium_no_trial   \n",
       "230 2017-11-11 20:38:00     6357         147  promo_09  premium_no_trial   \n",
       "232 2017-11-11 10:49:00    12597         147  promo_09  premium_no_trial   \n",
       "265 2017-05-11 13:32:00     9217         147  promo_09  premium_no_trial   \n",
       "\n",
       "    year_month               delta  \n",
       "21     2017-10   153 days 00:29:00  \n",
       "22     2017-10     0 days 06:17:00  \n",
       "28     2017-10     0 days 21:03:00  \n",
       "74     2017-02 -250 days +04:53:00  \n",
       "84     2017-04 -199 days +23:33:00  \n",
       "102    2017-10     0 days 08:56:00  \n",
       "129    2017-10     5 days 08:30:00  \n",
       "144    2017-10     3 days 08:43:00  \n",
       "197    2017-04 -203 days +02:49:00  \n",
       "222    2017-03 -229 days +19:44:00  \n",
       "228    2017-10     8 days 10:09:00  \n",
       "230    2017-11   273 days 10:52:00  \n",
       "232    2017-11    16 days 17:24:00  \n",
       "265    2017-05 -174 days +16:52:00  "
      ]
     },
     "execution_count": 195,
     "metadata": {},
     "output_type": "execute_result"
    }
   ],
   "source": [
    "df[df['from_page']== 'promo_09']"
   ]
  },
  {
   "cell_type": "code",
   "execution_count": null,
   "metadata": {},
   "outputs": [
    {
     "data": {
      "text/html": [
       "<div>\n",
       "<style scoped>\n",
       "    .dataframe tbody tr th:only-of-type {\n",
       "        vertical-align: middle;\n",
       "    }\n",
       "\n",
       "    .dataframe tbody tr th {\n",
       "        vertical-align: top;\n",
       "    }\n",
       "\n",
       "    .dataframe thead th {\n",
       "        text-align: right;\n",
       "    }\n",
       "</style>\n",
       "<table border=\"1\" class=\"dataframe\">\n",
       "  <thead>\n",
       "    <tr style=\"text-align: right;\">\n",
       "      <th></th>\n",
       "      <th>uid</th>\n",
       "      <th>age</th>\n",
       "      <th>attraction_coeff</th>\n",
       "      <th>coins</th>\n",
       "      <th>country</th>\n",
       "      <th>visit_days</th>\n",
       "      <th>count_of_visit_days</th>\n",
       "      <th>gender</th>\n",
       "      <th>age_filter_start</th>\n",
       "      <th>age_filter_end</th>\n",
       "      <th>views_count</th>\n",
       "      <th>was_premium</th>\n",
       "      <th>is_premium</th>\n",
       "      <th>total_revenue</th>\n",
       "    </tr>\n",
       "  </thead>\n",
       "  <tbody>\n",
       "    <tr>\n",
       "      <th>0</th>\n",
       "      <td>892309896</td>\n",
       "      <td>27</td>\n",
       "      <td>685</td>\n",
       "      <td>0</td>\n",
       "      <td>United States of America</td>\n",
       "      <td>[1, 2, 3, 4, 5, 6, 7, 8, 9, 10, 11, 12, 16, 17]</td>\n",
       "      <td>14</td>\n",
       "      <td>1</td>\n",
       "      <td>24</td>\n",
       "      <td>30</td>\n",
       "      <td>89</td>\n",
       "      <td>0</td>\n",
       "      <td>0</td>\n",
       "      <td>0</td>\n",
       "    </tr>\n",
       "    <tr>\n",
       "      <th>1</th>\n",
       "      <td>892044516</td>\n",
       "      <td>27</td>\n",
       "      <td>0</td>\n",
       "      <td>0</td>\n",
       "      <td>Germany</td>\n",
       "      <td>[0]</td>\n",
       "      <td>0</td>\n",
       "      <td>1</td>\n",
       "      <td>24</td>\n",
       "      <td>30</td>\n",
       "      <td>0</td>\n",
       "      <td>0</td>\n",
       "      <td>0</td>\n",
       "      <td>0</td>\n",
       "    </tr>\n",
       "    <tr>\n",
       "      <th>2</th>\n",
       "      <td>892185708</td>\n",
       "      <td>45</td>\n",
       "      <td>44</td>\n",
       "      <td>0</td>\n",
       "      <td>Israel</td>\n",
       "      <td>[1, 3, 4, 6, 7, 8, 10, 11, 12, 13, 14, 15, 16,...</td>\n",
       "      <td>20</td>\n",
       "      <td>1</td>\n",
       "      <td>42</td>\n",
       "      <td>48</td>\n",
       "      <td>68</td>\n",
       "      <td>0</td>\n",
       "      <td>0</td>\n",
       "      <td>0</td>\n",
       "    </tr>\n",
       "    <tr>\n",
       "      <th>3</th>\n",
       "      <td>892130292</td>\n",
       "      <td>32</td>\n",
       "      <td>0</td>\n",
       "      <td>0</td>\n",
       "      <td>United States of America</td>\n",
       "      <td>[1, 2, 3, 4, 5, 6, 7, 8, 9, 10, 11, 12]</td>\n",
       "      <td>12</td>\n",
       "      <td>1</td>\n",
       "      <td>29</td>\n",
       "      <td>35</td>\n",
       "      <td>0</td>\n",
       "      <td>0</td>\n",
       "      <td>0</td>\n",
       "      <td>0</td>\n",
       "    </tr>\n",
       "    <tr>\n",
       "      <th>4</th>\n",
       "      <td>891406035</td>\n",
       "      <td>27</td>\n",
       "      <td>1000</td>\n",
       "      <td>0</td>\n",
       "      <td>France</td>\n",
       "      <td>[0]</td>\n",
       "      <td>0</td>\n",
       "      <td>1</td>\n",
       "      <td>24</td>\n",
       "      <td>30</td>\n",
       "      <td>1</td>\n",
       "      <td>1</td>\n",
       "      <td>0</td>\n",
       "      <td>0</td>\n",
       "    </tr>\n",
       "    <tr>\n",
       "      <th>...</th>\n",
       "      <td>...</td>\n",
       "      <td>...</td>\n",
       "      <td>...</td>\n",
       "      <td>...</td>\n",
       "      <td>...</td>\n",
       "      <td>...</td>\n",
       "      <td>...</td>\n",
       "      <td>...</td>\n",
       "      <td>...</td>\n",
       "      <td>...</td>\n",
       "      <td>...</td>\n",
       "      <td>...</td>\n",
       "      <td>...</td>\n",
       "      <td>...</td>\n",
       "    </tr>\n",
       "    <tr>\n",
       "      <th>4303</th>\n",
       "      <td>891078639</td>\n",
       "      <td>17</td>\n",
       "      <td>895</td>\n",
       "      <td>0</td>\n",
       "      <td>United States of America</td>\n",
       "      <td>[1, 2, 3, 4, 5]</td>\n",
       "      <td>5</td>\n",
       "      <td>1</td>\n",
       "      <td>16</td>\n",
       "      <td>20</td>\n",
       "      <td>96</td>\n",
       "      <td>0</td>\n",
       "      <td>0</td>\n",
       "      <td>0</td>\n",
       "    </tr>\n",
       "    <tr>\n",
       "      <th>4304</th>\n",
       "      <td>891188733</td>\n",
       "      <td>27</td>\n",
       "      <td>866</td>\n",
       "      <td>0</td>\n",
       "      <td>United States of America</td>\n",
       "      <td>[1, 2, 3]</td>\n",
       "      <td>3</td>\n",
       "      <td>1</td>\n",
       "      <td>18</td>\n",
       "      <td>41</td>\n",
       "      <td>30</td>\n",
       "      <td>0</td>\n",
       "      <td>0</td>\n",
       "      <td>0</td>\n",
       "    </tr>\n",
       "    <tr>\n",
       "      <th>4305</th>\n",
       "      <td>891293718</td>\n",
       "      <td>48</td>\n",
       "      <td>0</td>\n",
       "      <td>0</td>\n",
       "      <td>Argentina</td>\n",
       "      <td>[0]</td>\n",
       "      <td>0</td>\n",
       "      <td>1</td>\n",
       "      <td>47</td>\n",
       "      <td>51</td>\n",
       "      <td>10</td>\n",
       "      <td>0</td>\n",
       "      <td>0</td>\n",
       "      <td>0</td>\n",
       "    </tr>\n",
       "    <tr>\n",
       "      <th>4306</th>\n",
       "      <td>891192357</td>\n",
       "      <td>32</td>\n",
       "      <td>0</td>\n",
       "      <td>0</td>\n",
       "      <td>Australia</td>\n",
       "      <td>[0]</td>\n",
       "      <td>0</td>\n",
       "      <td>1</td>\n",
       "      <td>16</td>\n",
       "      <td>49</td>\n",
       "      <td>0</td>\n",
       "      <td>0</td>\n",
       "      <td>0</td>\n",
       "      <td>0</td>\n",
       "    </tr>\n",
       "    <tr>\n",
       "      <th>4307</th>\n",
       "      <td>891668910</td>\n",
       "      <td>35</td>\n",
       "      <td>575</td>\n",
       "      <td>0</td>\n",
       "      <td>United Arab Emirates</td>\n",
       "      <td>[1]</td>\n",
       "      <td>1</td>\n",
       "      <td>1</td>\n",
       "      <td>16</td>\n",
       "      <td>99</td>\n",
       "      <td>73</td>\n",
       "      <td>0</td>\n",
       "      <td>0</td>\n",
       "      <td>0</td>\n",
       "    </tr>\n",
       "  </tbody>\n",
       "</table>\n",
       "<p>4308 rows × 14 columns</p>\n",
       "</div>"
      ],
      "text/plain": [
       "            uid  age  attraction_coeff  coins                   country  \\\n",
       "0     892309896   27               685      0  United States of America   \n",
       "1     892044516   27                 0      0                   Germany   \n",
       "2     892185708   45                44      0                    Israel   \n",
       "3     892130292   32                 0      0  United States of America   \n",
       "4     891406035   27              1000      0                    France   \n",
       "...         ...  ...               ...    ...                       ...   \n",
       "4303  891078639   17               895      0  United States of America   \n",
       "4304  891188733   27               866      0  United States of America   \n",
       "4305  891293718   48                 0      0                 Argentina   \n",
       "4306  891192357   32                 0      0                 Australia   \n",
       "4307  891668910   35               575      0      United Arab Emirates   \n",
       "\n",
       "                                             visit_days  count_of_visit_days  \\\n",
       "0       [1, 2, 3, 4, 5, 6, 7, 8, 9, 10, 11, 12, 16, 17]                   14   \n",
       "1                                                   [0]                    0   \n",
       "2     [1, 3, 4, 6, 7, 8, 10, 11, 12, 13, 14, 15, 16,...                   20   \n",
       "3               [1, 2, 3, 4, 5, 6, 7, 8, 9, 10, 11, 12]                   12   \n",
       "4                                                   [0]                    0   \n",
       "...                                                 ...                  ...   \n",
       "4303                                    [1, 2, 3, 4, 5]                    5   \n",
       "4304                                          [1, 2, 3]                    3   \n",
       "4305                                                [0]                    0   \n",
       "4306                                                [0]                    0   \n",
       "4307                                                [1]                    1   \n",
       "\n",
       "      gender  age_filter_start  age_filter_end  views_count  was_premium  \\\n",
       "0          1                24              30           89            0   \n",
       "1          1                24              30            0            0   \n",
       "2          1                42              48           68            0   \n",
       "3          1                29              35            0            0   \n",
       "4          1                24              30            1            1   \n",
       "...      ...               ...             ...          ...          ...   \n",
       "4303       1                16              20           96            0   \n",
       "4304       1                18              41           30            0   \n",
       "4305       1                47              51           10            0   \n",
       "4306       1                16              49            0            0   \n",
       "4307       1                16              99           73            0   \n",
       "\n",
       "      is_premium  total_revenue  \n",
       "0              0              0  \n",
       "1              0              0  \n",
       "2              0              0  \n",
       "3              0              0  \n",
       "4              0              0  \n",
       "...          ...            ...  \n",
       "4303           0              0  \n",
       "4304           0              0  \n",
       "4305           0              0  \n",
       "4306           0              0  \n",
       "4307           0              0  \n",
       "\n",
       "[4308 rows x 14 columns]"
      ]
     },
     "execution_count": 196,
     "metadata": {},
     "output_type": "execute_result"
    }
   ],
   "source": [
    "users_test"
   ]
  },
  {
   "cell_type": "code",
   "execution_count": null,
   "metadata": {},
   "outputs": [],
   "source": []
  },
  {
   "cell_type": "code",
   "execution_count": null,
   "metadata": {},
   "outputs": [],
   "source": []
  },
  {
   "cell_type": "code",
   "execution_count": null,
   "metadata": {},
   "outputs": [],
   "source": []
  },
  {
   "cell_type": "code",
   "execution_count": null,
   "metadata": {},
   "outputs": [],
   "source": []
  },
  {
   "cell_type": "code",
   "execution_count": null,
   "metadata": {},
   "outputs": [],
   "source": []
  },
  {
   "cell_type": "code",
   "execution_count": null,
   "metadata": {},
   "outputs": [],
   "source": []
  },
  {
   "cell_type": "code",
   "execution_count": null,
   "metadata": {},
   "outputs": [],
   "source": []
  },
  {
   "cell_type": "code",
   "execution_count": null,
   "metadata": {},
   "outputs": [],
   "source": []
  }
 ],
 "metadata": {
  "kernelspec": {
   "display_name": "Python 3 (ipykernel)",
   "language": "python",
   "name": "python3"
  },
  "language_info": {
   "codemirror_mode": {
    "name": "ipython",
    "version": 3
   },
   "file_extension": ".py",
   "mimetype": "text/x-python",
   "name": "python",
   "nbconvert_exporter": "python",
   "pygments_lexer": "ipython3",
   "version": "3.10.9"
  },
  "toc": {
   "base_numbering": 1,
   "nav_menu": {},
   "number_sections": true,
   "sideBar": true,
   "skip_h1_title": false,
   "title_cell": "Table of Contents",
   "title_sidebar": "Contents",
   "toc_cell": false,
   "toc_position": {
    "height": "calc(100% - 180px)",
    "left": "10px",
    "top": "150px",
    "width": "165px"
   },
   "toc_section_display": true,
   "toc_window_display": false
  },
  "varInspector": {
   "cols": {
    "lenName": 16,
    "lenType": 16,
    "lenVar": 40
   },
   "kernels_config": {
    "python": {
     "delete_cmd_postfix": "",
     "delete_cmd_prefix": "del ",
     "library": "var_list.py",
     "varRefreshCmd": "print(var_dic_list())"
    },
    "r": {
     "delete_cmd_postfix": ") ",
     "delete_cmd_prefix": "rm(",
     "library": "var_list.r",
     "varRefreshCmd": "cat(var_dic_list()) "
    }
   },
   "types_to_exclude": [
    "module",
    "function",
    "builtin_function_or_method",
    "instance",
    "_Feature"
   ],
   "window_display": false
  }
 },
 "nbformat": 4,
 "nbformat_minor": 2
}
