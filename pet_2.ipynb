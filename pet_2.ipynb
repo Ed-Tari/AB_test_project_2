{
 "cells": [
  {
   "cell_type": "markdown",
   "metadata": {},
   "source": [
    "## Введение\n",
    "Помимо базовых функций, в приложении также имеется премиум-подписка, которая дает доступ к ряду важных дополнительных возможностей. Был проведен A/B тест, в рамках которого для новых пользователей из нескольких стран была изменена стоимость премиум-подписки* при покупке через две новые платежные системы. При этом стоимость пробного периода оставалась прежней."
   ]
  },
  {
   "cell_type": "markdown",
   "metadata": {},
   "source": [
    "### Задача:\n",
    "\n",
    "1. Проверить Был ли эксперимент успешен в целом.\n",
    "\n",
    "2. Проанализируйте, имеет ли нововведение смысл среди каких-либо конкретных групп пользователей.\n",
    "\n",
    "*Деньги за подписку списываются ежемесячно до тех пор, пока пользователь её не отменит.*\n"
   ]
  },
  {
   "cell_type": "markdown",
   "metadata": {},
   "source": [
    "## Данные \n",
    "\n",
    "### users_*.csv – информация о пользователях\n",
    "\n",
    "uid – идентификатор пользователя\n",
    "\n",
    "age – возраст\n",
    "\n",
    "attraction_coeff – коэффициент привлекательности (от 0 до 1000, лайки/просмотры *1000)\n",
    "\n",
    "coins – число монеток (внутренняя валюта)\n",
    "\n",
    "country – страна  \n",
    "\n",
    "visit_days – в какие дни после регистрации пользователь посещал приложение (напр. в 1, затем в 7)\n",
    "\n",
    "gender – пол\n",
    "\n",
    "age_filter_start  – фильтр поиска, мин. значение \n",
    "\n",
    "age_filter_end  – фильтр поиска, макс. значение \n",
    "\n",
    "views_count – число полученных оценок \n",
    "\n",
    "was_premium – был ли когда-либо премиум (либо пробный период премиум-статуса, либо купленный за деньги)\n",
    "\n",
    "is_premium –  является ли премиум\n",
    "\n",
    "total_revenue – нормированная выручка\n",
    "\n",
    "\n",
    "### transactions_*.csv – информация о платежах пользователей:\n",
    "\n",
    "uid – идентификатор пользователя\n",
    "\n",
    "country – страна\n",
    "\n",
    "joined_at – дата и время регистрации\n",
    "\n",
    "paid_at – дата и время покупки\n",
    "\n",
    "revenue – нормированная выручка\n",
    "\n",
    "payment_id – идентификатор платежа\n",
    "\n",
    "from_page – откуда пользователь перешел на страницу оплаты\n",
    "\n",
    "product_type – тип продукта (trial_premium – пробная премиум-подписка, premium_no_trial – премиум-подписка без пробной, coins – подписка за \n",
    "внутреннюю валюту, other_type – другое)\n"
   ]
  },
  {
   "cell_type": "markdown",
   "metadata": {},
   "source": [
    "### Файлы:\n",
    "\n",
    "users_test – информация о пользователях в тестовой группе. \n",
    "\n",
    "users_control_1 – информация о пользователях в первой контрольной группе. \n",
    "\n",
    "users_control_2 – информация о пользователях во второй контрольной группе . \n",
    "\n",
    "transactions_test – информация о платежах пользователей в тестовой группе. \n",
    "\n",
    "transactions_control_1 – информация о платежах пользователей в первой контрольной группе. \n",
    "\n",
    "transactions_control_2 – информация о платежах пользователей во второй контрольной группе \n",
    "  \n",
    "\n"
   ]
  },
  {
   "cell_type": "code",
   "execution_count": 1,
   "metadata": {},
   "outputs": [],
   "source": [
    "import numpy as np\n",
    "import pandas as pd\n",
    "import scipy.stats as ss\n",
    "import datetime\n",
    "\n",
    "import seaborn as sns\n",
    "import plotly.express as px\n",
    "import matplotlib.pyplot as plt\n",
    "from tqdm.auto import tqdm\n",
    "from scipy.stats import norm, mannwhitneyu\n",
    "from scipy import stats"
   ]
  },
  {
   "cell_type": "markdown",
   "metadata": {},
   "source": [
    "# Преобразуем данные"
   ]
  },
  {
   "cell_type": "code",
   "execution_count": 2,
   "metadata": {},
   "outputs": [],
   "source": [
    "def processing_a_data(df):\n",
    "   df.fillna('0', inplace=True)\n",
    "   df['visit_days'] = df['visit_days'].apply (lambda x : [int(i) for i in x.replace('.',',').split(',') ] )\n",
    "   df['count_of_visit_days'] = df['visit_days'].apply (lambda x : len(x) if x[0]!=0 else 0)\n",
    "   df[['was_premium','is_premium','coins']] = df[['was_premium','is_premium','coins']].astype(int)\n",
    "   lst_col = ['uid', 'age', 'attraction_coeff', 'coins', 'country', 'visit_days', 'count_of_visit_days',\n",
    "   'gender', 'age_filter_start', 'age_filter_end', 'views_count',\n",
    "   'was_premium', 'is_premium', 'total_revenue']\n",
    "   return df[lst_col] \n",
    "\n",
    "\n"
   ]
  },
  {
   "cell_type": "code",
   "execution_count": 3,
   "metadata": {},
   "outputs": [
    {
     "data": {
      "text/html": [
       "<div>\n",
       "<style scoped>\n",
       "    .dataframe tbody tr th:only-of-type {\n",
       "        vertical-align: middle;\n",
       "    }\n",
       "\n",
       "    .dataframe tbody tr th {\n",
       "        vertical-align: top;\n",
       "    }\n",
       "\n",
       "    .dataframe thead th {\n",
       "        text-align: right;\n",
       "    }\n",
       "</style>\n",
       "<table border=\"1\" class=\"dataframe\">\n",
       "  <thead>\n",
       "    <tr style=\"text-align: right;\">\n",
       "      <th></th>\n",
       "      <th>uid</th>\n",
       "      <th>age</th>\n",
       "      <th>attraction_coeff</th>\n",
       "      <th>coins</th>\n",
       "      <th>country</th>\n",
       "      <th>visit_days</th>\n",
       "      <th>count_of_visit_days</th>\n",
       "      <th>gender</th>\n",
       "      <th>age_filter_start</th>\n",
       "      <th>age_filter_end</th>\n",
       "      <th>views_count</th>\n",
       "      <th>was_premium</th>\n",
       "      <th>is_premium</th>\n",
       "      <th>total_revenue</th>\n",
       "    </tr>\n",
       "  </thead>\n",
       "  <tbody>\n",
       "    <tr>\n",
       "      <th>0</th>\n",
       "      <td>892309896</td>\n",
       "      <td>27</td>\n",
       "      <td>685</td>\n",
       "      <td>0</td>\n",
       "      <td>United States of America</td>\n",
       "      <td>[1, 2, 3, 4, 5, 6, 7, 8, 9, 10, 11, 12, 16, 17]</td>\n",
       "      <td>14</td>\n",
       "      <td>1</td>\n",
       "      <td>24</td>\n",
       "      <td>30</td>\n",
       "      <td>89</td>\n",
       "      <td>0</td>\n",
       "      <td>0</td>\n",
       "      <td>0</td>\n",
       "    </tr>\n",
       "    <tr>\n",
       "      <th>1</th>\n",
       "      <td>892044516</td>\n",
       "      <td>27</td>\n",
       "      <td>0</td>\n",
       "      <td>0</td>\n",
       "      <td>Germany</td>\n",
       "      <td>[0]</td>\n",
       "      <td>0</td>\n",
       "      <td>1</td>\n",
       "      <td>24</td>\n",
       "      <td>30</td>\n",
       "      <td>0</td>\n",
       "      <td>0</td>\n",
       "      <td>0</td>\n",
       "      <td>0</td>\n",
       "    </tr>\n",
       "    <tr>\n",
       "      <th>2</th>\n",
       "      <td>892185708</td>\n",
       "      <td>45</td>\n",
       "      <td>44</td>\n",
       "      <td>0</td>\n",
       "      <td>Israel</td>\n",
       "      <td>[1, 3, 4, 6, 7, 8, 10, 11, 12, 13, 14, 15, 16,...</td>\n",
       "      <td>20</td>\n",
       "      <td>1</td>\n",
       "      <td>42</td>\n",
       "      <td>48</td>\n",
       "      <td>68</td>\n",
       "      <td>0</td>\n",
       "      <td>0</td>\n",
       "      <td>0</td>\n",
       "    </tr>\n",
       "    <tr>\n",
       "      <th>3</th>\n",
       "      <td>892130292</td>\n",
       "      <td>32</td>\n",
       "      <td>0</td>\n",
       "      <td>0</td>\n",
       "      <td>United States of America</td>\n",
       "      <td>[1, 2, 3, 4, 5, 6, 7, 8, 9, 10, 11, 12]</td>\n",
       "      <td>12</td>\n",
       "      <td>1</td>\n",
       "      <td>29</td>\n",
       "      <td>35</td>\n",
       "      <td>0</td>\n",
       "      <td>0</td>\n",
       "      <td>0</td>\n",
       "      <td>0</td>\n",
       "    </tr>\n",
       "    <tr>\n",
       "      <th>4</th>\n",
       "      <td>891406035</td>\n",
       "      <td>27</td>\n",
       "      <td>1000</td>\n",
       "      <td>0</td>\n",
       "      <td>France</td>\n",
       "      <td>[0]</td>\n",
       "      <td>0</td>\n",
       "      <td>1</td>\n",
       "      <td>24</td>\n",
       "      <td>30</td>\n",
       "      <td>1</td>\n",
       "      <td>1</td>\n",
       "      <td>0</td>\n",
       "      <td>0</td>\n",
       "    </tr>\n",
       "    <tr>\n",
       "      <th>...</th>\n",
       "      <td>...</td>\n",
       "      <td>...</td>\n",
       "      <td>...</td>\n",
       "      <td>...</td>\n",
       "      <td>...</td>\n",
       "      <td>...</td>\n",
       "      <td>...</td>\n",
       "      <td>...</td>\n",
       "      <td>...</td>\n",
       "      <td>...</td>\n",
       "      <td>...</td>\n",
       "      <td>...</td>\n",
       "      <td>...</td>\n",
       "      <td>...</td>\n",
       "    </tr>\n",
       "    <tr>\n",
       "      <th>4303</th>\n",
       "      <td>891078639</td>\n",
       "      <td>17</td>\n",
       "      <td>895</td>\n",
       "      <td>0</td>\n",
       "      <td>United States of America</td>\n",
       "      <td>[1, 2, 3, 4, 5]</td>\n",
       "      <td>5</td>\n",
       "      <td>1</td>\n",
       "      <td>16</td>\n",
       "      <td>20</td>\n",
       "      <td>96</td>\n",
       "      <td>0</td>\n",
       "      <td>0</td>\n",
       "      <td>0</td>\n",
       "    </tr>\n",
       "    <tr>\n",
       "      <th>4304</th>\n",
       "      <td>891188733</td>\n",
       "      <td>27</td>\n",
       "      <td>866</td>\n",
       "      <td>0</td>\n",
       "      <td>United States of America</td>\n",
       "      <td>[1, 2, 3]</td>\n",
       "      <td>3</td>\n",
       "      <td>1</td>\n",
       "      <td>18</td>\n",
       "      <td>41</td>\n",
       "      <td>30</td>\n",
       "      <td>0</td>\n",
       "      <td>0</td>\n",
       "      <td>0</td>\n",
       "    </tr>\n",
       "    <tr>\n",
       "      <th>4305</th>\n",
       "      <td>891293718</td>\n",
       "      <td>48</td>\n",
       "      <td>0</td>\n",
       "      <td>0</td>\n",
       "      <td>Argentina</td>\n",
       "      <td>[0]</td>\n",
       "      <td>0</td>\n",
       "      <td>1</td>\n",
       "      <td>47</td>\n",
       "      <td>51</td>\n",
       "      <td>10</td>\n",
       "      <td>0</td>\n",
       "      <td>0</td>\n",
       "      <td>0</td>\n",
       "    </tr>\n",
       "    <tr>\n",
       "      <th>4306</th>\n",
       "      <td>891192357</td>\n",
       "      <td>32</td>\n",
       "      <td>0</td>\n",
       "      <td>0</td>\n",
       "      <td>Australia</td>\n",
       "      <td>[0]</td>\n",
       "      <td>0</td>\n",
       "      <td>1</td>\n",
       "      <td>16</td>\n",
       "      <td>49</td>\n",
       "      <td>0</td>\n",
       "      <td>0</td>\n",
       "      <td>0</td>\n",
       "      <td>0</td>\n",
       "    </tr>\n",
       "    <tr>\n",
       "      <th>4307</th>\n",
       "      <td>891668910</td>\n",
       "      <td>35</td>\n",
       "      <td>575</td>\n",
       "      <td>0</td>\n",
       "      <td>United Arab Emirates</td>\n",
       "      <td>[1]</td>\n",
       "      <td>1</td>\n",
       "      <td>1</td>\n",
       "      <td>16</td>\n",
       "      <td>99</td>\n",
       "      <td>73</td>\n",
       "      <td>0</td>\n",
       "      <td>0</td>\n",
       "      <td>0</td>\n",
       "    </tr>\n",
       "  </tbody>\n",
       "</table>\n",
       "<p>4308 rows × 14 columns</p>\n",
       "</div>"
      ],
      "text/plain": [
       "            uid  age  attraction_coeff  coins                   country  \\\n",
       "0     892309896   27               685      0  United States of America   \n",
       "1     892044516   27                 0      0                   Germany   \n",
       "2     892185708   45                44      0                    Israel   \n",
       "3     892130292   32                 0      0  United States of America   \n",
       "4     891406035   27              1000      0                    France   \n",
       "...         ...  ...               ...    ...                       ...   \n",
       "4303  891078639   17               895      0  United States of America   \n",
       "4304  891188733   27               866      0  United States of America   \n",
       "4305  891293718   48                 0      0                 Argentina   \n",
       "4306  891192357   32                 0      0                 Australia   \n",
       "4307  891668910   35               575      0      United Arab Emirates   \n",
       "\n",
       "                                             visit_days  count_of_visit_days  \\\n",
       "0       [1, 2, 3, 4, 5, 6, 7, 8, 9, 10, 11, 12, 16, 17]                   14   \n",
       "1                                                   [0]                    0   \n",
       "2     [1, 3, 4, 6, 7, 8, 10, 11, 12, 13, 14, 15, 16,...                   20   \n",
       "3               [1, 2, 3, 4, 5, 6, 7, 8, 9, 10, 11, 12]                   12   \n",
       "4                                                   [0]                    0   \n",
       "...                                                 ...                  ...   \n",
       "4303                                    [1, 2, 3, 4, 5]                    5   \n",
       "4304                                          [1, 2, 3]                    3   \n",
       "4305                                                [0]                    0   \n",
       "4306                                                [0]                    0   \n",
       "4307                                                [1]                    1   \n",
       "\n",
       "      gender  age_filter_start  age_filter_end  views_count  was_premium  \\\n",
       "0          1                24              30           89            0   \n",
       "1          1                24              30            0            0   \n",
       "2          1                42              48           68            0   \n",
       "3          1                29              35            0            0   \n",
       "4          1                24              30            1            1   \n",
       "...      ...               ...             ...          ...          ...   \n",
       "4303       1                16              20           96            0   \n",
       "4304       1                18              41           30            0   \n",
       "4305       1                47              51           10            0   \n",
       "4306       1                16              49            0            0   \n",
       "4307       1                16              99           73            0   \n",
       "\n",
       "      is_premium  total_revenue  \n",
       "0              0              0  \n",
       "1              0              0  \n",
       "2              0              0  \n",
       "3              0              0  \n",
       "4              0              0  \n",
       "...          ...            ...  \n",
       "4303           0              0  \n",
       "4304           0              0  \n",
       "4305           0              0  \n",
       "4306           0              0  \n",
       "4307           0              0  \n",
       "\n",
       "[4308 rows x 14 columns]"
      ]
     },
     "execution_count": 3,
     "metadata": {},
     "output_type": "execute_result"
    }
   ],
   "source": [
    "users_test = pd.read_csv('./users_test.csv',sep = ';') \n",
    "users_test = processing_a_data(users_test)\n",
    "users_test"
   ]
  },
  {
   "cell_type": "code",
   "execution_count": 4,
   "metadata": {},
   "outputs": [
    {
     "name": "stdout",
     "output_type": "stream",
     "text": [
      "<class 'pandas.core.frame.DataFrame'>\n",
      "RangeIndex: 4340 entries, 0 to 4339\n",
      "Data columns (total 14 columns):\n",
      " #   Column               Non-Null Count  Dtype \n",
      "---  ------               --------------  ----- \n",
      " 0   uid                  4340 non-null   int64 \n",
      " 1   age                  4340 non-null   int64 \n",
      " 2   attraction_coeff     4340 non-null   int64 \n",
      " 3   coins                4340 non-null   int64 \n",
      " 4   country              4340 non-null   object\n",
      " 5   visit_days           4340 non-null   object\n",
      " 6   count_of_visit_days  4340 non-null   int64 \n",
      " 7   gender               4340 non-null   int64 \n",
      " 8   age_filter_start     4340 non-null   int64 \n",
      " 9   age_filter_end       4340 non-null   int64 \n",
      " 10  views_count          4340 non-null   int64 \n",
      " 11  was_premium          4340 non-null   int64 \n",
      " 12  is_premium           4340 non-null   int64 \n",
      " 13  total_revenue        4340 non-null   int64 \n",
      "dtypes: int64(12), object(2)\n",
      "memory usage: 474.8+ KB\n"
     ]
    }
   ],
   "source": [
    "users_control_1 = pd.read_csv('./users_control_1.csv', sep = ';')\n",
    "users_control_1 = processing_a_data(users_control_1)\n",
    "users_control_1.info()"
   ]
  },
  {
   "cell_type": "code",
   "execution_count": 5,
   "metadata": {},
   "outputs": [
    {
     "name": "stdout",
     "output_type": "stream",
     "text": [
      "<class 'pandas.core.frame.DataFrame'>\n",
      "RangeIndex: 4264 entries, 0 to 4263\n",
      "Data columns (total 14 columns):\n",
      " #   Column               Non-Null Count  Dtype \n",
      "---  ------               --------------  ----- \n",
      " 0   uid                  4264 non-null   int64 \n",
      " 1   age                  4264 non-null   int64 \n",
      " 2   attraction_coeff     4264 non-null   int64 \n",
      " 3   coins                4264 non-null   int64 \n",
      " 4   country              4264 non-null   object\n",
      " 5   visit_days           4264 non-null   object\n",
      " 6   count_of_visit_days  4264 non-null   int64 \n",
      " 7   gender               4264 non-null   int64 \n",
      " 8   age_filter_start     4264 non-null   int64 \n",
      " 9   age_filter_end       4264 non-null   int64 \n",
      " 10  views_count          4264 non-null   int64 \n",
      " 11  was_premium          4264 non-null   int64 \n",
      " 12  is_premium           4264 non-null   int64 \n",
      " 13  total_revenue        4264 non-null   int64 \n",
      "dtypes: int64(12), object(2)\n",
      "memory usage: 466.5+ KB\n"
     ]
    }
   ],
   "source": [
    "users_control_2 = pd.read_csv('./users_control_2.csv', sep = ';')\n",
    "users_control_2 = processing_a_data(users_control_2)\n",
    "users_control_2.info()"
   ]
  },
  {
   "cell_type": "code",
   "execution_count": 6,
   "metadata": {},
   "outputs": [
    {
     "name": "stdout",
     "output_type": "stream",
     "text": [
      "<class 'pandas.core.frame.DataFrame'>\n",
      "RangeIndex: 273 entries, 0 to 272\n",
      "Data columns (total 8 columns):\n",
      " #   Column        Non-Null Count  Dtype         \n",
      "---  ------        --------------  -----         \n",
      " 0   uid           273 non-null    int64         \n",
      " 1   country       273 non-null    object        \n",
      " 2   joined_at     273 non-null    datetime64[ns]\n",
      " 3   paid_at       273 non-null    datetime64[ns]\n",
      " 4   revenue       273 non-null    int64         \n",
      " 5   payment_id    273 non-null    int64         \n",
      " 6   from_page     273 non-null    object        \n",
      " 7   product_type  273 non-null    object        \n",
      "dtypes: datetime64[ns](2), int64(3), object(3)\n",
      "memory usage: 17.2+ KB\n"
     ]
    }
   ],
   "source": [
    "transactions_test = pd.read_csv('./transactions_test.csv',sep=';')\n",
    "\n",
    "transactions_test[['joined_at', 'paid_at']] = transactions_test[['joined_at', 'paid_at']].apply (pd.to_datetime)\n",
    "transactions_test.info()"
   ]
  },
  {
   "cell_type": "code",
   "execution_count": 7,
   "metadata": {},
   "outputs": [
    {
     "name": "stdout",
     "output_type": "stream",
     "text": [
      "<class 'pandas.core.frame.DataFrame'>\n",
      "RangeIndex: 1007 entries, 0 to 1006\n",
      "Data columns (total 8 columns):\n",
      " #   Column        Non-Null Count  Dtype  \n",
      "---  ------        --------------  -----  \n",
      " 0   uid           377 non-null    float64\n",
      " 1   country       377 non-null    object \n",
      " 2   joined_at     1007 non-null   object \n",
      " 3   paid_at       1007 non-null   object \n",
      " 4   revenue       377 non-null    float64\n",
      " 5   payment_id    377 non-null    float64\n",
      " 6   from_page     377 non-null    object \n",
      " 7   product_type  377 non-null    object \n",
      "dtypes: float64(3), object(5)\n",
      "memory usage: 63.1+ KB\n"
     ]
    }
   ],
   "source": [
    "# Видим,что в данной таблицы много пропущенных значений. Также некоторые столбцы имеют не правельный тип данных.\n",
    "transactions_control_1 = pd.read_csv('./transactions_control_1.csv', sep=';')\n",
    "transactions_control_1.info()\n",
    "\n",
    "\n"
   ]
  },
  {
   "cell_type": "code",
   "execution_count": 8,
   "metadata": {},
   "outputs": [
    {
     "name": "stdout",
     "output_type": "stream",
     "text": [
      "<class 'pandas.core.frame.DataFrame'>\n",
      "Int64Index: 377 entries, 0 to 376\n",
      "Data columns (total 8 columns):\n",
      " #   Column        Non-Null Count  Dtype         \n",
      "---  ------        --------------  -----         \n",
      " 0   uid           377 non-null    int64         \n",
      " 1   country       377 non-null    object        \n",
      " 2   joined_at     377 non-null    datetime64[ns]\n",
      " 3   paid_at       377 non-null    datetime64[ns]\n",
      " 4   revenue       377 non-null    int64         \n",
      " 5   payment_id    377 non-null    int64         \n",
      " 6   from_page     377 non-null    object        \n",
      " 7   product_type  377 non-null    object        \n",
      "dtypes: datetime64[ns](2), int64(3), object(3)\n",
      "memory usage: 26.5+ KB\n"
     ]
    }
   ],
   "source": [
    "transactions_control_1.dropna(inplace=True)\n",
    "transactions_control_1[['joined_at', 'paid_at']] = transactions_control_1[['joined_at', 'paid_at']].apply (pd.to_datetime)\n",
    "transactions_control_1[['uid','revenue','payment_id']] = transactions_control_1[['uid','revenue','payment_id']].astype(int)\n",
    "transactions_control_1.info()"
   ]
  },
  {
   "cell_type": "code",
   "execution_count": 9,
   "metadata": {},
   "outputs": [
    {
     "name": "stdout",
     "output_type": "stream",
     "text": [
      "<class 'pandas.core.frame.DataFrame'>\n",
      "RangeIndex: 328 entries, 0 to 327\n",
      "Data columns (total 8 columns):\n",
      " #   Column        Non-Null Count  Dtype         \n",
      "---  ------        --------------  -----         \n",
      " 0   uid           328 non-null    int64         \n",
      " 1   country       328 non-null    object        \n",
      " 2   joined_at     328 non-null    datetime64[ns]\n",
      " 3   paid_at       328 non-null    datetime64[ns]\n",
      " 4   revenue       328 non-null    int64         \n",
      " 5   payment_id    328 non-null    int64         \n",
      " 6   from_page     328 non-null    object        \n",
      " 7   product_type  328 non-null    object        \n",
      "dtypes: datetime64[ns](2), int64(3), object(3)\n",
      "memory usage: 20.6+ KB\n"
     ]
    }
   ],
   "source": [
    "transactions_control_2 = pd.read_csv('./transactions_control_2.csv',sep=';')\n",
    "transactions_control_2[['joined_at', 'paid_at']] = transactions_control_2[['joined_at', 'paid_at']].apply (pd.to_datetime)\n",
    "transactions_control_2.info()"
   ]
  },
  {
   "cell_type": "code",
   "execution_count": 10,
   "metadata": {},
   "outputs": [],
   "source": [
    "df = transactions_test[transactions_test['product_type'] == 'premium_no_trial']\n",
    "\n",
    "df_1 = transactions_control_1[transactions_control_1['product_type'] == 'premium_no_trial']\n",
    "\n",
    "df_2 = transactions_control_2[transactions_control_2['product_type'] == 'premium_no_trial']\n"
   ]
  },
  {
   "cell_type": "code",
   "execution_count": 11,
   "metadata": {},
   "outputs": [
    {
     "data": {
      "text/html": [
       "<div>\n",
       "<style scoped>\n",
       "    .dataframe tbody tr th:only-of-type {\n",
       "        vertical-align: middle;\n",
       "    }\n",
       "\n",
       "    .dataframe tbody tr th {\n",
       "        vertical-align: top;\n",
       "    }\n",
       "\n",
       "    .dataframe thead th {\n",
       "        text-align: right;\n",
       "    }\n",
       "</style>\n",
       "<table border=\"1\" class=\"dataframe\">\n",
       "  <thead>\n",
       "    <tr style=\"text-align: right;\">\n",
       "      <th></th>\n",
       "      <th>uid</th>\n",
       "      <th>country</th>\n",
       "      <th>joined_at</th>\n",
       "      <th>paid_at</th>\n",
       "      <th>revenue</th>\n",
       "      <th>payment_id</th>\n",
       "      <th>from_page</th>\n",
       "      <th>product_type</th>\n",
       "    </tr>\n",
       "  </thead>\n",
       "  <tbody>\n",
       "    <tr>\n",
       "      <th>5</th>\n",
       "      <td>892426491</td>\n",
       "      <td>United States of America</td>\n",
       "      <td>2017-10-14 10:13:00</td>\n",
       "      <td>2017-10-15 22:39:00</td>\n",
       "      <td>12597</td>\n",
       "      <td>147</td>\n",
       "      <td>autoreply_message</td>\n",
       "      <td>premium_no_trial</td>\n",
       "    </tr>\n",
       "    <tr>\n",
       "      <th>12</th>\n",
       "      <td>891178380</td>\n",
       "      <td>Spain</td>\n",
       "      <td>2017-08-11 03:54:00</td>\n",
       "      <td>2017-09-11 21:53:00</td>\n",
       "      <td>113477</td>\n",
       "      <td>147</td>\n",
       "      <td>promo_09</td>\n",
       "      <td>premium_no_trial</td>\n",
       "    </tr>\n",
       "    <tr>\n",
       "      <th>27</th>\n",
       "      <td>892370097</td>\n",
       "      <td>United States of America</td>\n",
       "      <td>2017-10-15 13:37:00</td>\n",
       "      <td>2017-10-16 15:55:00</td>\n",
       "      <td>11115</td>\n",
       "      <td>68</td>\n",
       "      <td>none</td>\n",
       "      <td>premium_no_trial</td>\n",
       "    </tr>\n",
       "    <tr>\n",
       "      <th>46</th>\n",
       "      <td>891545874</td>\n",
       "      <td>United States of America</td>\n",
       "      <td>2017-01-11 12:50:00</td>\n",
       "      <td>2017-02-11 13:43:00</td>\n",
       "      <td>12597</td>\n",
       "      <td>147</td>\n",
       "      <td>send_message</td>\n",
       "      <td>premium_no_trial</td>\n",
       "    </tr>\n",
       "    <tr>\n",
       "      <th>84</th>\n",
       "      <td>891861489</td>\n",
       "      <td>Australia</td>\n",
       "      <td>2017-10-26 02:31:00</td>\n",
       "      <td>2017-04-11 02:04:00</td>\n",
       "      <td>12597</td>\n",
       "      <td>147</td>\n",
       "      <td>promo_09</td>\n",
       "      <td>premium_no_trial</td>\n",
       "    </tr>\n",
       "    <tr>\n",
       "      <th>93</th>\n",
       "      <td>892050108</td>\n",
       "      <td>Israel</td>\n",
       "      <td>2017-10-22 03:02:00</td>\n",
       "      <td>2017-10-23 02:52:00</td>\n",
       "      <td>12597</td>\n",
       "      <td>147</td>\n",
       "      <td>left_sidebar_menu</td>\n",
       "      <td>premium_no_trial</td>\n",
       "    </tr>\n",
       "    <tr>\n",
       "      <th>121</th>\n",
       "      <td>891605694</td>\n",
       "      <td>Argentina</td>\n",
       "      <td>2017-10-31 05:09:00</td>\n",
       "      <td>2017-11-15 04:33:00</td>\n",
       "      <td>12597</td>\n",
       "      <td>147</td>\n",
       "      <td>popular_users_block</td>\n",
       "      <td>premium_no_trial</td>\n",
       "    </tr>\n",
       "    <tr>\n",
       "      <th>144</th>\n",
       "      <td>891806436</td>\n",
       "      <td>Italy</td>\n",
       "      <td>2017-10-27 08:51:00</td>\n",
       "      <td>2017-10-30 17:34:00</td>\n",
       "      <td>12597</td>\n",
       "      <td>147</td>\n",
       "      <td>promo_09</td>\n",
       "      <td>premium_no_trial</td>\n",
       "    </tr>\n",
       "    <tr>\n",
       "      <th>145</th>\n",
       "      <td>892186941</td>\n",
       "      <td>United States of America</td>\n",
       "      <td>2017-10-19 05:48:00</td>\n",
       "      <td>2017-10-19 06:34:00</td>\n",
       "      <td>12597</td>\n",
       "      <td>147</td>\n",
       "      <td>dating</td>\n",
       "      <td>premium_no_trial</td>\n",
       "    </tr>\n",
       "    <tr>\n",
       "      <th>170</th>\n",
       "      <td>891152790</td>\n",
       "      <td>Spain</td>\n",
       "      <td>2017-08-11 18:39:00</td>\n",
       "      <td>2017-10-11 11:29:00</td>\n",
       "      <td>12597</td>\n",
       "      <td>147</td>\n",
       "      <td>dating</td>\n",
       "      <td>premium_no_trial</td>\n",
       "    </tr>\n",
       "    <tr>\n",
       "      <th>187</th>\n",
       "      <td>892264422</td>\n",
       "      <td>United States of America</td>\n",
       "      <td>2017-10-17 12:49:00</td>\n",
       "      <td>2017-10-17 17:06:00</td>\n",
       "      <td>11609</td>\n",
       "      <td>68</td>\n",
       "      <td>none</td>\n",
       "      <td>premium_no_trial</td>\n",
       "    </tr>\n",
       "    <tr>\n",
       "      <th>191</th>\n",
       "      <td>891589239</td>\n",
       "      <td>Italy</td>\n",
       "      <td>2017-10-31 14:16:00</td>\n",
       "      <td>2017-10-31 16:07:00</td>\n",
       "      <td>12597</td>\n",
       "      <td>147</td>\n",
       "      <td>popular_users_chat</td>\n",
       "      <td>premium_no_trial</td>\n",
       "    </tr>\n",
       "    <tr>\n",
       "      <th>196</th>\n",
       "      <td>892038759</td>\n",
       "      <td>United Arab Emirates</td>\n",
       "      <td>2017-10-22 11:12:00</td>\n",
       "      <td>2017-10-22 16:23:00</td>\n",
       "      <td>113477</td>\n",
       "      <td>147</td>\n",
       "      <td>autoreply_message</td>\n",
       "      <td>premium_no_trial</td>\n",
       "    </tr>\n",
       "    <tr>\n",
       "      <th>199</th>\n",
       "      <td>891346269</td>\n",
       "      <td>Argentina</td>\n",
       "      <td>2017-05-11 12:55:00</td>\n",
       "      <td>2017-05-11 15:26:00</td>\n",
       "      <td>12597</td>\n",
       "      <td>147</td>\n",
       "      <td>autoreply_message</td>\n",
       "      <td>premium_no_trial</td>\n",
       "    </tr>\n",
       "    <tr>\n",
       "      <th>215</th>\n",
       "      <td>892347657</td>\n",
       "      <td>Argentina</td>\n",
       "      <td>2017-10-15 20:50:00</td>\n",
       "      <td>2017-10-15 22:29:00</td>\n",
       "      <td>12597</td>\n",
       "      <td>147</td>\n",
       "      <td>dating</td>\n",
       "      <td>premium_no_trial</td>\n",
       "    </tr>\n",
       "    <tr>\n",
       "      <th>222</th>\n",
       "      <td>891867477</td>\n",
       "      <td>Italy</td>\n",
       "      <td>2017-10-25 23:18:00</td>\n",
       "      <td>2017-03-11 19:02:00</td>\n",
       "      <td>12597</td>\n",
       "      <td>147</td>\n",
       "      <td>promo_09</td>\n",
       "      <td>premium_no_trial</td>\n",
       "    </tr>\n",
       "    <tr>\n",
       "      <th>232</th>\n",
       "      <td>891882681</td>\n",
       "      <td>Belgium</td>\n",
       "      <td>2017-10-25 17:25:00</td>\n",
       "      <td>2017-11-11 10:49:00</td>\n",
       "      <td>12597</td>\n",
       "      <td>147</td>\n",
       "      <td>promo_09</td>\n",
       "      <td>premium_no_trial</td>\n",
       "    </tr>\n",
       "    <tr>\n",
       "      <th>253</th>\n",
       "      <td>891448377</td>\n",
       "      <td>Canada</td>\n",
       "      <td>2017-03-11 16:33:00</td>\n",
       "      <td>2017-03-11 16:46:00</td>\n",
       "      <td>12597</td>\n",
       "      <td>147</td>\n",
       "      <td>dating</td>\n",
       "      <td>premium_no_trial</td>\n",
       "    </tr>\n",
       "    <tr>\n",
       "      <th>256</th>\n",
       "      <td>891406224</td>\n",
       "      <td>Israel</td>\n",
       "      <td>2017-04-11 12:56:00</td>\n",
       "      <td>2017-04-11 15:12:00</td>\n",
       "      <td>12597</td>\n",
       "      <td>147</td>\n",
       "      <td>autoreply_message</td>\n",
       "      <td>premium_no_trial</td>\n",
       "    </tr>\n",
       "  </tbody>\n",
       "</table>\n",
       "</div>"
      ],
      "text/plain": [
       "           uid                   country           joined_at  \\\n",
       "5    892426491  United States of America 2017-10-14 10:13:00   \n",
       "12   891178380                     Spain 2017-08-11 03:54:00   \n",
       "27   892370097  United States of America 2017-10-15 13:37:00   \n",
       "46   891545874  United States of America 2017-01-11 12:50:00   \n",
       "84   891861489                 Australia 2017-10-26 02:31:00   \n",
       "93   892050108                    Israel 2017-10-22 03:02:00   \n",
       "121  891605694                 Argentina 2017-10-31 05:09:00   \n",
       "144  891806436                     Italy 2017-10-27 08:51:00   \n",
       "145  892186941  United States of America 2017-10-19 05:48:00   \n",
       "170  891152790                     Spain 2017-08-11 18:39:00   \n",
       "187  892264422  United States of America 2017-10-17 12:49:00   \n",
       "191  891589239                     Italy 2017-10-31 14:16:00   \n",
       "196  892038759      United Arab Emirates 2017-10-22 11:12:00   \n",
       "199  891346269                 Argentina 2017-05-11 12:55:00   \n",
       "215  892347657                 Argentina 2017-10-15 20:50:00   \n",
       "222  891867477                     Italy 2017-10-25 23:18:00   \n",
       "232  891882681                   Belgium 2017-10-25 17:25:00   \n",
       "253  891448377                    Canada 2017-03-11 16:33:00   \n",
       "256  891406224                    Israel 2017-04-11 12:56:00   \n",
       "\n",
       "                paid_at  revenue  payment_id            from_page  \\\n",
       "5   2017-10-15 22:39:00    12597         147    autoreply_message   \n",
       "12  2017-09-11 21:53:00   113477         147             promo_09   \n",
       "27  2017-10-16 15:55:00    11115          68                 none   \n",
       "46  2017-02-11 13:43:00    12597         147         send_message   \n",
       "84  2017-04-11 02:04:00    12597         147             promo_09   \n",
       "93  2017-10-23 02:52:00    12597         147    left_sidebar_menu   \n",
       "121 2017-11-15 04:33:00    12597         147  popular_users_block   \n",
       "144 2017-10-30 17:34:00    12597         147             promo_09   \n",
       "145 2017-10-19 06:34:00    12597         147               dating   \n",
       "170 2017-10-11 11:29:00    12597         147               dating   \n",
       "187 2017-10-17 17:06:00    11609          68                 none   \n",
       "191 2017-10-31 16:07:00    12597         147   popular_users_chat   \n",
       "196 2017-10-22 16:23:00   113477         147    autoreply_message   \n",
       "199 2017-05-11 15:26:00    12597         147    autoreply_message   \n",
       "215 2017-10-15 22:29:00    12597         147               dating   \n",
       "222 2017-03-11 19:02:00    12597         147             promo_09   \n",
       "232 2017-11-11 10:49:00    12597         147             promo_09   \n",
       "253 2017-03-11 16:46:00    12597         147               dating   \n",
       "256 2017-04-11 15:12:00    12597         147    autoreply_message   \n",
       "\n",
       "         product_type  \n",
       "5    premium_no_trial  \n",
       "12   premium_no_trial  \n",
       "27   premium_no_trial  \n",
       "46   premium_no_trial  \n",
       "84   premium_no_trial  \n",
       "93   premium_no_trial  \n",
       "121  premium_no_trial  \n",
       "144  premium_no_trial  \n",
       "145  premium_no_trial  \n",
       "170  premium_no_trial  \n",
       "187  premium_no_trial  \n",
       "191  premium_no_trial  \n",
       "196  premium_no_trial  \n",
       "199  premium_no_trial  \n",
       "215  premium_no_trial  \n",
       "222  premium_no_trial  \n",
       "232  premium_no_trial  \n",
       "253  premium_no_trial  \n",
       "256  premium_no_trial  "
      ]
     },
     "execution_count": 11,
     "metadata": {},
     "output_type": "execute_result"
    }
   ],
   "source": [
    "df[df['revenue'] > 10000]\n"
   ]
  },
  {
   "cell_type": "code",
   "execution_count": 12,
   "metadata": {},
   "outputs": [
    {
     "data": {
      "text/html": [
       "<div>\n",
       "<style scoped>\n",
       "    .dataframe tbody tr th:only-of-type {\n",
       "        vertical-align: middle;\n",
       "    }\n",
       "\n",
       "    .dataframe tbody tr th {\n",
       "        vertical-align: top;\n",
       "    }\n",
       "\n",
       "    .dataframe thead th {\n",
       "        text-align: right;\n",
       "    }\n",
       "</style>\n",
       "<table border=\"1\" class=\"dataframe\">\n",
       "  <thead>\n",
       "    <tr style=\"text-align: right;\">\n",
       "      <th></th>\n",
       "      <th>uid</th>\n",
       "      <th>age</th>\n",
       "      <th>attraction_coeff</th>\n",
       "      <th>coins</th>\n",
       "      <th>country</th>\n",
       "      <th>visit_days</th>\n",
       "      <th>count_of_visit_days</th>\n",
       "      <th>gender</th>\n",
       "      <th>age_filter_start</th>\n",
       "      <th>age_filter_end</th>\n",
       "      <th>views_count</th>\n",
       "      <th>was_premium</th>\n",
       "      <th>is_premium</th>\n",
       "      <th>total_revenue</th>\n",
       "    </tr>\n",
       "  </thead>\n",
       "  <tbody>\n",
       "    <tr>\n",
       "      <th>992</th>\n",
       "      <td>892038759</td>\n",
       "      <td>26</td>\n",
       "      <td>323</td>\n",
       "      <td>3</td>\n",
       "      <td>United Arab Emirates</td>\n",
       "      <td>[1, 2, 3, 4, 5, 6, 7, 8, 9, 10, 11, 12, 13, 14...</td>\n",
       "      <td>20</td>\n",
       "      <td>1</td>\n",
       "      <td>23</td>\n",
       "      <td>48</td>\n",
       "      <td>232</td>\n",
       "      <td>1</td>\n",
       "      <td>1</td>\n",
       "      <td>123565</td>\n",
       "    </tr>\n",
       "  </tbody>\n",
       "</table>\n",
       "</div>"
      ],
      "text/plain": [
       "           uid  age  attraction_coeff  coins               country  \\\n",
       "992  892038759   26               323      3  United Arab Emirates   \n",
       "\n",
       "                                            visit_days  count_of_visit_days  \\\n",
       "992  [1, 2, 3, 4, 5, 6, 7, 8, 9, 10, 11, 12, 13, 14...                   20   \n",
       "\n",
       "     gender  age_filter_start  age_filter_end  views_count  was_premium  \\\n",
       "992       1                23              48          232            1   \n",
       "\n",
       "     is_premium  total_revenue  \n",
       "992           1         123565  "
      ]
     },
     "execution_count": 12,
     "metadata": {},
     "output_type": "execute_result"
    }
   ],
   "source": [
    "users_test[users_test['uid']==892038759]"
   ]
  },
  {
   "cell_type": "code",
   "execution_count": 13,
   "metadata": {},
   "outputs": [
    {
     "data": {
      "text/plain": [
       "Text(0.5, 1.0, 'Control_2')"
      ]
     },
     "execution_count": 13,
     "metadata": {},
     "output_type": "execute_result"
    },
    {
     "data": {
      "image/png": "[encoded data removed]",
      "text/plain": [
       "<Figure size 1500x500 with 3 Axes>"
      ]
     },
     "metadata": {},
     "output_type": "display_data"
    }
   ],
   "source": [
    "# Построим графики распределения\n",
    "fig, ax = plt.subplots(1, 3, figsize = (15,5))\n",
    "ax[0].hist(df.revenue, bins= 100)\n",
    "ax[0].set_title('Test')\n",
    "ax[1].hist(df_1.revenue, bins= 100)\n",
    "ax[1].set_title('Control_1')\n",
    "ax[2].hist(df_2.revenue, bins= 100)\n",
    "ax[2].set_title('Control_2')"
   ]
  },
  {
   "cell_type": "markdown",
   "metadata": {},
   "source": [
    "Видим асимметричное распределение, и явыне выбросы."
   ]
  },
  {
   "cell_type": "code",
   "execution_count": 14,
   "metadata": {},
   "outputs": [
    {
     "data": {
      "text/plain": [
       "Text(0.5, 1.0, 'Control_2')"
      ]
     },
     "execution_count": 14,
     "metadata": {},
     "output_type": "execute_result"
    },
    {
     "data": {
      "image/png": "[encoded data removed]",
      "text/plain": [
       "<Figure size 1500x500 with 3 Axes>"
      ]
     },
     "metadata": {},
     "output_type": "display_data"
    }
   ],
   "source": [
    "# Построим график расспределения отбросив выбрасы в данных. \n",
    "fig, ax = plt.subplots(1, 3, figsize = (15,5))\n",
    "ax[0].hist(df[df['revenue'] <= df.revenue.quantile(0.95)].revenue, bins= 100)\n",
    "ax[0].set_title('Test')\n",
    "ax[1].hist(df_1[df_1['revenue'] <= df_1.revenue.quantile(0.95)].revenue, bins= 100)\n",
    "ax[1].set_title('Control_1')\n",
    "ax[2].hist(df_2[df_2['revenue'] <= df_2.revenue.quantile(0.95)].revenue, bins= 100)\n",
    "ax[2].set_title('Control_2')"
   ]
  },
  {
   "cell_type": "code",
   "execution_count": 15,
   "metadata": {},
   "outputs": [
    {
     "name": "stdout",
     "output_type": "stream",
     "text": [
      "Сред. Test 7888.540540540541\n",
      "Сред. Control_1 5271.63\n",
      "Сред. COntrol_2 5536.455445544554\n"
     ]
    }
   ],
   "source": [
    "df = df[df['revenue'] <= df.revenue.quantile(0.95)]\n",
    "df_1 = df_1[df_1['revenue'] <= df_1.revenue.quantile(0.95)]\n",
    "df_2 = df_2[df_2['revenue'] <= df_2.revenue.quantile(0.95)]\n",
    "print('Сред. Test',df.revenue.mean())\n",
    "print('Сред. Control_1',df_1.revenue.mean())\n",
    "print('Сред. COntrol_2',df_2.revenue.mean())"
   ]
  },
  {
   "cell_type": "markdown",
   "metadata": {},
   "source": [
    "## Проводим А/А тест на двух контрольных группах о транзакциях."
   ]
  },
  {
   "cell_type": "code",
   "execution_count": 16,
   "metadata": {},
   "outputs": [
    {
     "data": {
      "application/vnd.jupyter.widget-view+json": {
       "model_id": "057ef19c5f5a4be9a1457e2b53c80f8f",
       "version_major": 2,
       "version_minor": 0
      },
      "text/plain": [
       "  0%|          | 0/10000 [00:00<?, ?it/s]"
      ]
     },
     "metadata": {},
     "output_type": "display_data"
    },
    {
     "data": {
      "image/png": "[encoded data removed]",
      "text/plain": [
       "<Figure size 640x480 with 1 Axes>"
      ]
     },
     "metadata": {},
     "output_type": "display_data"
    },
    {
     "data": {
      "text/plain": [
       "0.0042"
      ]
     },
     "execution_count": 16,
     "metadata": {},
     "output_type": "execute_result"
    }
   ],
   "source": [
    "df_1 = transactions_control_1[transactions_control_1['product_type'] == 'premium_no_trial']\n",
    "df_2 = transactions_control_2[transactions_control_2['product_type'] == 'premium_no_trial']\n",
    "n_s = 50\n",
    "simulations = 10000\n",
    "res = []\n",
    "\n",
    "\n",
    "for i in tqdm(range(simulations)):\n",
    "    s1 = df_1['revenue'].sample(n_s, replace = False).values\n",
    "    s2 = df_2['revenue'].sample(n_s, replace = False).values\n",
    "    res.append(stats.ttest_ind(s1, s2, equal_var = False)[1]) # сохраняем pvalue\n",
    "\n",
    "plt.hist(res, bins = 50)\n",
    "plt.style.use('ggplot')\n",
    "plt.xlabel('pvalues')\n",
    "plt.ylabel('frequency')\n",
    "plt.title(\"Histogram of ttest A/A simulations \")\n",
    "plt.show()\n",
    "\n",
    "# Проверяем, что количество ложноположительных случаев не превышает альфа\n",
    "sum(np.array(res) < 0.05) / simulations"
   ]
  },
  {
   "cell_type": "markdown",
   "metadata": {},
   "source": [
    "В результате, делаем вывод, что система сплитования качественная.\n"
   ]
  },
  {
   "cell_type": "code",
   "execution_count": 17,
   "metadata": {},
   "outputs": [
    {
     "name": "stdout",
     "output_type": "stream",
     "text": [
      "ARPU_test: 135.5041782729805\n",
      "ARPU_control_1: 179.5527649769585\n",
      "ARPU_control_2: 174.6737804878049\n"
     ]
    }
   ],
   "source": [
    "# Посмотрим на показатели метрики ARPU в рамках тестируемого продукта (premium_no_trial)\n",
    "# за общее количество пользователей берем количество уникальных пользователей в группе \n",
    "\n",
    "ARPU_test = df.revenue.sum() / users_test.uid.nunique() \n",
    "\n",
    "ARPU_control_1 = df_1.revenue.sum() / users_control_1.uid.nunique() \n",
    "\n",
    "ARPU_control_2 = df_2.revenue.sum() / users_control_2.uid.nunique() \n",
    "\n",
    "print(f'ARPU_test: {ARPU_test}', f'ARPU_control_1: {ARPU_control_1}', f'ARPU_control_2: {ARPU_control_2}', sep='\\n')\n",
    "\n"
   ]
  },
  {
   "cell_type": "code",
   "execution_count": 18,
   "metadata": {},
   "outputs": [
    {
     "name": "stdout",
     "output_type": "stream",
     "text": [
      "ARPPU_test: 8980.8\n",
      "ARPPU_control_1: 7871.3\n",
      "ARPPU_control_2: 7302.05\n"
     ]
    }
   ],
   "source": [
    "# Также смотрим на ARPPU \n",
    "ARPPU_test = round(df.revenue.sum() / df.uid.nunique(), 2) \n",
    "\n",
    "ARPPU_control_1 = round(df_1.revenue.sum() / df_1.uid.nunique(), 2)\n",
    "\n",
    "ARPPU_control_2 = round(df_2.revenue.sum() / df_2.uid.nunique(), 2 )\n",
    "\n",
    "print(f'ARPPU_test: {ARPPU_test}', f'ARPPU_control_1: {ARPPU_control_1}', f'ARPPU_control_2: {ARPPU_control_2}', sep='\\n')"
   ]
  },
  {
   "cell_type": "markdown",
   "metadata": {},
   "source": [
    "Видим разницу значений в метриках между тестовыми и контрольными группами.\n"
   ]
  },
  {
   "cell_type": "markdown",
   "metadata": {},
   "source": [
    "Проверим, являются ли эти различия статистически значимыми с помощью теста mannwhitneyu.\n",
    "\n",
    "т.к. данные распределены не соответсвуют нормальному,а группы независимые."
   ]
  },
  {
   "cell_type": "code",
   "execution_count": 19,
   "metadata": {},
   "outputs": [
    {
     "name": "stdout",
     "output_type": "stream",
     "text": [
      "Statistics=5654.0, p=3.685619377096622e-07\n"
     ]
    }
   ],
   "source": [
    "stat, p = mannwhitneyu(df.revenue, df_1.revenue)\n",
    "print(f'Statistics={stat}, p={p}')\n",
    "#Получаем статистически значимое различие между группами test и control_1\n"
   ]
  },
  {
   "cell_type": "code",
   "execution_count": 20,
   "metadata": {},
   "outputs": [
    {
     "name": "stdout",
     "output_type": "stream",
     "text": [
      "Statistics=5557.0, p=3.3424085069404536e-06\n"
     ]
    }
   ],
   "source": [
    "stat, p = mannwhitneyu(df.revenue, df_2.revenue)\n",
    "print(f'Statistics={stat}, p={p}')\n",
    "#Также получаем статистически значимое различие между группами test и control_2\n"
   ]
  },
  {
   "cell_type": "code",
   "execution_count": 39,
   "metadata": {},
   "outputs": [],
   "source": [
    "# Объявим функцию, которая позволит проверять гипотезы с помощью бутстрапа\n",
    "def get_bootstrap(\n",
    "    data_column_1, # числовые значения первой выборки\n",
    "    data_column_2, # числовые значения второй выборки\n",
    "    boot_it = 10000, # количество бутстрэп-подвыборок\n",
    "    statistic = np.mean, # интересующая нас статистика\n",
    "    bootstrap_conf_level = 0.95 # уровень значимости\n",
    "):\n",
    "    boot_len = max([len(data_column_1), len(data_column_2)])\n",
    "    boot_data = []\n",
    "    for i in tqdm(range(boot_it)): # извлекаем подвыборки\n",
    "        samples_1 = data_column_1.sample(\n",
    "            boot_len, \n",
    "            replace = True # параметр возвращения\n",
    "        ).values\n",
    "        \n",
    "        samples_2 = data_column_2.sample(\n",
    "            boot_len, \n",
    "            replace = True\n",
    "        ).values\n",
    "        \n",
    "        boot_data.append(statistic(samples_1-samples_2)) # mean() - применяем статистику\n",
    "        \n",
    "    pd_boot_data = pd.DataFrame(boot_data)\n",
    "        \n",
    "    left_quant = (1 - bootstrap_conf_level)/2\n",
    "    right_quant = 1 - (1 - bootstrap_conf_level) / 2\n",
    "    ci = pd_boot_data.quantile([left_quant, right_quant])\n",
    "        \n",
    "    p_1 = norm.cdf(\n",
    "        x = 0, \n",
    "        loc = np.mean(boot_data), \n",
    "        scale = np.std(boot_data)\n",
    "    )\n",
    "    p_2 = norm.cdf(\n",
    "        x = 0, \n",
    "        loc = -np.mean(boot_data), \n",
    "        scale = np.std(boot_data)\n",
    "    )\n",
    "    p_value = min(p_1, p_2) * 2\n",
    "        \n",
    "    # Визуализация\n",
    "    plt.hist(pd_boot_data[0], bins = 50)\n",
    "    \n",
    "    plt.style.use('default')\n",
    "    plt.vlines(ci,ymin=20, ymax=50, linestyle='--')\n",
    "    plt.xlabel('boot_data')\n",
    "    plt.ylabel('frequency')\n",
    "    plt.title(\"Histogram of boot_data\")\n",
    "    plt.show()\n",
    "       \n",
    "    return {\"boot_data\": boot_data, \n",
    "            \"ci\": ci, \n",
    "            \"p_value\": p_value}"
   ]
  },
  {
   "cell_type": "code",
   "execution_count": null,
   "metadata": {},
   "outputs": [],
   "source": []
  },
  {
   "cell_type": "code",
   "execution_count": 40,
   "metadata": {},
   "outputs": [
    {
     "data": {
      "application/vnd.jupyter.widget-view+json": {
       "model_id": "624e90cafdc343a7ad52da24956ef37f",
       "version_major": 2,
       "version_minor": 0
      },
      "text/plain": [
       "  0%|          | 0/10000 [00:00<?, ?it/s]"
      ]
     },
     "metadata": {},
     "output_type": "display_data"
    },
    {
     "data": {
      "image/png": "[encoded data removed]",
      "text/plain": [
       "<Figure size 640x480 with 1 Axes>"
      ]
     },
     "metadata": {},
     "output_type": "display_data"
    }
   ],
   "source": [
    "#Т.к в выборках видим сильные выбросы, за основную статистику берём медиану.\n",
    "booted_data = get_bootstrap(df.revenue,df_1.revenue, boot_it = 10000,statistic = np.mean) \n",
    "\n"
   ]
  },
  {
   "cell_type": "code",
   "execution_count": 23,
   "metadata": {},
   "outputs": [
    {
     "data": {
      "text/plain": [
       "0.620113834292718"
      ]
     },
     "execution_count": 23,
     "metadata": {},
     "output_type": "execute_result"
    }
   ],
   "source": [
    "# По итогу получаем значение p уровня ниже нашей границы в 0.05\n",
    "booted_data[\"p_value\"]"
   ]
  },
  {
   "cell_type": "code",
   "execution_count": 24,
   "metadata": {},
   "outputs": [
    {
     "data": {
      "text/html": [
       "<div>\n",
       "<style scoped>\n",
       "    .dataframe tbody tr th:only-of-type {\n",
       "        vertical-align: middle;\n",
       "    }\n",
       "\n",
       "    .dataframe tbody tr th {\n",
       "        vertical-align: top;\n",
       "    }\n",
       "\n",
       "    .dataframe thead th {\n",
       "        text-align: right;\n",
       "    }\n",
       "</style>\n",
       "<table border=\"1\" class=\"dataframe\">\n",
       "  <thead>\n",
       "    <tr style=\"text-align: right;\">\n",
       "      <th></th>\n",
       "      <th>0</th>\n",
       "    </tr>\n",
       "  </thead>\n",
       "  <tbody>\n",
       "    <tr>\n",
       "      <th>0.025</th>\n",
       "      <td>-1763.824057</td>\n",
       "    </tr>\n",
       "    <tr>\n",
       "      <th>0.975</th>\n",
       "      <td>2394.452830</td>\n",
       "    </tr>\n",
       "  </tbody>\n",
       "</table>\n",
       "</div>"
      ],
      "text/plain": [
       "                 0\n",
       "0.025 -1763.824057\n",
       "0.975  2394.452830"
      ]
     },
     "execution_count": 24,
     "metadata": {},
     "output_type": "execute_result"
    }
   ],
   "source": [
    "# 0 не входит в полученный доверительный интервал, что свидетельствует о статистически значимом различии нашей статистики(средней выручки на группу) в данных группах. \n",
    "booted_data[\"ci\"]"
   ]
  },
  {
   "cell_type": "code",
   "execution_count": null,
   "metadata": {},
   "outputs": [],
   "source": []
  },
  {
   "cell_type": "code",
   "execution_count": null,
   "metadata": {},
   "outputs": [],
   "source": []
  },
  {
   "cell_type": "code",
   "execution_count": null,
   "metadata": {},
   "outputs": [],
   "source": []
  },
  {
   "cell_type": "code",
   "execution_count": null,
   "metadata": {},
   "outputs": [],
   "source": []
  },
  {
   "cell_type": "code",
   "execution_count": null,
   "metadata": {},
   "outputs": [],
   "source": []
  },
  {
   "cell_type": "code",
   "execution_count": null,
   "metadata": {},
   "outputs": [],
   "source": []
  },
  {
   "cell_type": "code",
   "execution_count": null,
   "metadata": {},
   "outputs": [],
   "source": []
  },
  {
   "cell_type": "code",
   "execution_count": null,
   "metadata": {},
   "outputs": [],
   "source": []
  },
  {
   "cell_type": "code",
   "execution_count": null,
   "metadata": {},
   "outputs": [],
   "source": []
  },
  {
   "cell_type": "code",
   "execution_count": 25,
   "metadata": {},
   "outputs": [
    {
     "data": {
      "text/plain": [
       "(65, 15)"
      ]
     },
     "execution_count": 25,
     "metadata": {},
     "output_type": "execute_result"
    }
   ],
   "source": [
    "# Можем ещё посмотреть на абсолютную конверсию CR c целевым действием, наличие пользователем премиум подписки.\n",
    "# тут важно исключить trial_premium.\n",
    "\n",
    "df_test_mask = df.groupby('uid',as_index=False).agg({'revenue':sum})\n",
    "\n",
    "uniq_users_no_trail = pd.merge(users_test, df_test_mask, on = 'uid', how = 'inner' )\n",
    "uniq_users_no_trail.rename(columns={'revenue':'revenue_from_premium'},inplace=True)\n",
    "uniq_users_no_trail.shape\n",
    "\n",
    "\n"
   ]
  },
  {
   "cell_type": "code",
   "execution_count": 26,
   "metadata": {},
   "outputs": [
    {
     "name": "stdout",
     "output_type": "stream",
     "text": [
      "users_test\n",
      "Имели когда-либо премиум 10.5%\n",
      "Имеют премиум сейчас 3.8%\n"
     ]
    }
   ],
   "source": [
    "# Смотрим на конверсию с целевым действием, был ли когда-либо премиум и имеют ли премиум .\n",
    "CR_test_1 = users_test.groupby('was_premium',as_index=False).agg({'uid':'count'}).uid[1] / users_test.groupby('was_premium',as_index=False).agg({'uid':'count'}).uid[0]\n",
    "print('users_test')\n",
    "print(f'Имели когда-либо премиум {round(CR_test_1,3)*100}%')\n",
    "CR_test_2 = users_test.groupby('is_premium',as_index=False).agg({'uid':'count'}).uid[1] / users_test.groupby('is_premium',as_index=False).agg({'uid':'count'}).uid[0]\n",
    "print(f'Имеют премиум сейчас {round(CR_test_2,3)*100}%')"
   ]
  },
  {
   "cell_type": "code",
   "execution_count": 27,
   "metadata": {},
   "outputs": [
    {
     "name": "stdout",
     "output_type": "stream",
     "text": [
      "users_control_1\n",
      "Имели когда-либо премиум 11.17%\n",
      "Имеют премиум сейчас 4.6% \n"
     ]
    }
   ],
   "source": [
    "CR_control_1 = users_control_1.groupby('was_premium',as_index=False).agg({'uid':'count'}).uid[1] / users_control_1.groupby('was_premium',as_index=False).agg({'uid':'count'}).uid[0]\n",
    "print('users_control_1')\n",
    "print(f'Имели когда-либо премиум { round(CR_control_1, 4)*100 }%')\n",
    "CR_control_2 = users_control_1.groupby('is_premium',as_index=False).agg({'uid':'count'}).uid[1] / users_control_1.groupby('is_premium',as_index=False).agg({'uid':'count'}).uid[0]\n",
    "print(f'Имеют премиум сейчас { round(CR_control_2,3)*100 }% ')"
   ]
  },
  {
   "cell_type": "code",
   "execution_count": 28,
   "metadata": {},
   "outputs": [
    {
     "name": "stdout",
     "output_type": "stream",
     "text": [
      "users_control_2\n",
      "Имели когда-либо премиум 10.67%\n",
      "Имеют премиум сейчас 4.7% \n"
     ]
    }
   ],
   "source": [
    "CR_control2_1 = users_control_2.groupby('was_premium',as_index=False).agg({'uid':'count'}).uid[1] / users_control_2.groupby('was_premium',as_index=False).agg({'uid':'count'}).uid[0]\n",
    "print('users_control_2')\n",
    "print(f'Имели когда-либо премиум { round(CR_control2_1, 4)*100 }%')\n",
    "CR_control2_2 = users_control_2.groupby('is_premium',as_index=False).agg({'uid':'count'}).uid[1] / users_control_2.groupby('is_premium',as_index=False).agg({'uid':'count'}).uid[0]\n",
    "print(f'Имеют премиум сейчас { round(CR_control2_2,3)*100 }% ')"
   ]
  },
  {
   "cell_type": "code",
   "execution_count": 29,
   "metadata": {},
   "outputs": [
    {
     "data": {
      "text/html": [
       "<div>\n",
       "<style scoped>\n",
       "    .dataframe tbody tr th:only-of-type {\n",
       "        vertical-align: middle;\n",
       "    }\n",
       "\n",
       "    .dataframe tbody tr th {\n",
       "        vertical-align: top;\n",
       "    }\n",
       "\n",
       "    .dataframe thead th {\n",
       "        text-align: right;\n",
       "    }\n",
       "</style>\n",
       "<table border=\"1\" class=\"dataframe\">\n",
       "  <thead>\n",
       "    <tr style=\"text-align: right;\">\n",
       "      <th></th>\n",
       "      <th>is_premium</th>\n",
       "      <th>uid</th>\n",
       "    </tr>\n",
       "  </thead>\n",
       "  <tbody>\n",
       "    <tr>\n",
       "      <th>0</th>\n",
       "      <td>0</td>\n",
       "      <td>251</td>\n",
       "    </tr>\n",
       "    <tr>\n",
       "      <th>1</th>\n",
       "      <td>1</td>\n",
       "      <td>157</td>\n",
       "    </tr>\n",
       "  </tbody>\n",
       "</table>\n",
       "</div>"
      ],
      "text/plain": [
       "   is_premium  uid\n",
       "0           0  251\n",
       "1           1  157"
      ]
     },
     "execution_count": 29,
     "metadata": {},
     "output_type": "execute_result"
    }
   ],
   "source": [
    "users_test.query('was_premium == 1').groupby('is_premium',as_index=False).agg({'uid':'count'})"
   ]
  },
  {
   "cell_type": "code",
   "execution_count": 30,
   "metadata": {},
   "outputs": [
    {
     "name": "stderr",
     "output_type": "stream",
     "text": [
      "/var/folders/98/cq77c4j90csgl9c58kjw89dm0000gn/T/ipykernel_15034/44257403.py:7: SettingWithCopyWarning: \n",
      "A value is trying to be set on a copy of a slice from a DataFrame.\n",
      "Try using .loc[row_indexer,col_indexer] = value instead\n",
      "\n",
      "See the caveats in the documentation: https://pandas.pydata.org/pandas-docs/stable/user_guide/indexing.html#returning-a-view-versus-a-copy\n",
      "  df_1['year_month'] = df_1['paid_at'].dt.to_period('M').astype(str)\n",
      "/var/folders/98/cq77c4j90csgl9c58kjw89dm0000gn/T/ipykernel_15034/44257403.py:13: SettingWithCopyWarning: \n",
      "A value is trying to be set on a copy of a slice from a DataFrame.\n",
      "Try using .loc[row_indexer,col_indexer] = value instead\n",
      "\n",
      "See the caveats in the documentation: https://pandas.pydata.org/pandas-docs/stable/user_guide/indexing.html#returning-a-view-versus-a-copy\n",
      "  df_2['year_month'] = df_2['paid_at'].dt.to_period('M').astype(str)\n"
     ]
    }
   ],
   "source": [
    "df['year_month'] = df['paid_at'].dt.to_period('M').astype(str)\n",
    "df_year_month = df.groupby('year_month',as_index=False).agg({'revenue':'sum',\n",
    "                                                             'uid':'nunique'})\n",
    "df_year_month['arpu'] = df_year_month['revenue'] / users_test.uid.nunique() \n",
    "df_year_month.query('year_month != \"2017-10\"',inplace=True)\n",
    "\n",
    "df_1['year_month'] = df_1['paid_at'].dt.to_period('M').astype(str)\n",
    "df_year_month_1 = df_1.groupby('year_month',as_index=False).agg({'revenue':'sum',\n",
    "                                                             'uid':'nunique'})\n",
    "df_year_month_1['arpu'] = df_year_month_1['revenue'] / users_control_1.uid.nunique() \n",
    "df_year_month_1.query('year_month != \"2017-10\"',inplace=True)\n",
    "\n",
    "df_2['year_month'] = df_2['paid_at'].dt.to_period('M').astype(str)\n",
    "df_year_month_2 = df_2.groupby('year_month',as_index=False).agg({'revenue':'sum',\n",
    "                                                             'uid':'nunique'})\n",
    "df_year_month_2['arpu'] = df_year_month_2['revenue'] / users_control_2.uid.nunique() \n",
    "df_year_month_2.query('year_month != \"2017-10\"',inplace=True)\n",
    "\n",
    "\n"
   ]
  },
  {
   "cell_type": "code",
   "execution_count": 31,
   "metadata": {},
   "outputs": [
    {
     "data": {
      "text/plain": [
       "<matplotlib.legend.Legend at 0x145eed330>"
      ]
     },
     "execution_count": 31,
     "metadata": {},
     "output_type": "execute_result"
    },
    {
     "data": {
      "image/png": "[encoded data removed]",
      "text/plain": [
       "<Figure size 640x480 with 1 Axes>"
      ]
     },
     "metadata": {},
     "output_type": "display_data"
    }
   ],
   "source": [
    "sns.lineplot(x=df_year_month['year_month'].astype(str), y= df_year_month['arpu'])\n",
    "sns.lineplot(x=df_year_month_1['year_month'].astype(str), y= df_year_month_1['arpu'])\n",
    "sns.lineplot(x=df_year_month_2['year_month'].astype(str), y= df_year_month_2['arpu'])\n",
    "plt.tick_params(axis='x', labelrotation=45)\n",
    "plt.legend(labels=[\"test\",\"\",\"control_1\",'','control_2'])\n",
    "# ax.set_label()"
   ]
  },
  {
   "cell_type": "code",
   "execution_count": null,
   "metadata": {},
   "outputs": [],
   "source": []
  },
  {
   "cell_type": "code",
   "execution_count": null,
   "metadata": {},
   "outputs": [],
   "source": []
  },
  {
   "cell_type": "code",
   "execution_count": null,
   "metadata": {},
   "outputs": [],
   "source": []
  },
  {
   "cell_type": "code",
   "execution_count": null,
   "metadata": {},
   "outputs": [],
   "source": []
  },
  {
   "cell_type": "code",
   "execution_count": 32,
   "metadata": {},
   "outputs": [],
   "source": [
    "df['delta'] = df['paid_at'] - df['joined_at']\n",
    "list_of_unique_page_df = df.from_page.unique()"
   ]
  },
  {
   "cell_type": "code",
   "execution_count": 33,
   "metadata": {},
   "outputs": [
    {
     "name": "stderr",
     "output_type": "stream",
     "text": [
      "/var/folders/98/cq77c4j90csgl9c58kjw89dm0000gn/T/ipykernel_15034/4254458593.py:1: SettingWithCopyWarning: \n",
      "A value is trying to be set on a copy of a slice from a DataFrame.\n",
      "Try using .loc[row_indexer,col_indexer] = value instead\n",
      "\n",
      "See the caveats in the documentation: https://pandas.pydata.org/pandas-docs/stable/user_guide/indexing.html#returning-a-view-versus-a-copy\n",
      "  df_1['delta'] = df_1['paid_at'] - df_1['joined_at']\n"
     ]
    }
   ],
   "source": [
    "df_1['delta'] = df_1['paid_at'] - df_1['joined_at']\n",
    "list_of_unique_page_df_1 = df_1.from_page.unique()"
   ]
  },
  {
   "cell_type": "code",
   "execution_count": 34,
   "metadata": {},
   "outputs": [
    {
     "name": "stderr",
     "output_type": "stream",
     "text": [
      "/var/folders/98/cq77c4j90csgl9c58kjw89dm0000gn/T/ipykernel_15034/481714589.py:1: SettingWithCopyWarning: \n",
      "A value is trying to be set on a copy of a slice from a DataFrame.\n",
      "Try using .loc[row_indexer,col_indexer] = value instead\n",
      "\n",
      "See the caveats in the documentation: https://pandas.pydata.org/pandas-docs/stable/user_guide/indexing.html#returning-a-view-versus-a-copy\n",
      "  df_2['delta'] = df_2['paid_at'] - df_2['joined_at']\n"
     ]
    }
   ],
   "source": [
    "df_2['delta'] = df_2['paid_at'] - df_2['joined_at']\n",
    "list_of_unique_page_df_2 = df_2.from_page.unique()"
   ]
  },
  {
   "cell_type": "code",
   "execution_count": 35,
   "metadata": {},
   "outputs": [],
   "source": [
    "list_of_unique_page_df = list_of_unique_page_df.tolist()\n",
    "list_of_unique_page_df_1 = list_of_unique_page_df_1.tolist()\n",
    "list_of_unique_page_df_2 = list_of_unique_page_df_2.tolist()\n"
   ]
  },
  {
   "cell_type": "code",
   "execution_count": 36,
   "metadata": {},
   "outputs": [
    {
     "data": {
      "text/plain": [
       "['delivery_vip']"
      ]
     },
     "execution_count": 36,
     "metadata": {},
     "output_type": "execute_result"
    }
   ],
   "source": [
    "result = []\n",
    "for i in list_of_unique_page_df:\n",
    "    if i not in list_of_unique_page_df_2:\n",
    "        result.append(i)\n",
    "result"
   ]
  },
  {
   "cell_type": "code",
   "execution_count": 37,
   "metadata": {},
   "outputs": [
    {
     "data": {
      "text/html": [
       "<div>\n",
       "<style scoped>\n",
       "    .dataframe tbody tr th:only-of-type {\n",
       "        vertical-align: middle;\n",
       "    }\n",
       "\n",
       "    .dataframe tbody tr th {\n",
       "        vertical-align: top;\n",
       "    }\n",
       "\n",
       "    .dataframe thead th {\n",
       "        text-align: right;\n",
       "    }\n",
       "</style>\n",
       "<table border=\"1\" class=\"dataframe\">\n",
       "  <thead>\n",
       "    <tr style=\"text-align: right;\">\n",
       "      <th></th>\n",
       "      <th>uid</th>\n",
       "      <th>country</th>\n",
       "      <th>joined_at</th>\n",
       "      <th>paid_at</th>\n",
       "      <th>revenue</th>\n",
       "      <th>payment_id</th>\n",
       "      <th>from_page</th>\n",
       "      <th>product_type</th>\n",
       "      <th>year_month</th>\n",
       "      <th>delta</th>\n",
       "    </tr>\n",
       "  </thead>\n",
       "  <tbody>\n",
       "    <tr>\n",
       "      <th>21</th>\n",
       "      <td>891312873</td>\n",
       "      <td>Italy</td>\n",
       "      <td>2017-05-11 21:22:00</td>\n",
       "      <td>2017-10-11 21:51:00</td>\n",
       "      <td>7852</td>\n",
       "      <td>147</td>\n",
       "      <td>promo_09</td>\n",
       "      <td>premium_no_trial</td>\n",
       "      <td>2017-10</td>\n",
       "      <td>153 days 00:29:00</td>\n",
       "    </tr>\n",
       "    <tr>\n",
       "      <th>22</th>\n",
       "      <td>891071157</td>\n",
       "      <td>United States of America</td>\n",
       "      <td>2017-10-11 10:20:00</td>\n",
       "      <td>2017-10-11 16:37:00</td>\n",
       "      <td>9100</td>\n",
       "      <td>147</td>\n",
       "      <td>promo_09</td>\n",
       "      <td>premium_no_trial</td>\n",
       "      <td>2017-10</td>\n",
       "      <td>0 days 06:17:00</td>\n",
       "    </tr>\n",
       "    <tr>\n",
       "      <th>28</th>\n",
       "      <td>892229262</td>\n",
       "      <td>United States of America</td>\n",
       "      <td>2017-10-18 07:20:00</td>\n",
       "      <td>2017-10-19 04:23:00</td>\n",
       "      <td>9100</td>\n",
       "      <td>147</td>\n",
       "      <td>promo_09</td>\n",
       "      <td>premium_no_trial</td>\n",
       "      <td>2017-10</td>\n",
       "      <td>0 days 21:03:00</td>\n",
       "    </tr>\n",
       "    <tr>\n",
       "      <th>74</th>\n",
       "      <td>892205850</td>\n",
       "      <td>Spain</td>\n",
       "      <td>2017-10-18 19:20:00</td>\n",
       "      <td>2017-02-11 00:13:00</td>\n",
       "      <td>5408</td>\n",
       "      <td>147</td>\n",
       "      <td>promo_09</td>\n",
       "      <td>premium_no_trial</td>\n",
       "      <td>2017-02</td>\n",
       "      <td>-250 days +04:53:00</td>\n",
       "    </tr>\n",
       "    <tr>\n",
       "      <th>84</th>\n",
       "      <td>891861489</td>\n",
       "      <td>Australia</td>\n",
       "      <td>2017-10-26 02:31:00</td>\n",
       "      <td>2017-04-11 02:04:00</td>\n",
       "      <td>12597</td>\n",
       "      <td>147</td>\n",
       "      <td>promo_09</td>\n",
       "      <td>premium_no_trial</td>\n",
       "      <td>2017-04</td>\n",
       "      <td>-199 days +23:33:00</td>\n",
       "    </tr>\n",
       "    <tr>\n",
       "      <th>102</th>\n",
       "      <td>892275204</td>\n",
       "      <td>Mexico</td>\n",
       "      <td>2017-10-17 06:09:00</td>\n",
       "      <td>2017-10-17 15:05:00</td>\n",
       "      <td>6214</td>\n",
       "      <td>147</td>\n",
       "      <td>promo_09</td>\n",
       "      <td>premium_no_trial</td>\n",
       "      <td>2017-10</td>\n",
       "      <td>0 days 08:56:00</td>\n",
       "    </tr>\n",
       "    <tr>\n",
       "      <th>129</th>\n",
       "      <td>892217373</td>\n",
       "      <td>United States of America</td>\n",
       "      <td>2017-10-18 14:15:00</td>\n",
       "      <td>2017-10-23 22:45:00</td>\n",
       "      <td>7904</td>\n",
       "      <td>147</td>\n",
       "      <td>promo_09</td>\n",
       "      <td>premium_no_trial</td>\n",
       "      <td>2017-10</td>\n",
       "      <td>5 days 08:30:00</td>\n",
       "    </tr>\n",
       "    <tr>\n",
       "      <th>144</th>\n",
       "      <td>891806436</td>\n",
       "      <td>Italy</td>\n",
       "      <td>2017-10-27 08:51:00</td>\n",
       "      <td>2017-10-30 17:34:00</td>\n",
       "      <td>12597</td>\n",
       "      <td>147</td>\n",
       "      <td>promo_09</td>\n",
       "      <td>premium_no_trial</td>\n",
       "      <td>2017-10</td>\n",
       "      <td>3 days 08:43:00</td>\n",
       "    </tr>\n",
       "    <tr>\n",
       "      <th>197</th>\n",
       "      <td>891603810</td>\n",
       "      <td>United States of America</td>\n",
       "      <td>2017-10-31 06:36:00</td>\n",
       "      <td>2017-04-11 09:25:00</td>\n",
       "      <td>9100</td>\n",
       "      <td>147</td>\n",
       "      <td>promo_09</td>\n",
       "      <td>premium_no_trial</td>\n",
       "      <td>2017-04</td>\n",
       "      <td>-203 days +02:49:00</td>\n",
       "    </tr>\n",
       "    <tr>\n",
       "      <th>222</th>\n",
       "      <td>891867477</td>\n",
       "      <td>Italy</td>\n",
       "      <td>2017-10-25 23:18:00</td>\n",
       "      <td>2017-03-11 19:02:00</td>\n",
       "      <td>12597</td>\n",
       "      <td>147</td>\n",
       "      <td>promo_09</td>\n",
       "      <td>premium_no_trial</td>\n",
       "      <td>2017-03</td>\n",
       "      <td>-229 days +19:44:00</td>\n",
       "    </tr>\n",
       "    <tr>\n",
       "      <th>228</th>\n",
       "      <td>892405179</td>\n",
       "      <td>United States of America</td>\n",
       "      <td>2017-10-14 19:58:00</td>\n",
       "      <td>2017-10-23 06:07:00</td>\n",
       "      <td>9100</td>\n",
       "      <td>147</td>\n",
       "      <td>promo_09</td>\n",
       "      <td>premium_no_trial</td>\n",
       "      <td>2017-10</td>\n",
       "      <td>8 days 10:09:00</td>\n",
       "    </tr>\n",
       "    <tr>\n",
       "      <th>230</th>\n",
       "      <td>891508155</td>\n",
       "      <td>Latvia</td>\n",
       "      <td>2017-02-11 09:46:00</td>\n",
       "      <td>2017-11-11 20:38:00</td>\n",
       "      <td>6357</td>\n",
       "      <td>147</td>\n",
       "      <td>promo_09</td>\n",
       "      <td>premium_no_trial</td>\n",
       "      <td>2017-11</td>\n",
       "      <td>273 days 10:52:00</td>\n",
       "    </tr>\n",
       "    <tr>\n",
       "      <th>232</th>\n",
       "      <td>891882681</td>\n",
       "      <td>Belgium</td>\n",
       "      <td>2017-10-25 17:25:00</td>\n",
       "      <td>2017-11-11 10:49:00</td>\n",
       "      <td>12597</td>\n",
       "      <td>147</td>\n",
       "      <td>promo_09</td>\n",
       "      <td>premium_no_trial</td>\n",
       "      <td>2017-11</td>\n",
       "      <td>16 days 17:24:00</td>\n",
       "    </tr>\n",
       "    <tr>\n",
       "      <th>265</th>\n",
       "      <td>891572565</td>\n",
       "      <td>United Arab Emirates</td>\n",
       "      <td>2017-10-31 20:40:00</td>\n",
       "      <td>2017-05-11 13:32:00</td>\n",
       "      <td>9217</td>\n",
       "      <td>147</td>\n",
       "      <td>promo_09</td>\n",
       "      <td>premium_no_trial</td>\n",
       "      <td>2017-05</td>\n",
       "      <td>-174 days +16:52:00</td>\n",
       "    </tr>\n",
       "  </tbody>\n",
       "</table>\n",
       "</div>"
      ],
      "text/plain": [
       "           uid                   country           joined_at  \\\n",
       "21   891312873                     Italy 2017-05-11 21:22:00   \n",
       "22   891071157  United States of America 2017-10-11 10:20:00   \n",
       "28   892229262  United States of America 2017-10-18 07:20:00   \n",
       "74   892205850                     Spain 2017-10-18 19:20:00   \n",
       "84   891861489                 Australia 2017-10-26 02:31:00   \n",
       "102  892275204                    Mexico 2017-10-17 06:09:00   \n",
       "129  892217373  United States of America 2017-10-18 14:15:00   \n",
       "144  891806436                     Italy 2017-10-27 08:51:00   \n",
       "197  891603810  United States of America 2017-10-31 06:36:00   \n",
       "222  891867477                     Italy 2017-10-25 23:18:00   \n",
       "228  892405179  United States of America 2017-10-14 19:58:00   \n",
       "230  891508155                    Latvia 2017-02-11 09:46:00   \n",
       "232  891882681                   Belgium 2017-10-25 17:25:00   \n",
       "265  891572565      United Arab Emirates 2017-10-31 20:40:00   \n",
       "\n",
       "                paid_at  revenue  payment_id from_page      product_type  \\\n",
       "21  2017-10-11 21:51:00     7852         147  promo_09  premium_no_trial   \n",
       "22  2017-10-11 16:37:00     9100         147  promo_09  premium_no_trial   \n",
       "28  2017-10-19 04:23:00     9100         147  promo_09  premium_no_trial   \n",
       "74  2017-02-11 00:13:00     5408         147  promo_09  premium_no_trial   \n",
       "84  2017-04-11 02:04:00    12597         147  promo_09  premium_no_trial   \n",
       "102 2017-10-17 15:05:00     6214         147  promo_09  premium_no_trial   \n",
       "129 2017-10-23 22:45:00     7904         147  promo_09  premium_no_trial   \n",
       "144 2017-10-30 17:34:00    12597         147  promo_09  premium_no_trial   \n",
       "197 2017-04-11 09:25:00     9100         147  promo_09  premium_no_trial   \n",
       "222 2017-03-11 19:02:00    12597         147  promo_09  premium_no_trial   \n",
       "228 2017-10-23 06:07:00     9100         147  promo_09  premium_no_trial   \n",
       "230 2017-11-11 20:38:00     6357         147  promo_09  premium_no_trial   \n",
       "232 2017-11-11 10:49:00    12597         147  promo_09  premium_no_trial   \n",
       "265 2017-05-11 13:32:00     9217         147  promo_09  premium_no_trial   \n",
       "\n",
       "    year_month               delta  \n",
       "21     2017-10   153 days 00:29:00  \n",
       "22     2017-10     0 days 06:17:00  \n",
       "28     2017-10     0 days 21:03:00  \n",
       "74     2017-02 -250 days +04:53:00  \n",
       "84     2017-04 -199 days +23:33:00  \n",
       "102    2017-10     0 days 08:56:00  \n",
       "129    2017-10     5 days 08:30:00  \n",
       "144    2017-10     3 days 08:43:00  \n",
       "197    2017-04 -203 days +02:49:00  \n",
       "222    2017-03 -229 days +19:44:00  \n",
       "228    2017-10     8 days 10:09:00  \n",
       "230    2017-11   273 days 10:52:00  \n",
       "232    2017-11    16 days 17:24:00  \n",
       "265    2017-05 -174 days +16:52:00  "
      ]
     },
     "execution_count": 37,
     "metadata": {},
     "output_type": "execute_result"
    }
   ],
   "source": [
    "df[df['from_page']== 'promo_09']"
   ]
  },
  {
   "cell_type": "code",
   "execution_count": 38,
   "metadata": {},
   "outputs": [
    {
     "data": {
      "text/html": [
       "<div>\n",
       "<style scoped>\n",
       "    .dataframe tbody tr th:only-of-type {\n",
       "        vertical-align: middle;\n",
       "    }\n",
       "\n",
       "    .dataframe tbody tr th {\n",
       "        vertical-align: top;\n",
       "    }\n",
       "\n",
       "    .dataframe thead th {\n",
       "        text-align: right;\n",
       "    }\n",
       "</style>\n",
       "<table border=\"1\" class=\"dataframe\">\n",
       "  <thead>\n",
       "    <tr style=\"text-align: right;\">\n",
       "      <th></th>\n",
       "      <th>uid</th>\n",
       "      <th>age</th>\n",
       "      <th>attraction_coeff</th>\n",
       "      <th>coins</th>\n",
       "      <th>country</th>\n",
       "      <th>visit_days</th>\n",
       "      <th>count_of_visit_days</th>\n",
       "      <th>gender</th>\n",
       "      <th>age_filter_start</th>\n",
       "      <th>age_filter_end</th>\n",
       "      <th>views_count</th>\n",
       "      <th>was_premium</th>\n",
       "      <th>is_premium</th>\n",
       "      <th>total_revenue</th>\n",
       "    </tr>\n",
       "  </thead>\n",
       "  <tbody>\n",
       "    <tr>\n",
       "      <th>0</th>\n",
       "      <td>892309896</td>\n",
       "      <td>27</td>\n",
       "      <td>685</td>\n",
       "      <td>0</td>\n",
       "      <td>United States of America</td>\n",
       "      <td>[1, 2, 3, 4, 5, 6, 7, 8, 9, 10, 11, 12, 16, 17]</td>\n",
       "      <td>14</td>\n",
       "      <td>1</td>\n",
       "      <td>24</td>\n",
       "      <td>30</td>\n",
       "      <td>89</td>\n",
       "      <td>0</td>\n",
       "      <td>0</td>\n",
       "      <td>0</td>\n",
       "    </tr>\n",
       "    <tr>\n",
       "      <th>1</th>\n",
       "      <td>892044516</td>\n",
       "      <td>27</td>\n",
       "      <td>0</td>\n",
       "      <td>0</td>\n",
       "      <td>Germany</td>\n",
       "      <td>[0]</td>\n",
       "      <td>0</td>\n",
       "      <td>1</td>\n",
       "      <td>24</td>\n",
       "      <td>30</td>\n",
       "      <td>0</td>\n",
       "      <td>0</td>\n",
       "      <td>0</td>\n",
       "      <td>0</td>\n",
       "    </tr>\n",
       "    <tr>\n",
       "      <th>2</th>\n",
       "      <td>892185708</td>\n",
       "      <td>45</td>\n",
       "      <td>44</td>\n",
       "      <td>0</td>\n",
       "      <td>Israel</td>\n",
       "      <td>[1, 3, 4, 6, 7, 8, 10, 11, 12, 13, 14, 15, 16,...</td>\n",
       "      <td>20</td>\n",
       "      <td>1</td>\n",
       "      <td>42</td>\n",
       "      <td>48</td>\n",
       "      <td>68</td>\n",
       "      <td>0</td>\n",
       "      <td>0</td>\n",
       "      <td>0</td>\n",
       "    </tr>\n",
       "    <tr>\n",
       "      <th>3</th>\n",
       "      <td>892130292</td>\n",
       "      <td>32</td>\n",
       "      <td>0</td>\n",
       "      <td>0</td>\n",
       "      <td>United States of America</td>\n",
       "      <td>[1, 2, 3, 4, 5, 6, 7, 8, 9, 10, 11, 12]</td>\n",
       "      <td>12</td>\n",
       "      <td>1</td>\n",
       "      <td>29</td>\n",
       "      <td>35</td>\n",
       "      <td>0</td>\n",
       "      <td>0</td>\n",
       "      <td>0</td>\n",
       "      <td>0</td>\n",
       "    </tr>\n",
       "    <tr>\n",
       "      <th>4</th>\n",
       "      <td>891406035</td>\n",
       "      <td>27</td>\n",
       "      <td>1000</td>\n",
       "      <td>0</td>\n",
       "      <td>France</td>\n",
       "      <td>[0]</td>\n",
       "      <td>0</td>\n",
       "      <td>1</td>\n",
       "      <td>24</td>\n",
       "      <td>30</td>\n",
       "      <td>1</td>\n",
       "      <td>1</td>\n",
       "      <td>0</td>\n",
       "      <td>0</td>\n",
       "    </tr>\n",
       "    <tr>\n",
       "      <th>...</th>\n",
       "      <td>...</td>\n",
       "      <td>...</td>\n",
       "      <td>...</td>\n",
       "      <td>...</td>\n",
       "      <td>...</td>\n",
       "      <td>...</td>\n",
       "      <td>...</td>\n",
       "      <td>...</td>\n",
       "      <td>...</td>\n",
       "      <td>...</td>\n",
       "      <td>...</td>\n",
       "      <td>...</td>\n",
       "      <td>...</td>\n",
       "      <td>...</td>\n",
       "    </tr>\n",
       "    <tr>\n",
       "      <th>4303</th>\n",
       "      <td>891078639</td>\n",
       "      <td>17</td>\n",
       "      <td>895</td>\n",
       "      <td>0</td>\n",
       "      <td>United States of America</td>\n",
       "      <td>[1, 2, 3, 4, 5]</td>\n",
       "      <td>5</td>\n",
       "      <td>1</td>\n",
       "      <td>16</td>\n",
       "      <td>20</td>\n",
       "      <td>96</td>\n",
       "      <td>0</td>\n",
       "      <td>0</td>\n",
       "      <td>0</td>\n",
       "    </tr>\n",
       "    <tr>\n",
       "      <th>4304</th>\n",
       "      <td>891188733</td>\n",
       "      <td>27</td>\n",
       "      <td>866</td>\n",
       "      <td>0</td>\n",
       "      <td>United States of America</td>\n",
       "      <td>[1, 2, 3]</td>\n",
       "      <td>3</td>\n",
       "      <td>1</td>\n",
       "      <td>18</td>\n",
       "      <td>41</td>\n",
       "      <td>30</td>\n",
       "      <td>0</td>\n",
       "      <td>0</td>\n",
       "      <td>0</td>\n",
       "    </tr>\n",
       "    <tr>\n",
       "      <th>4305</th>\n",
       "      <td>891293718</td>\n",
       "      <td>48</td>\n",
       "      <td>0</td>\n",
       "      <td>0</td>\n",
       "      <td>Argentina</td>\n",
       "      <td>[0]</td>\n",
       "      <td>0</td>\n",
       "      <td>1</td>\n",
       "      <td>47</td>\n",
       "      <td>51</td>\n",
       "      <td>10</td>\n",
       "      <td>0</td>\n",
       "      <td>0</td>\n",
       "      <td>0</td>\n",
       "    </tr>\n",
       "    <tr>\n",
       "      <th>4306</th>\n",
       "      <td>891192357</td>\n",
       "      <td>32</td>\n",
       "      <td>0</td>\n",
       "      <td>0</td>\n",
       "      <td>Australia</td>\n",
       "      <td>[0]</td>\n",
       "      <td>0</td>\n",
       "      <td>1</td>\n",
       "      <td>16</td>\n",
       "      <td>49</td>\n",
       "      <td>0</td>\n",
       "      <td>0</td>\n",
       "      <td>0</td>\n",
       "      <td>0</td>\n",
       "    </tr>\n",
       "    <tr>\n",
       "      <th>4307</th>\n",
       "      <td>891668910</td>\n",
       "      <td>35</td>\n",
       "      <td>575</td>\n",
       "      <td>0</td>\n",
       "      <td>United Arab Emirates</td>\n",
       "      <td>[1]</td>\n",
       "      <td>1</td>\n",
       "      <td>1</td>\n",
       "      <td>16</td>\n",
       "      <td>99</td>\n",
       "      <td>73</td>\n",
       "      <td>0</td>\n",
       "      <td>0</td>\n",
       "      <td>0</td>\n",
       "    </tr>\n",
       "  </tbody>\n",
       "</table>\n",
       "<p>4308 rows × 14 columns</p>\n",
       "</div>"
      ],
      "text/plain": [
       "            uid  age  attraction_coeff  coins                   country  \\\n",
       "0     892309896   27               685      0  United States of America   \n",
       "1     892044516   27                 0      0                   Germany   \n",
       "2     892185708   45                44      0                    Israel   \n",
       "3     892130292   32                 0      0  United States of America   \n",
       "4     891406035   27              1000      0                    France   \n",
       "...         ...  ...               ...    ...                       ...   \n",
       "4303  891078639   17               895      0  United States of America   \n",
       "4304  891188733   27               866      0  United States of America   \n",
       "4305  891293718   48                 0      0                 Argentina   \n",
       "4306  891192357   32                 0      0                 Australia   \n",
       "4307  891668910   35               575      0      United Arab Emirates   \n",
       "\n",
       "                                             visit_days  count_of_visit_days  \\\n",
       "0       [1, 2, 3, 4, 5, 6, 7, 8, 9, 10, 11, 12, 16, 17]                   14   \n",
       "1                                                   [0]                    0   \n",
       "2     [1, 3, 4, 6, 7, 8, 10, 11, 12, 13, 14, 15, 16,...                   20   \n",
       "3               [1, 2, 3, 4, 5, 6, 7, 8, 9, 10, 11, 12]                   12   \n",
       "4                                                   [0]                    0   \n",
       "...                                                 ...                  ...   \n",
       "4303                                    [1, 2, 3, 4, 5]                    5   \n",
       "4304                                          [1, 2, 3]                    3   \n",
       "4305                                                [0]                    0   \n",
       "4306                                                [0]                    0   \n",
       "4307                                                [1]                    1   \n",
       "\n",
       "      gender  age_filter_start  age_filter_end  views_count  was_premium  \\\n",
       "0          1                24              30           89            0   \n",
       "1          1                24              30            0            0   \n",
       "2          1                42              48           68            0   \n",
       "3          1                29              35            0            0   \n",
       "4          1                24              30            1            1   \n",
       "...      ...               ...             ...          ...          ...   \n",
       "4303       1                16              20           96            0   \n",
       "4304       1                18              41           30            0   \n",
       "4305       1                47              51           10            0   \n",
       "4306       1                16              49            0            0   \n",
       "4307       1                16              99           73            0   \n",
       "\n",
       "      is_premium  total_revenue  \n",
       "0              0              0  \n",
       "1              0              0  \n",
       "2              0              0  \n",
       "3              0              0  \n",
       "4              0              0  \n",
       "...          ...            ...  \n",
       "4303           0              0  \n",
       "4304           0              0  \n",
       "4305           0              0  \n",
       "4306           0              0  \n",
       "4307           0              0  \n",
       "\n",
       "[4308 rows x 14 columns]"
      ]
     },
     "execution_count": 38,
     "metadata": {},
     "output_type": "execute_result"
    }
   ],
   "source": [
    "users_test"
   ]
  },
  {
   "cell_type": "code",
   "execution_count": null,
   "metadata": {},
   "outputs": [],
   "source": []
  },
  {
   "cell_type": "code",
   "execution_count": null,
   "metadata": {},
   "outputs": [],
   "source": []
  },
  {
   "cell_type": "code",
   "execution_count": null,
   "metadata": {},
   "outputs": [],
   "source": []
  },
  {
   "cell_type": "code",
   "execution_count": null,
   "metadata": {},
   "outputs": [],
   "source": []
  },
  {
   "cell_type": "code",
   "execution_count": null,
   "metadata": {},
   "outputs": [],
   "source": []
  },
  {
   "cell_type": "code",
   "execution_count": null,
   "metadata": {},
   "outputs": [],
   "source": []
  },
  {
   "cell_type": "code",
   "execution_count": null,
   "metadata": {},
   "outputs": [],
   "source": []
  },
  {
   "cell_type": "code",
   "execution_count": null,
   "metadata": {},
   "outputs": [],
   "source": []
  }
 ],
 "metadata": {
  "kernelspec": {
   "display_name": "Python 3 (ipykernel)",
   "language": "python",
   "name": "python3"
  },
  "language_info": {
   "codemirror_mode": {
    "name": "ipython",
    "version": 3
   },
   "file_extension": ".py",
   "mimetype": "text/x-python",
   "name": "python",
   "nbconvert_exporter": "python",
   "pygments_lexer": "ipython3",
   "version": "3.10.9"
  },
  "toc": {
   "base_numbering": 1,
   "nav_menu": {},
   "number_sections": true,
   "sideBar": true,
   "skip_h1_title": false,
   "title_cell": "Table of Contents",
   "title_sidebar": "Contents",
   "toc_cell": false,
   "toc_position": {
    "height": "calc(100% - 180px)",
    "left": "10px",
    "top": "150px",
    "width": "165px"
   },
   "toc_section_display": true,
   "toc_window_display": false
  },
  "varInspector": {
   "cols": {
    "lenName": 16,
    "lenType": 16,
    "lenVar": 40
   },
   "kernels_config": {
    "python": {
     "delete_cmd_postfix": "",
     "delete_cmd_prefix": "del ",
     "library": "var_list.py",
     "varRefreshCmd": "print(var_dic_list())"
    },
    "r": {
     "delete_cmd_postfix": ") ",
     "delete_cmd_prefix": "rm(",
     "library": "var_list.r",
     "varRefreshCmd": "cat(var_dic_list()) "
    }
   },
   "types_to_exclude": [
    "module",
    "function",
    "builtin_function_or_method",
    "instance",
    "_Feature"
   ],
   "window_display": false
  }
 },
 "nbformat": 4,
 "nbformat_minor": 2
}
